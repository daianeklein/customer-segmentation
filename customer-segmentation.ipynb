{
 "cells": [
  {
   "cell_type": "markdown",
   "id": "321573c0",
   "metadata": {},
   "source": [
    "# CUSTOMER SEGMENTATION\n",
    "\n",
    "***\n",
    "\n",
    "## ONLINE RETAIL DATASET\n"
   ]
  },
  {
   "cell_type": "markdown",
   "id": "5728a633",
   "metadata": {},
   "source": [
    "<img src=\"https://img.freepik.com/free-vector/postman-giving-parcel-customer-post-office_74855-4811.jpg\" width=\"626\" height=\"250\" >"
   ]
  },
  {
   "cell_type": "markdown",
   "id": "accf49cc",
   "metadata": {},
   "source": [
    "At vero eos et accusamus et iusto odio dignissimos ducimus qui blanditiis praesentium voluptatum deleniti atque corrupti quos dolores et quas molestias excepturi sint occaecati cupiditate non provident, similique sunt in culpa qui officia deserunt mollitia animi, id est laborum et dolorum fuga. Et harum quidem rerum facilis est et expedita \n",
    "\n",
    "distinctio. Nam libero tempore, cum soluta nobis est eligendi optio cumque nihil impedit quo minus id quod maxime placeat facere possimus, omnis voluptas assumenda est, omnis dolor repellendus. Temporibus autem quibusdam et aut \n",
    "\n",
    "officiis debitis aut rerum necessitatibus saepe eveniet ut et voluptates repudiandae sint et molestiae non recusandae. Itaque earum rerum hic tenetur a sapiente delectus, ut aut reiciendis voluptatibus maiores alias consequatur aut perferendis doloribus asperiores repellat."
   ]
  },
  {
   "cell_type": "markdown",
   "id": "dd548b2f",
   "metadata": {},
   "source": [
    "# FUNCTIONS"
   ]
  },
  {
   "cell_type": "code",
   "execution_count": 1,
   "id": "416fe1fa",
   "metadata": {
    "ExecuteTime": {
     "end_time": "2022-06-07T01:19:36.209429Z",
     "start_time": "2022-06-07T01:19:36.205055Z"
    }
   },
   "outputs": [],
   "source": [
    "def set_chart_settings(title):\n",
    "    \n",
    "    plt.title(title)\n",
    "    sns.despine(bottom = True, left = True)"
   ]
  },
  {
   "cell_type": "markdown",
   "id": "a01c36ae",
   "metadata": {},
   "source": [
    "# LIBS "
   ]
  },
  {
   "cell_type": "code",
   "execution_count": 77,
   "id": "854bc6f6",
   "metadata": {
    "ExecuteTime": {
     "end_time": "2022-06-07T01:42:05.880314Z",
     "start_time": "2022-06-07T01:42:05.478541Z"
    }
   },
   "outputs": [],
   "source": [
    "import pandas                   as pd\n",
    "import seaborn                  as sns\n",
    "import matplotlib.pyplot        as plt\n",
    "import numpy                    as np\n",
    "\n",
    "import datetime\n",
    "\n",
    "from sklearn.cluster import KMeans\n"
   ]
  },
  {
   "cell_type": "markdown",
   "id": "f5a28db1",
   "metadata": {
    "heading_collapsed": true
   },
   "source": [
    "# DATASET"
   ]
  },
  {
   "cell_type": "code",
   "execution_count": 3,
   "id": "8bf4c39f",
   "metadata": {
    "ExecuteTime": {
     "end_time": "2022-06-07T01:19:39.192315Z",
     "start_time": "2022-06-07T01:19:38.492392Z"
    },
    "hidden": true
   },
   "outputs": [
    {
     "data": {
      "text/html": [
       "<div>\n",
       "<style scoped>\n",
       "    .dataframe tbody tr th:only-of-type {\n",
       "        vertical-align: middle;\n",
       "    }\n",
       "\n",
       "    .dataframe tbody tr th {\n",
       "        vertical-align: top;\n",
       "    }\n",
       "\n",
       "    .dataframe thead th {\n",
       "        text-align: right;\n",
       "    }\n",
       "</style>\n",
       "<table border=\"1\" class=\"dataframe\">\n",
       "  <thead>\n",
       "    <tr style=\"text-align: right;\">\n",
       "      <th></th>\n",
       "      <th>InvoiceNo</th>\n",
       "      <th>StockCode</th>\n",
       "      <th>Description</th>\n",
       "      <th>Quantity</th>\n",
       "      <th>InvoiceDate</th>\n",
       "      <th>UnitPrice</th>\n",
       "      <th>CustomerID</th>\n",
       "      <th>Country</th>\n",
       "    </tr>\n",
       "  </thead>\n",
       "  <tbody>\n",
       "    <tr>\n",
       "      <th>0</th>\n",
       "      <td>536365</td>\n",
       "      <td>85123A</td>\n",
       "      <td>WHITE HANGING HEART T-LIGHT HOLDER</td>\n",
       "      <td>6</td>\n",
       "      <td>12/1/2010 8:26</td>\n",
       "      <td>2.55</td>\n",
       "      <td>17850.0</td>\n",
       "      <td>United Kingdom</td>\n",
       "    </tr>\n",
       "    <tr>\n",
       "      <th>1</th>\n",
       "      <td>536365</td>\n",
       "      <td>71053</td>\n",
       "      <td>WHITE METAL LANTERN</td>\n",
       "      <td>6</td>\n",
       "      <td>12/1/2010 8:26</td>\n",
       "      <td>3.39</td>\n",
       "      <td>17850.0</td>\n",
       "      <td>United Kingdom</td>\n",
       "    </tr>\n",
       "    <tr>\n",
       "      <th>2</th>\n",
       "      <td>536365</td>\n",
       "      <td>84406B</td>\n",
       "      <td>CREAM CUPID HEARTS COAT HANGER</td>\n",
       "      <td>8</td>\n",
       "      <td>12/1/2010 8:26</td>\n",
       "      <td>2.75</td>\n",
       "      <td>17850.0</td>\n",
       "      <td>United Kingdom</td>\n",
       "    </tr>\n",
       "    <tr>\n",
       "      <th>3</th>\n",
       "      <td>536365</td>\n",
       "      <td>84029G</td>\n",
       "      <td>KNITTED UNION FLAG HOT WATER BOTTLE</td>\n",
       "      <td>6</td>\n",
       "      <td>12/1/2010 8:26</td>\n",
       "      <td>3.39</td>\n",
       "      <td>17850.0</td>\n",
       "      <td>United Kingdom</td>\n",
       "    </tr>\n",
       "    <tr>\n",
       "      <th>4</th>\n",
       "      <td>536365</td>\n",
       "      <td>84029E</td>\n",
       "      <td>RED WOOLLY HOTTIE WHITE HEART.</td>\n",
       "      <td>6</td>\n",
       "      <td>12/1/2010 8:26</td>\n",
       "      <td>3.39</td>\n",
       "      <td>17850.0</td>\n",
       "      <td>United Kingdom</td>\n",
       "    </tr>\n",
       "  </tbody>\n",
       "</table>\n",
       "</div>"
      ],
      "text/plain": [
       "  InvoiceNo StockCode                          Description  Quantity  \\\n",
       "0    536365    85123A   WHITE HANGING HEART T-LIGHT HOLDER         6   \n",
       "1    536365     71053                  WHITE METAL LANTERN         6   \n",
       "2    536365    84406B       CREAM CUPID HEARTS COAT HANGER         8   \n",
       "3    536365    84029G  KNITTED UNION FLAG HOT WATER BOTTLE         6   \n",
       "4    536365    84029E       RED WOOLLY HOTTIE WHITE HEART.         6   \n",
       "\n",
       "      InvoiceDate  UnitPrice  CustomerID         Country  \n",
       "0  12/1/2010 8:26       2.55     17850.0  United Kingdom  \n",
       "1  12/1/2010 8:26       3.39     17850.0  United Kingdom  \n",
       "2  12/1/2010 8:26       2.75     17850.0  United Kingdom  \n",
       "3  12/1/2010 8:26       3.39     17850.0  United Kingdom  \n",
       "4  12/1/2010 8:26       3.39     17850.0  United Kingdom  "
      ]
     },
     "execution_count": 3,
     "metadata": {},
     "output_type": "execute_result"
    }
   ],
   "source": [
    "df = pd.read_csv('data.csv', encoding = 'latin-1')\n",
    "df.head()"
   ]
  },
  {
   "cell_type": "code",
   "execution_count": 4,
   "id": "dddeb821",
   "metadata": {
    "ExecuteTime": {
     "end_time": "2022-06-07T01:19:39.203149Z",
     "start_time": "2022-06-07T01:19:39.195724Z"
    },
    "hidden": true
   },
   "outputs": [
    {
     "data": {
      "text/plain": [
       "(541909, 8)"
      ]
     },
     "execution_count": 4,
     "metadata": {},
     "output_type": "execute_result"
    }
   ],
   "source": [
    "df.shape"
   ]
  },
  {
   "cell_type": "markdown",
   "id": "433f4cd9",
   "metadata": {},
   "source": [
    "# DATA ANALYSIS "
   ]
  },
  {
   "cell_type": "markdown",
   "id": "31c688ff",
   "metadata": {
    "heading_collapsed": true
   },
   "source": [
    "## GENERAL ANALYSIS"
   ]
  },
  {
   "cell_type": "code",
   "execution_count": 5,
   "id": "3c2112b9",
   "metadata": {
    "ExecuteTime": {
     "end_time": "2022-06-07T01:19:39.223206Z",
     "start_time": "2022-06-07T01:19:39.212578Z"
    },
    "hidden": true
   },
   "outputs": [
    {
     "data": {
      "text/plain": [
       "InvoiceNo       object\n",
       "StockCode       object\n",
       "Description     object\n",
       "Quantity         int64\n",
       "InvoiceDate     object\n",
       "UnitPrice      float64\n",
       "CustomerID     float64\n",
       "Country         object\n",
       "dtype: object"
      ]
     },
     "execution_count": 5,
     "metadata": {},
     "output_type": "execute_result"
    }
   ],
   "source": [
    "df.dtypes"
   ]
  },
  {
   "cell_type": "code",
   "execution_count": 6,
   "id": "492438c3",
   "metadata": {
    "ExecuteTime": {
     "end_time": "2022-06-07T01:19:42.322486Z",
     "start_time": "2022-06-07T01:19:39.230972Z"
    },
    "hidden": true
   },
   "outputs": [],
   "source": [
    "df['InvoiceDate'] = df['InvoiceDate'].astype('datetime64')"
   ]
  },
  {
   "cell_type": "code",
   "execution_count": 7,
   "id": "8d35a0a2",
   "metadata": {
    "ExecuteTime": {
     "end_time": "2022-06-07T01:19:42.451016Z",
     "start_time": "2022-06-07T01:19:42.324620Z"
    },
    "hidden": true,
    "scrolled": true
   },
   "outputs": [
    {
     "data": {
      "text/plain": [
       "InvoiceNo           0\n",
       "StockCode           0\n",
       "Description      1454\n",
       "Quantity            0\n",
       "InvoiceDate         0\n",
       "UnitPrice           0\n",
       "CustomerID     135080\n",
       "Country             0\n",
       "dtype: int64"
      ]
     },
     "execution_count": 7,
     "metadata": {},
     "output_type": "execute_result"
    }
   ],
   "source": [
    "df.isna().sum()"
   ]
  },
  {
   "cell_type": "code",
   "execution_count": 8,
   "id": "52028d01",
   "metadata": {
    "ExecuteTime": {
     "end_time": "2022-06-07T01:19:42.511087Z",
     "start_time": "2022-06-07T01:19:42.453584Z"
    },
    "hidden": true,
    "scrolled": false
   },
   "outputs": [
    {
     "data": {
      "text/plain": [
       "Country\n",
       "United Kingdom          361878\n",
       "Germany                   9495\n",
       "France                    8491\n",
       "EIRE                      7485\n",
       "Spain                     2533\n",
       "Netherlands               2371\n",
       "Belgium                   2069\n",
       "Switzerland               1877\n",
       "Portugal                  1480\n",
       "Australia                 1259\n",
       "Norway                    1086\n",
       "Italy                      803\n",
       "Channel Islands            758\n",
       "Finland                    695\n",
       "Cyprus                     622\n",
       "Sweden                     462\n",
       "Austria                    401\n",
       "Denmark                    389\n",
       "Japan                      358\n",
       "Poland                     341\n",
       "USA                        291\n",
       "Israel                     250\n",
       "Unspecified                244\n",
       "Singapore                  229\n",
       "Iceland                    182\n",
       "Canada                     151\n",
       "Greece                     146\n",
       "Malta                      127\n",
       "United Arab Emirates        68\n",
       "European Community          61\n",
       "RSA                         58\n",
       "Lebanon                     45\n",
       "Lithuania                   35\n",
       "Brazil                      32\n",
       "Czech Republic              30\n",
       "Bahrain                     17\n",
       "Saudi Arabia                10\n",
       "Hong Kong                    0\n",
       "Name: CustomerID, dtype: int64"
      ]
     },
     "execution_count": 8,
     "metadata": {},
     "output_type": "execute_result"
    }
   ],
   "source": [
    "df.groupby('Country')['CustomerID'].count().sort_values(ascending = False)"
   ]
  },
  {
   "cell_type": "code",
   "execution_count": 9,
   "id": "95ee417e",
   "metadata": {
    "ExecuteTime": {
     "end_time": "2022-06-07T01:19:42.573931Z",
     "start_time": "2022-06-07T01:19:42.513808Z"
    },
    "hidden": true,
    "scrolled": false
   },
   "outputs": [
    {
     "data": {
      "text/plain": [
       "United Kingdom          0.914320\n",
       "Germany                 0.017521\n",
       "France                  0.015790\n",
       "EIRE                    0.015124\n",
       "Spain                   0.004674\n",
       "Netherlands             0.004375\n",
       "Belgium                 0.003818\n",
       "Switzerland             0.003694\n",
       "Portugal                0.002803\n",
       "Australia               0.002323\n",
       "Norway                  0.002004\n",
       "Italy                   0.001482\n",
       "Channel Islands         0.001399\n",
       "Finland                 0.001283\n",
       "Cyprus                  0.001148\n",
       "Sweden                  0.000853\n",
       "Unspecified             0.000823\n",
       "Austria                 0.000740\n",
       "Denmark                 0.000718\n",
       "Japan                   0.000661\n",
       "Poland                  0.000629\n",
       "Israel                  0.000548\n",
       "USA                     0.000537\n",
       "Hong Kong               0.000531\n",
       "Singapore               0.000423\n",
       "Iceland                 0.000336\n",
       "Canada                  0.000279\n",
       "Greece                  0.000269\n",
       "Malta                   0.000234\n",
       "United Arab Emirates    0.000125\n",
       "European Community      0.000113\n",
       "RSA                     0.000107\n",
       "Lebanon                 0.000083\n",
       "Lithuania               0.000065\n",
       "Brazil                  0.000059\n",
       "Czech Republic          0.000055\n",
       "Bahrain                 0.000035\n",
       "Saudi Arabia            0.000018\n",
       "Name: Country, dtype: float64"
      ]
     },
     "execution_count": 9,
     "metadata": {},
     "output_type": "execute_result"
    }
   ],
   "source": [
    "df['Country'].value_counts(normalize = True)"
   ]
  },
  {
   "cell_type": "markdown",
   "id": "021a0aee",
   "metadata": {
    "hidden": true
   },
   "source": [
    "***\n",
    "\n",
    "More than 90% of the data is from UK sales, so, we're going to restrict the data to the United Kingdom only.\n",
    "\n",
    "\n",
    "As we could see in the previous snippet, null customer ID represents 135.080 records. Our analysis is based on clients, so we're going to drop all missing values in this column as well."
   ]
  },
  {
   "cell_type": "code",
   "execution_count": 10,
   "id": "5de241dd",
   "metadata": {
    "ExecuteTime": {
     "end_time": "2022-06-07T01:19:42.725185Z",
     "start_time": "2022-06-07T01:19:42.576255Z"
    },
    "hidden": true
   },
   "outputs": [],
   "source": [
    "df = df[df['Country'] == 'United Kingdom']\n",
    "\n",
    "# removing null values\n",
    "df = df[~df['CustomerID'].isnull()]"
   ]
  },
  {
   "cell_type": "code",
   "execution_count": 11,
   "id": "8c45a982",
   "metadata": {
    "ExecuteTime": {
     "end_time": "2022-06-07T01:19:42.748323Z",
     "start_time": "2022-06-07T01:19:42.732459Z"
    },
    "hidden": true,
    "scrolled": false
   },
   "outputs": [
    {
     "name": "stdout",
     "output_type": "stream",
     "text": [
      "2010-12-01 08:26:00\n",
      "2011-12-09 12:49:00\n",
      "0.0\n",
      "38970.0\n"
     ]
    }
   ],
   "source": [
    "# checking negative values or incorrect dates\n",
    "print(df['InvoiceDate'].min())\n",
    "print(df['InvoiceDate'].max())\n",
    "\n",
    "print(df['UnitPrice'].min())\n",
    "print(df['UnitPrice'].max())"
   ]
  },
  {
   "cell_type": "code",
   "execution_count": 12,
   "id": "8a8421d9",
   "metadata": {
    "ExecuteTime": {
     "end_time": "2022-06-07T01:19:42.765071Z",
     "start_time": "2022-06-07T01:19:42.751358Z"
    },
    "hidden": true
   },
   "outputs": [
    {
     "name": "stdout",
     "output_type": "stream",
     "text": [
      "-80995 80995\n",
      "(7533, 8)\n",
      "(361878, 8)\n"
     ]
    }
   ],
   "source": [
    "print(df['Quantity'].min(), df['Quantity'].max())\n",
    "print(df[df['Quantity'] < 0].shape)\n",
    "print(df.shape)"
   ]
  },
  {
   "cell_type": "markdown",
   "id": "f89cd092",
   "metadata": {
    "ExecuteTime": {
     "end_time": "2022-06-01T00:25:39.476903Z",
     "start_time": "2022-06-01T00:25:39.451276Z"
    },
    "hidden": true
   },
   "source": [
    "***\n",
    "\n",
    "As we can see, there're 7.533 negative values in quantity column. It's clear that're wrong numbers.\n",
    "Before dropping them or replacing by other numbers, let's analyze some basic descriptive statistics."
   ]
  },
  {
   "cell_type": "code",
   "execution_count": 13,
   "id": "9770394e",
   "metadata": {
    "ExecuteTime": {
     "end_time": "2022-06-07T01:19:42.791527Z",
     "start_time": "2022-06-07T01:19:42.769381Z"
    },
    "hidden": true,
    "scrolled": false
   },
   "outputs": [
    {
     "data": {
      "text/plain": [
       "count    361878.000000\n",
       "mean         11.077029\n",
       "std         263.129266\n",
       "min      -80995.000000\n",
       "25%           2.000000\n",
       "50%           4.000000\n",
       "75%          12.000000\n",
       "max       80995.000000\n",
       "Name: Quantity, dtype: float64"
      ]
     },
     "execution_count": 13,
     "metadata": {},
     "output_type": "execute_result"
    }
   ],
   "source": [
    "df['Quantity'].describe()"
   ]
  },
  {
   "cell_type": "code",
   "execution_count": 14,
   "id": "09ff1ade",
   "metadata": {
    "ExecuteTime": {
     "end_time": "2022-06-07T01:19:42.895804Z",
     "start_time": "2022-06-07T01:19:42.794494Z"
    },
    "hidden": true
   },
   "outputs": [
    {
     "data": {
      "text/html": [
       "<div>\n",
       "<style scoped>\n",
       "    .dataframe tbody tr th:only-of-type {\n",
       "        vertical-align: middle;\n",
       "    }\n",
       "\n",
       "    .dataframe tbody tr th {\n",
       "        vertical-align: top;\n",
       "    }\n",
       "\n",
       "    .dataframe thead th {\n",
       "        text-align: right;\n",
       "    }\n",
       "</style>\n",
       "<table border=\"1\" class=\"dataframe\">\n",
       "  <thead>\n",
       "    <tr style=\"text-align: right;\">\n",
       "      <th></th>\n",
       "      <th>Quantity</th>\n",
       "      <th>UnitPrice</th>\n",
       "      <th>CustomerID</th>\n",
       "    </tr>\n",
       "  </thead>\n",
       "  <tbody>\n",
       "    <tr>\n",
       "      <th>count</th>\n",
       "      <td>354345.000000</td>\n",
       "      <td>354345.000000</td>\n",
       "      <td>354345.000000</td>\n",
       "    </tr>\n",
       "    <tr>\n",
       "      <th>mean</th>\n",
       "      <td>12.048913</td>\n",
       "      <td>2.963793</td>\n",
       "      <td>15552.436219</td>\n",
       "    </tr>\n",
       "    <tr>\n",
       "      <th>std</th>\n",
       "      <td>190.428127</td>\n",
       "      <td>17.862067</td>\n",
       "      <td>1594.546025</td>\n",
       "    </tr>\n",
       "    <tr>\n",
       "      <th>min</th>\n",
       "      <td>1.000000</td>\n",
       "      <td>0.000000</td>\n",
       "      <td>12346.000000</td>\n",
       "    </tr>\n",
       "    <tr>\n",
       "      <th>25%</th>\n",
       "      <td>2.000000</td>\n",
       "      <td>1.250000</td>\n",
       "      <td>14194.000000</td>\n",
       "    </tr>\n",
       "    <tr>\n",
       "      <th>50%</th>\n",
       "      <td>4.000000</td>\n",
       "      <td>1.950000</td>\n",
       "      <td>15522.000000</td>\n",
       "    </tr>\n",
       "    <tr>\n",
       "      <th>75%</th>\n",
       "      <td>12.000000</td>\n",
       "      <td>3.750000</td>\n",
       "      <td>16931.000000</td>\n",
       "    </tr>\n",
       "    <tr>\n",
       "      <th>max</th>\n",
       "      <td>80995.000000</td>\n",
       "      <td>8142.750000</td>\n",
       "      <td>18287.000000</td>\n",
       "    </tr>\n",
       "  </tbody>\n",
       "</table>\n",
       "</div>"
      ],
      "text/plain": [
       "            Quantity      UnitPrice     CustomerID\n",
       "count  354345.000000  354345.000000  354345.000000\n",
       "mean       12.048913       2.963793   15552.436219\n",
       "std       190.428127      17.862067    1594.546025\n",
       "min         1.000000       0.000000   12346.000000\n",
       "25%         2.000000       1.250000   14194.000000\n",
       "50%         4.000000       1.950000   15522.000000\n",
       "75%        12.000000       3.750000   16931.000000\n",
       "max     80995.000000    8142.750000   18287.000000"
      ]
     },
     "execution_count": 14,
     "metadata": {},
     "output_type": "execute_result"
    }
   ],
   "source": [
    "df[df['Quantity'] > 0].describe()"
   ]
  },
  {
   "cell_type": "code",
   "execution_count": 15,
   "id": "e207790f",
   "metadata": {
    "ExecuteTime": {
     "end_time": "2022-06-07T01:19:42.910416Z",
     "start_time": "2022-06-07T01:19:42.898479Z"
    },
    "hidden": true,
    "scrolled": false
   },
   "outputs": [
    {
     "data": {
      "text/plain": [
       "1     71401\n",
       "2     54798\n",
       "12    49710\n",
       "6     32181\n",
       "4     28726\n",
       "3     25159\n",
       "24    19702\n",
       "10    18446\n",
       "8      9527\n",
       "5      7707\n",
       "Name: Quantity, dtype: int64"
      ]
     },
     "execution_count": 15,
     "metadata": {},
     "output_type": "execute_result"
    }
   ],
   "source": [
    "df['Quantity'].value_counts().head(10)"
   ]
  },
  {
   "cell_type": "code",
   "execution_count": 16,
   "id": "b6a82ae7",
   "metadata": {
    "ExecuteTime": {
     "end_time": "2022-06-07T01:19:43.328848Z",
     "start_time": "2022-06-07T01:19:42.912941Z"
    },
    "hidden": true,
    "scrolled": false
   },
   "outputs": [
    {
     "data": {
      "image/png": "[encoded data removed]",
      "text/plain": [
       "<Figure size 432x288 with 1 Axes>"
      ]
     },
     "metadata": {
      "needs_background": "light"
     },
     "output_type": "display_data"
    }
   ],
   "source": [
    "sns.histplot(data = df[(df['Quantity'] > 0) & (df['Quantity'] < 1000)], x = 'Quantity', bins = 50)\n",
    "set_chart_settings('Histogram - Quantity')"
   ]
  },
  {
   "cell_type": "code",
   "execution_count": 17,
   "id": "0f977fec",
   "metadata": {
    "ExecuteTime": {
     "end_time": "2022-06-07T01:19:43.354133Z",
     "start_time": "2022-06-07T01:19:43.332103Z"
    },
    "hidden": true
   },
   "outputs": [
    {
     "name": "stdout",
     "output_type": "stream",
     "text": [
      "7533 3289 357 236 97\n"
     ]
    }
   ],
   "source": [
    "print(df[df['Quantity'] < 0].shape[0],\n",
    "df[df['Quantity'] > 100].shape[0],\n",
    "df[df['Quantity'] > 500].shape[0],\n",
    "df[df['Quantity'] > 600].shape[0],\n",
    "df[df['Quantity'] > 1000].shape[0])"
   ]
  },
  {
   "cell_type": "code",
   "execution_count": 18,
   "id": "a4e08c07",
   "metadata": {
    "ExecuteTime": {
     "end_time": "2022-06-07T01:19:43.371322Z",
     "start_time": "2022-06-07T01:19:43.357320Z"
    },
    "hidden": true
   },
   "outputs": [
    {
     "data": {
      "text/plain": [
       "-1     3331\n",
       "-2     1115\n",
       "-3      472\n",
       "-12     409\n",
       "-4      386\n",
       "-6      366\n",
       "-24     195\n",
       "-5      159\n",
       "-10     134\n",
       "-8      129\n",
       "Name: Quantity, dtype: int64"
      ]
     },
     "execution_count": 18,
     "metadata": {},
     "output_type": "execute_result"
    }
   ],
   "source": [
    "df[df['Quantity'] < 0]['Quantity'].value_counts().head(10)\n"
   ]
  },
  {
   "cell_type": "markdown",
   "id": "db41c65e",
   "metadata": {
    "hidden": true
   },
   "source": [
    "***\n",
    "\n",
    "Negative values are pretty similar to positive ones. Looks like they were mistyped, so, as a faster solution, we're going to replace all negative values by positive values, using abs() function."
   ]
  },
  {
   "cell_type": "code",
   "execution_count": 19,
   "id": "d12755d4",
   "metadata": {
    "ExecuteTime": {
     "end_time": "2022-06-07T01:19:43.525719Z",
     "start_time": "2022-06-07T01:19:43.376027Z"
    },
    "hidden": true
   },
   "outputs": [],
   "source": [
    "df['Quantity'] = df['Quantity'].apply(lambda x: abs(x) if x < 0\n",
    "                    else x)"
   ]
  },
  {
   "cell_type": "code",
   "execution_count": 20,
   "id": "ba2b231f",
   "metadata": {
    "ExecuteTime": {
     "end_time": "2022-06-07T01:19:43.536602Z",
     "start_time": "2022-06-07T01:19:43.528018Z"
    },
    "hidden": true
   },
   "outputs": [
    {
     "name": "stdout",
     "output_type": "stream",
     "text": [
      "1 80995\n",
      "0\n",
      "361878\n"
     ]
    }
   ],
   "source": [
    "print(df['Quantity'].min(), df['Quantity'].max())\n",
    "print(df[df['Quantity'] < 0].shape[0])\n",
    "print(df.shape[0])"
   ]
  },
  {
   "cell_type": "markdown",
   "id": "5b4f2497",
   "metadata": {
    "ExecuteTime": {
     "end_time": "2022-05-30T20:41:11.554021Z",
     "start_time": "2022-05-30T20:41:11.530906Z"
    }
   },
   "source": [
    "## DATA ANALYSIS"
   ]
  },
  {
   "cell_type": "code",
   "execution_count": 21,
   "id": "9e9bfab3",
   "metadata": {
    "ExecuteTime": {
     "end_time": "2022-06-07T01:19:43.558994Z",
     "start_time": "2022-06-07T01:19:43.539607Z"
    }
   },
   "outputs": [],
   "source": [
    "df1 = df.copy(deep = True)"
   ]
  },
  {
   "cell_type": "markdown",
   "id": "6ddf6c02",
   "metadata": {},
   "source": [
    "***\n",
    "\n",
    "We're going to create a revenue column:\n",
    "\n",
    "Quantity sold * Unit Price"
   ]
  },
  {
   "cell_type": "code",
   "execution_count": 22,
   "id": "c918319b",
   "metadata": {
    "ExecuteTime": {
     "end_time": "2022-06-07T01:19:43.612125Z",
     "start_time": "2022-06-07T01:19:43.561575Z"
    }
   },
   "outputs": [
    {
     "data": {
      "text/html": [
       "<div>\n",
       "<style scoped>\n",
       "    .dataframe tbody tr th:only-of-type {\n",
       "        vertical-align: middle;\n",
       "    }\n",
       "\n",
       "    .dataframe tbody tr th {\n",
       "        vertical-align: top;\n",
       "    }\n",
       "\n",
       "    .dataframe thead th {\n",
       "        text-align: right;\n",
       "    }\n",
       "</style>\n",
       "<table border=\"1\" class=\"dataframe\">\n",
       "  <thead>\n",
       "    <tr style=\"text-align: right;\">\n",
       "      <th></th>\n",
       "      <th>InvoiceNo</th>\n",
       "      <th>StockCode</th>\n",
       "      <th>Description</th>\n",
       "      <th>Quantity</th>\n",
       "      <th>InvoiceDate</th>\n",
       "      <th>UnitPrice</th>\n",
       "      <th>CustomerID</th>\n",
       "      <th>Country</th>\n",
       "      <th>revenue</th>\n",
       "    </tr>\n",
       "  </thead>\n",
       "  <tbody>\n",
       "    <tr>\n",
       "      <th>70869</th>\n",
       "      <td>542105</td>\n",
       "      <td>22674</td>\n",
       "      <td>FRENCH TOILET SIGN BLUE METAL</td>\n",
       "      <td>4</td>\n",
       "      <td>2011-01-25 13:35:00</td>\n",
       "      <td>1.25</td>\n",
       "      <td>12854.0</td>\n",
       "      <td>United Kingdom</td>\n",
       "      <td>5.00</td>\n",
       "    </tr>\n",
       "    <tr>\n",
       "      <th>303798</th>\n",
       "      <td>563555</td>\n",
       "      <td>22348</td>\n",
       "      <td>TEA BAG PLATE RED RETROSPOT</td>\n",
       "      <td>3</td>\n",
       "      <td>2011-08-17 13:21:00</td>\n",
       "      <td>0.85</td>\n",
       "      <td>16755.0</td>\n",
       "      <td>United Kingdom</td>\n",
       "      <td>2.55</td>\n",
       "    </tr>\n",
       "    <tr>\n",
       "      <th>423398</th>\n",
       "      <td>573140</td>\n",
       "      <td>23201</td>\n",
       "      <td>JUMBO BAG ALPHABET</td>\n",
       "      <td>20</td>\n",
       "      <td>2011-10-27 17:34:00</td>\n",
       "      <td>2.08</td>\n",
       "      <td>15955.0</td>\n",
       "      <td>United Kingdom</td>\n",
       "      <td>41.60</td>\n",
       "    </tr>\n",
       "    <tr>\n",
       "      <th>211974</th>\n",
       "      <td>555400</td>\n",
       "      <td>22824</td>\n",
       "      <td>3 TIER SWEETHEART GARDEN SHELF</td>\n",
       "      <td>1</td>\n",
       "      <td>2011-06-02 17:50:00</td>\n",
       "      <td>32.95</td>\n",
       "      <td>14088.0</td>\n",
       "      <td>United Kingdom</td>\n",
       "      <td>32.95</td>\n",
       "    </tr>\n",
       "    <tr>\n",
       "      <th>59566</th>\n",
       "      <td>541293</td>\n",
       "      <td>21245</td>\n",
       "      <td>GREEN POLKADOT PLATE</td>\n",
       "      <td>1</td>\n",
       "      <td>2011-01-17 13:39:00</td>\n",
       "      <td>1.69</td>\n",
       "      <td>15311.0</td>\n",
       "      <td>United Kingdom</td>\n",
       "      <td>1.69</td>\n",
       "    </tr>\n",
       "  </tbody>\n",
       "</table>\n",
       "</div>"
      ],
      "text/plain": [
       "       InvoiceNo StockCode                     Description  Quantity  \\\n",
       "70869     542105     22674   FRENCH TOILET SIGN BLUE METAL         4   \n",
       "303798    563555     22348     TEA BAG PLATE RED RETROSPOT         3   \n",
       "423398    573140     23201              JUMBO BAG ALPHABET        20   \n",
       "211974    555400     22824  3 TIER SWEETHEART GARDEN SHELF         1   \n",
       "59566     541293     21245           GREEN POLKADOT PLATE          1   \n",
       "\n",
       "               InvoiceDate  UnitPrice  CustomerID         Country  revenue  \n",
       "70869  2011-01-25 13:35:00       1.25     12854.0  United Kingdom     5.00  \n",
       "303798 2011-08-17 13:21:00       0.85     16755.0  United Kingdom     2.55  \n",
       "423398 2011-10-27 17:34:00       2.08     15955.0  United Kingdom    41.60  \n",
       "211974 2011-06-02 17:50:00      32.95     14088.0  United Kingdom    32.95  \n",
       "59566  2011-01-17 13:39:00       1.69     15311.0  United Kingdom     1.69  "
      ]
     },
     "execution_count": 22,
     "metadata": {},
     "output_type": "execute_result"
    }
   ],
   "source": [
    "df1['revenue'] = df1['Quantity'] * df1['UnitPrice']\n",
    "df1.sample(5)"
   ]
  },
  {
   "cell_type": "markdown",
   "id": "56f94b7d",
   "metadata": {},
   "source": [
    "***\n",
    "\n",
    "From InvoiceDate column, we can create some features as day of the week, day name, whether is workday or not, periodof the day, holiday, etc.\n",
    "\n",
    "In this notebook, we're going to create 3 more features, as following:\n",
    "\n",
    "1 - Name of the day\n",
    "\n",
    "2 - Workweek x weekend\n",
    "\n",
    "4 - Day period"
   ]
  },
  {
   "cell_type": "code",
   "execution_count": 23,
   "id": "7950904c",
   "metadata": {
    "ExecuteTime": {
     "end_time": "2022-06-07T01:19:43.922911Z",
     "start_time": "2022-06-07T01:19:43.614428Z"
    }
   },
   "outputs": [],
   "source": [
    "# \"spliting\" date and hour\n",
    "df1['date'] = df1['InvoiceDate'].dt.date\n",
    "df1['time'] = df1['InvoiceDate'].dt.time"
   ]
  },
  {
   "cell_type": "code",
   "execution_count": 24,
   "id": "4d06b142",
   "metadata": {
    "ExecuteTime": {
     "end_time": "2022-06-07T01:19:48.226460Z",
     "start_time": "2022-06-07T01:19:43.925026Z"
    }
   },
   "outputs": [],
   "source": [
    "# day of the week\n",
    "df1['day_of_week'] = df1['InvoiceDate'].apply(lambda x: x.strftime('%A'))"
   ]
  },
  {
   "cell_type": "code",
   "execution_count": 25,
   "id": "6d0ceb53",
   "metadata": {
    "ExecuteTime": {
     "end_time": "2022-06-07T01:19:48.394225Z",
     "start_time": "2022-06-07T01:19:48.228790Z"
    }
   },
   "outputs": [],
   "source": [
    "# Saturday or sunday\n",
    "df1['weekend'] = df1['day_of_week'].apply(lambda x: 1 if x == 'Saturday' or x == 'Sunday'\n",
    "                        else 0)"
   ]
  },
  {
   "cell_type": "code",
   "execution_count": 26,
   "id": "d650cef0",
   "metadata": {
    "ExecuteTime": {
     "end_time": "2022-06-07T01:19:50.814668Z",
     "start_time": "2022-06-07T01:19:48.396851Z"
    }
   },
   "outputs": [
    {
     "name": "stdout",
     "output_type": "stream",
     "text": [
      "06:10:00 20:38:00\n"
     ]
    }
   ],
   "source": [
    "# day period\n",
    "print(df1['time'].min(), df1['time'].max())\n",
    "\n",
    "now = datetime.datetime.now()\n",
    "period = now.replace(hour=12, minute=0, second=0, microsecond=0)\n",
    "\n",
    "# creating day period\n",
    "df1['day_period'] = df1['InvoiceDate'].apply(lambda x: 'before_noon' if x.time() < period.time()\n",
    "                                else 'after_noon')\n"
   ]
  },
  {
   "cell_type": "code",
   "execution_count": 27,
   "id": "f527d686",
   "metadata": {
    "ExecuteTime": {
     "end_time": "2022-06-07T01:19:51.184437Z",
     "start_time": "2022-06-07T01:19:50.817218Z"
    },
    "scrolled": true
   },
   "outputs": [
    {
     "name": "stdout",
     "output_type": "stream",
     "text": [
      "06:10:00\n",
      "11:59:00\n",
      "12:00:00\n",
      "20:38:00\n"
     ]
    }
   ],
   "source": [
    "# checking\n",
    "print(df1[df1['day_period'] == 'before_noon']['time'].min())\n",
    "print(df1[df1['day_period'] == 'before_noon']['time'].max())\n",
    "\n",
    "print(df1[df1['day_period'] == 'after_noon']['time'].min())\n",
    "print(df1[df1['day_period'] == 'after_noon']['time'].max())\n"
   ]
  },
  {
   "cell_type": "markdown",
   "id": "fb2993d5",
   "metadata": {},
   "source": [
    "## DATA VISUALIZATION"
   ]
  },
  {
   "cell_type": "code",
   "execution_count": 28,
   "id": "964ef58f",
   "metadata": {
    "ExecuteTime": {
     "end_time": "2022-06-07T01:19:51.225449Z",
     "start_time": "2022-06-07T01:19:51.187503Z"
    }
   },
   "outputs": [],
   "source": [
    "df2 = df1.copy(deep = True)"
   ]
  },
  {
   "cell_type": "markdown",
   "id": "3b780dab",
   "metadata": {},
   "source": [
    "***\n",
    "\n",
    "The final dataset in this section has 14 columns:\n",
    "\n",
    "- 'InvoiceNo'\n",
    "- 'StockCode'\n",
    "- 'Description'\n",
    "- 'Quantity'\n",
    "- 'InvoiceDate',\n",
    "- 'UnitPrice'\n",
    "- 'CustomerID'\n",
    "- 'Country'\n",
    "- 'revenue'\n",
    "- 'date'\n",
    "- 'time',\n",
    "- 'day_of_week'\n",
    "- 'weekend'\n",
    "- 'day_period'\n",
    "\n",
    "To make this section easier, we're going to drop some of these columns, as follows:\n",
    "\n",
    "1. **InvoiceNo**: we don't need this information for the purpose of this analysis\n",
    "\n",
    "2. **StockCode**: No information for the purpose of this analysis\n",
    "\n",
    "3. **Description**: The description column could be a good information, but for now, we're going to focus on others variables that don't need so much cleaning.\n",
    "\n",
    "4. **InvoiceDate**: We've created some other features based on this column, so, we no longer need this variable anymore.\n",
    "\n",
    "5. **Country**: It's all about United Kingdom, so, no need this column either.\n",
    "\n"
   ]
  },
  {
   "cell_type": "code",
   "execution_count": 29,
   "id": "e8b92c76",
   "metadata": {
    "ExecuteTime": {
     "end_time": "2022-06-07T01:19:51.280685Z",
     "start_time": "2022-06-07T01:19:51.236060Z"
    }
   },
   "outputs": [],
   "source": [
    "cols = ['InvoiceNo', 'StockCode', 'Description', 'InvoiceDate', 'Country']\n",
    "df2 = df2.drop(columns=(cols))"
   ]
  },
  {
   "cell_type": "code",
   "execution_count": 30,
   "id": "21b41f6d",
   "metadata": {
    "ExecuteTime": {
     "end_time": "2022-06-07T01:19:51.300098Z",
     "start_time": "2022-06-07T01:19:51.283264Z"
    }
   },
   "outputs": [
    {
     "data": {
      "text/html": [
       "<div>\n",
       "<style scoped>\n",
       "    .dataframe tbody tr th:only-of-type {\n",
       "        vertical-align: middle;\n",
       "    }\n",
       "\n",
       "    .dataframe tbody tr th {\n",
       "        vertical-align: top;\n",
       "    }\n",
       "\n",
       "    .dataframe thead th {\n",
       "        text-align: right;\n",
       "    }\n",
       "</style>\n",
       "<table border=\"1\" class=\"dataframe\">\n",
       "  <thead>\n",
       "    <tr style=\"text-align: right;\">\n",
       "      <th></th>\n",
       "      <th>Quantity</th>\n",
       "      <th>UnitPrice</th>\n",
       "      <th>CustomerID</th>\n",
       "      <th>revenue</th>\n",
       "      <th>date</th>\n",
       "      <th>time</th>\n",
       "      <th>day_of_week</th>\n",
       "      <th>weekend</th>\n",
       "      <th>day_period</th>\n",
       "    </tr>\n",
       "  </thead>\n",
       "  <tbody>\n",
       "    <tr>\n",
       "      <th>0</th>\n",
       "      <td>6</td>\n",
       "      <td>2.55</td>\n",
       "      <td>17850.0</td>\n",
       "      <td>15.30</td>\n",
       "      <td>2010-12-01</td>\n",
       "      <td>08:26:00</td>\n",
       "      <td>Wednesday</td>\n",
       "      <td>0</td>\n",
       "      <td>before_noon</td>\n",
       "    </tr>\n",
       "    <tr>\n",
       "      <th>1</th>\n",
       "      <td>6</td>\n",
       "      <td>3.39</td>\n",
       "      <td>17850.0</td>\n",
       "      <td>20.34</td>\n",
       "      <td>2010-12-01</td>\n",
       "      <td>08:26:00</td>\n",
       "      <td>Wednesday</td>\n",
       "      <td>0</td>\n",
       "      <td>before_noon</td>\n",
       "    </tr>\n",
       "    <tr>\n",
       "      <th>2</th>\n",
       "      <td>8</td>\n",
       "      <td>2.75</td>\n",
       "      <td>17850.0</td>\n",
       "      <td>22.00</td>\n",
       "      <td>2010-12-01</td>\n",
       "      <td>08:26:00</td>\n",
       "      <td>Wednesday</td>\n",
       "      <td>0</td>\n",
       "      <td>before_noon</td>\n",
       "    </tr>\n",
       "    <tr>\n",
       "      <th>3</th>\n",
       "      <td>6</td>\n",
       "      <td>3.39</td>\n",
       "      <td>17850.0</td>\n",
       "      <td>20.34</td>\n",
       "      <td>2010-12-01</td>\n",
       "      <td>08:26:00</td>\n",
       "      <td>Wednesday</td>\n",
       "      <td>0</td>\n",
       "      <td>before_noon</td>\n",
       "    </tr>\n",
       "    <tr>\n",
       "      <th>4</th>\n",
       "      <td>6</td>\n",
       "      <td>3.39</td>\n",
       "      <td>17850.0</td>\n",
       "      <td>20.34</td>\n",
       "      <td>2010-12-01</td>\n",
       "      <td>08:26:00</td>\n",
       "      <td>Wednesday</td>\n",
       "      <td>0</td>\n",
       "      <td>before_noon</td>\n",
       "    </tr>\n",
       "  </tbody>\n",
       "</table>\n",
       "</div>"
      ],
      "text/plain": [
       "   Quantity  UnitPrice  CustomerID  revenue        date      time day_of_week  \\\n",
       "0         6       2.55     17850.0    15.30  2010-12-01  08:26:00   Wednesday   \n",
       "1         6       3.39     17850.0    20.34  2010-12-01  08:26:00   Wednesday   \n",
       "2         8       2.75     17850.0    22.00  2010-12-01  08:26:00   Wednesday   \n",
       "3         6       3.39     17850.0    20.34  2010-12-01  08:26:00   Wednesday   \n",
       "4         6       3.39     17850.0    20.34  2010-12-01  08:26:00   Wednesday   \n",
       "\n",
       "   weekend   day_period  \n",
       "0        0  before_noon  \n",
       "1        0  before_noon  \n",
       "2        0  before_noon  \n",
       "3        0  before_noon  \n",
       "4        0  before_noon  "
      ]
     },
     "execution_count": 30,
     "metadata": {},
     "output_type": "execute_result"
    }
   ],
   "source": [
    "df2.head()"
   ]
  },
  {
   "cell_type": "markdown",
   "id": "02e9615e",
   "metadata": {},
   "source": [
    "### Quantity"
   ]
  },
  {
   "cell_type": "code",
   "execution_count": 31,
   "id": "8ad48705",
   "metadata": {
    "ExecuteTime": {
     "end_time": "2022-06-07T01:19:51.663424Z",
     "start_time": "2022-06-07T01:19:51.304268Z"
    }
   },
   "outputs": [
    {
     "data": {
      "image/png": "[encoded data removed]",
      "text/plain": [
       "<Figure size 864x288 with 1 Axes>"
      ]
     },
     "metadata": {
      "needs_background": "light"
     },
     "output_type": "display_data"
    }
   ],
   "source": [
    "plt.figure(figsize = (12,4))\n",
    "\n",
    "ax = sns.lineplot(data = df2[['date', 'Quantity']].groupby('date', as_index= False).sum(),  x = 'date',\n",
    "                  y ='Quantity',\n",
    "                 color = 'cadetblue')\n",
    "set_chart_settings('Quantity by date')"
   ]
  },
  {
   "cell_type": "code",
   "execution_count": 32,
   "id": "2fa811db",
   "metadata": {
    "ExecuteTime": {
     "end_time": "2022-06-07T01:19:51.937563Z",
     "start_time": "2022-06-07T01:19:51.665931Z"
    }
   },
   "outputs": [
    {
     "data": {
      "image/png": "[encoded data removed]",
      "text/plain": [
       "<Figure size 864x288 with 1 Axes>"
      ]
     },
     "metadata": {
      "needs_background": "light"
     },
     "output_type": "display_data"
    }
   ],
   "source": [
    "plt.figure(figsize = (12,4))\n",
    "\n",
    "order = ['Monday', 'Tuesday', 'Wednesday', 'Thursday', 'Friday', 'Saturday', 'Sunday']\n",
    "ax = sns.barplot(data = df2[['day_of_week', 'Quantity']].groupby('day_of_week', as_index= False).sum(),  x = 'day_of_week',\n",
    "                 y ='Quantity',\n",
    "                color = 'cadetblue',\n",
    "                order = order)\n",
    "set_chart_settings('Quantity by day of the week')"
   ]
  },
  {
   "cell_type": "code",
   "execution_count": 33,
   "id": "f78c7a6b",
   "metadata": {
    "ExecuteTime": {
     "end_time": "2022-06-07T01:19:52.160441Z",
     "start_time": "2022-06-07T01:19:51.940468Z"
    }
   },
   "outputs": [
    {
     "data": {
      "image/png": "[encoded data removed]",
      "text/plain": [
       "<Figure size 864x288 with 1 Axes>"
      ]
     },
     "metadata": {
      "needs_background": "light"
     },
     "output_type": "display_data"
    }
   ],
   "source": [
    "plt.figure(figsize = (12,4))\n",
    "\n",
    "\n",
    "ax = sns.barplot(data = df2[['weekend', 'Quantity']].groupby('weekend', as_index= False).sum(),\n",
    "                 x = 'weekend',\n",
    "                 y ='Quantity',\n",
    "                color = 'cadetblue',\n",
    ")\n",
    "set_chart_settings('Quantity - weekday or weekend')"
   ]
  },
  {
   "cell_type": "code",
   "execution_count": 34,
   "id": "4b2a1291",
   "metadata": {
    "ExecuteTime": {
     "end_time": "2022-06-07T01:19:52.376134Z",
     "start_time": "2022-06-07T01:19:52.163204Z"
    }
   },
   "outputs": [
    {
     "data": {
      "image/png": "[encoded data removed]",
      "text/plain": [
       "<Figure size 864x288 with 1 Axes>"
      ]
     },
     "metadata": {
      "needs_background": "light"
     },
     "output_type": "display_data"
    }
   ],
   "source": [
    "plt.figure(figsize = (12,4))\n",
    "\n",
    "\n",
    "ax = sns.barplot(data = df2[['day_period', 'Quantity']].groupby('day_period', as_index= False).sum(),\n",
    "                 x = 'day_period',\n",
    "                 y ='Quantity',\n",
    "                color = 'cadetblue',\n",
    ")\n",
    "set_chart_settings('Quantity by Period of the Day')"
   ]
  },
  {
   "cell_type": "markdown",
   "id": "4b3ef495",
   "metadata": {},
   "source": [
    "***\n",
    "\n",
    "1. The quantity sold by date has two higher points (2011-02 and 2011-12). Although we can see some variations, we can lee a pattern in the line chart.\n",
    "\n",
    "2. We don't have any data on Saturdays (might have an issue in this data). It should be investigate further.\n",
    "\n",
    "3. Thusday and Thursday are the days of the weeks with more quantity sold.\n",
    "\n",
    "4. There're much more sales during the week.\n",
    "\n",
    "5. There're more sales after noon"
   ]
  },
  {
   "cell_type": "markdown",
   "id": "af757bd8",
   "metadata": {
    "ExecuteTime": {
     "end_time": "2022-06-01T23:04:55.024353Z",
     "start_time": "2022-06-01T23:04:55.000114Z"
    }
   },
   "source": [
    "## CUSTOMER ANALYSIS"
   ]
  },
  {
   "cell_type": "markdown",
   "id": "0fb1a07e",
   "metadata": {},
   "source": [
    "### COHORT ANALYSIS"
   ]
  },
  {
   "cell_type": "markdown",
   "id": "83bc5bf9",
   "metadata": {},
   "source": [
    "At vero eos et accusamus et iusto odio dignissimos ducimus qui blanditiis praesentium voluptatum deleniti atque corrupti quos dolores et quas molestias excepturi sint occaecati cupiditate non provident, similique sunt in culpa qui officia deserunt mollitia animi, id est laborum et dolorum fuga. Et harum quidem rerum facilis est et expedita\n",
    "\n",
    "distinctio. Nam libero tempore, cum soluta nobis est eligendi optio cumque nihil impedit quo minus id quod maxime placeat facere possimus, omnis voluptas assumenda est, omnis dolor repellendus. Temporibus autem quibusdam et aut"
   ]
  },
  {
   "cell_type": "code",
   "execution_count": 37,
   "id": "4d4b0d93",
   "metadata": {
    "ExecuteTime": {
     "end_time": "2022-06-07T01:19:53.416123Z",
     "start_time": "2022-06-07T01:19:53.404497Z"
    }
   },
   "outputs": [],
   "source": [
    "df3 = df2[['CustomerID', 'date' ,'revenue']]"
   ]
  },
  {
   "cell_type": "code",
   "execution_count": 38,
   "id": "7322d111",
   "metadata": {
    "ExecuteTime": {
     "end_time": "2022-06-07T01:19:58.280026Z",
     "start_time": "2022-06-07T01:19:53.419032Z"
    }
   },
   "outputs": [
    {
     "data": {
      "text/html": [
       "<div>\n",
       "<style scoped>\n",
       "    .dataframe tbody tr th:only-of-type {\n",
       "        vertical-align: middle;\n",
       "    }\n",
       "\n",
       "    .dataframe tbody tr th {\n",
       "        vertical-align: top;\n",
       "    }\n",
       "\n",
       "    .dataframe thead th {\n",
       "        text-align: right;\n",
       "    }\n",
       "</style>\n",
       "<table border=\"1\" class=\"dataframe\">\n",
       "  <thead>\n",
       "    <tr style=\"text-align: right;\">\n",
       "      <th></th>\n",
       "      <th>CustomerID</th>\n",
       "      <th>date</th>\n",
       "      <th>revenue</th>\n",
       "      <th>month</th>\n",
       "    </tr>\n",
       "  </thead>\n",
       "  <tbody>\n",
       "    <tr>\n",
       "      <th>350424</th>\n",
       "      <td>16523.0</td>\n",
       "      <td>2011-09-21</td>\n",
       "      <td>5.04</td>\n",
       "      <td>2011-09</td>\n",
       "    </tr>\n",
       "  </tbody>\n",
       "</table>\n",
       "</div>"
      ],
      "text/plain": [
       "        CustomerID       date  revenue    month\n",
       "350424     16523.0 2011-09-21     5.04  2011-09"
      ]
     },
     "execution_count": 38,
     "metadata": {},
     "output_type": "execute_result"
    }
   ],
   "source": [
    "#converting date column and extracting the month and year\n",
    "df3 = df3.copy()\n",
    "df3['date'] = df3['date'].astype('datetime64')\n",
    "df3['month'] = df3['date'].apply(lambda x: x.strftime('%Y-%m'))\n",
    "\n",
    "df3.sample()"
   ]
  },
  {
   "cell_type": "code",
   "execution_count": 39,
   "id": "0aa4fd01",
   "metadata": {
    "ExecuteTime": {
     "end_time": "2022-06-07T01:19:58.899179Z",
     "start_time": "2022-06-07T01:19:58.282599Z"
    }
   },
   "outputs": [
    {
     "data": {
      "text/html": [
       "<div>\n",
       "<style scoped>\n",
       "    .dataframe tbody tr th:only-of-type {\n",
       "        vertical-align: middle;\n",
       "    }\n",
       "\n",
       "    .dataframe tbody tr th {\n",
       "        vertical-align: top;\n",
       "    }\n",
       "\n",
       "    .dataframe thead th {\n",
       "        text-align: right;\n",
       "    }\n",
       "</style>\n",
       "<table border=\"1\" class=\"dataframe\">\n",
       "  <thead>\n",
       "    <tr style=\"text-align: right;\">\n",
       "      <th></th>\n",
       "      <th>CustomerID</th>\n",
       "      <th>date</th>\n",
       "      <th>revenue</th>\n",
       "      <th>month</th>\n",
       "      <th>cohort</th>\n",
       "    </tr>\n",
       "  </thead>\n",
       "  <tbody>\n",
       "    <tr>\n",
       "      <th>0</th>\n",
       "      <td>17850.0</td>\n",
       "      <td>2010-12-01</td>\n",
       "      <td>15.30</td>\n",
       "      <td>2010-12</td>\n",
       "      <td>2010-12</td>\n",
       "    </tr>\n",
       "    <tr>\n",
       "      <th>1</th>\n",
       "      <td>17850.0</td>\n",
       "      <td>2010-12-01</td>\n",
       "      <td>20.34</td>\n",
       "      <td>2010-12</td>\n",
       "      <td>2010-12</td>\n",
       "    </tr>\n",
       "    <tr>\n",
       "      <th>2</th>\n",
       "      <td>17850.0</td>\n",
       "      <td>2010-12-01</td>\n",
       "      <td>22.00</td>\n",
       "      <td>2010-12</td>\n",
       "      <td>2010-12</td>\n",
       "    </tr>\n",
       "    <tr>\n",
       "      <th>3</th>\n",
       "      <td>17850.0</td>\n",
       "      <td>2010-12-01</td>\n",
       "      <td>20.34</td>\n",
       "      <td>2010-12</td>\n",
       "      <td>2010-12</td>\n",
       "    </tr>\n",
       "    <tr>\n",
       "      <th>4</th>\n",
       "      <td>17850.0</td>\n",
       "      <td>2010-12-01</td>\n",
       "      <td>20.34</td>\n",
       "      <td>2010-12</td>\n",
       "      <td>2010-12</td>\n",
       "    </tr>\n",
       "  </tbody>\n",
       "</table>\n",
       "</div>"
      ],
      "text/plain": [
       "   CustomerID       date  revenue    month   cohort\n",
       "0     17850.0 2010-12-01    15.30  2010-12  2010-12\n",
       "1     17850.0 2010-12-01    20.34  2010-12  2010-12\n",
       "2     17850.0 2010-12-01    22.00  2010-12  2010-12\n",
       "3     17850.0 2010-12-01    20.34  2010-12  2010-12\n",
       "4     17850.0 2010-12-01    20.34  2010-12  2010-12"
      ]
     },
     "execution_count": 39,
     "metadata": {},
     "output_type": "execute_result"
    }
   ],
   "source": [
    "#getting the first date by client\n",
    "df3 = df3.set_index('CustomerID')\n",
    "df3['cohort'] = df3.groupby(level = 0)['month'].min()\n",
    "df3 = df3.reset_index()\n",
    "\n",
    "df3.head()"
   ]
  },
  {
   "cell_type": "code",
   "execution_count": 40,
   "id": "8add1c85",
   "metadata": {
    "ExecuteTime": {
     "end_time": "2022-06-07T01:19:59.011341Z",
     "start_time": "2022-06-07T01:19:58.901793Z"
    },
    "scrolled": false
   },
   "outputs": [],
   "source": [
    "cohort = df3.groupby(['cohort', 'month'])\n",
    "cohort2 = cohort.agg({'CustomerID' : pd.Series.nunique})\n",
    "cohort2 = cohort2.rename(columns ={'CustomerID' : 'total_customers'})\n"
   ]
  },
  {
   "cell_type": "code",
   "execution_count": 41,
   "id": "0dfda6c3",
   "metadata": {
    "ExecuteTime": {
     "end_time": "2022-06-07T01:19:59.042571Z",
     "start_time": "2022-06-07T01:19:59.013683Z"
    },
    "scrolled": false
   },
   "outputs": [],
   "source": [
    "def plot_cohort_period(df3):\n",
    "    df3['cohort_period'] = np.arange(len(df3)) +1\n",
    "    return df3\n",
    "\n",
    "cohort2 = cohort2.groupby(level = 0).apply(plot_cohort_period)\n",
    "cohort2 = cohort2.reset_index().set_index(['cohort', 'cohort_period'])\n",
    "#cohort2.set_index(['cohort', 'cohort_period'])\n"
   ]
  },
  {
   "cell_type": "code",
   "execution_count": 42,
   "id": "a7e64e32",
   "metadata": {
    "ExecuteTime": {
     "end_time": "2022-06-07T01:19:59.053459Z",
     "start_time": "2022-06-07T01:19:59.044788Z"
    }
   },
   "outputs": [],
   "source": [
    "cohort_grouped_size = cohort2['total_customers'].groupby(level=0).first()"
   ]
  },
  {
   "cell_type": "code",
   "execution_count": 43,
   "id": "b2723754",
   "metadata": {
    "ExecuteTime": {
     "end_time": "2022-06-07T01:19:59.064689Z",
     "start_time": "2022-06-07T01:19:59.056674Z"
    }
   },
   "outputs": [],
   "source": [
    "users = cohort2['total_customers'].unstack(0).divide(cohort_grouped_size, axis = 1)"
   ]
  },
  {
   "cell_type": "code",
   "execution_count": 44,
   "id": "82520a27",
   "metadata": {
    "ExecuteTime": {
     "end_time": "2022-06-07T01:19:59.885845Z",
     "start_time": "2022-06-07T01:19:59.070812Z"
    }
   },
   "outputs": [
    {
     "data": {
      "text/plain": [
       "<AxesSubplot:xlabel='cohort_period', ylabel='cohort'>"
      ]
     },
     "execution_count": 44,
     "metadata": {},
     "output_type": "execute_result"
    },
    {
     "data": {
      "image/png": "[encoded data removed]",
      "text/plain": [
       "<Figure size 720x504 with 2 Axes>"
      ]
     },
     "metadata": {
      "needs_background": "light"
     },
     "output_type": "display_data"
    }
   ],
   "source": [
    "plt.figure(figsize = (10, 7))\n",
    "sns.heatmap(users.T, mask = users.T.isnull(), annot = True)\n"
   ]
  },
  {
   "cell_type": "markdown",
   "id": "67973e9e",
   "metadata": {},
   "source": [
    "At vero eos et accusamus et iusto odio dignissimos ducimus qui blanditiis praesentium voluptatum deleniti atque corrupti quos dolores et quas molestias excepturi sint occaecati cupiditate non provident.\n",
    "\n",
    "Similique sunt in culpa qui officia deserunt mollitia animi, id est laborum et dolorum fuga. Et harum quidem rerum facilis est et expedita"
   ]
  },
  {
   "cell_type": "markdown",
   "id": "5543e915",
   "metadata": {},
   "source": [
    "### RFM TABLE"
   ]
  },
  {
   "cell_type": "markdown",
   "id": "b1685aa5",
   "metadata": {},
   "source": [
    "At vero eos et accusamus et iusto odio dignissimos ducimus qui blanditiis praesentium voluptatum deleniti atque corrupti quos dolores et quas molestias excepturi sint occaecati cupiditate non provident, similique sunt in culpa qui officia deserunt mollitia animi, id est laborum et dolorum fuga. Et harum quidem rerum facilis est et expedita\n",
    "\n",
    "distinctio. Nam libero tempore, cum soluta nobis est eligendi optio cumque nihil impedit quo minus id quod maxime placeat facere possimus, omnis voluptas assumenda est, omnis dolor repellendus. Temporibus autem quibusdam et aut\n"
   ]
  },
  {
   "cell_type": "code",
   "execution_count": 35,
   "id": "68cfdd16",
   "metadata": {
    "ExecuteTime": {
     "end_time": "2022-06-07T01:19:52.396471Z",
     "start_time": "2022-06-07T01:19:52.379373Z"
    }
   },
   "outputs": [
    {
     "name": "stdout",
     "output_type": "stream",
     "text": [
      "recency:  4157 days, 0:00:00\n",
      "frequency:  2\n",
      "revenue:  154367.2\n"
     ]
    }
   ],
   "source": [
    "print('recency: ', now.date() - df2[df2['CustomerID'] == 12346]['date'].max())\n",
    "print('frequency: ', len(df2[df2['CustomerID'] == 12346]['CustomerID']))\n",
    "print('revenue: ' , df2[df2['CustomerID'] == 12346]['revenue'].sum() )"
   ]
  },
  {
   "cell_type": "code",
   "execution_count": 61,
   "id": "b325d717",
   "metadata": {
    "ExecuteTime": {
     "end_time": "2022-06-07T01:31:08.397799Z",
     "start_time": "2022-06-07T01:31:07.459683Z"
    }
   },
   "outputs": [
    {
     "data": {
      "text/html": [
       "<div>\n",
       "<style scoped>\n",
       "    .dataframe tbody tr th:only-of-type {\n",
       "        vertical-align: middle;\n",
       "    }\n",
       "\n",
       "    .dataframe tbody tr th {\n",
       "        vertical-align: top;\n",
       "    }\n",
       "\n",
       "    .dataframe thead th {\n",
       "        text-align: right;\n",
       "    }\n",
       "</style>\n",
       "<table border=\"1\" class=\"dataframe\">\n",
       "  <thead>\n",
       "    <tr style=\"text-align: right;\">\n",
       "      <th></th>\n",
       "      <th>CustomerID</th>\n",
       "      <th>recency</th>\n",
       "      <th>frequency</th>\n",
       "      <th>revenue</th>\n",
       "    </tr>\n",
       "  </thead>\n",
       "  <tbody>\n",
       "    <tr>\n",
       "      <th>0</th>\n",
       "      <td>12346.0</td>\n",
       "      <td>348</td>\n",
       "      <td>2</td>\n",
       "      <td>154367.20</td>\n",
       "    </tr>\n",
       "    <tr>\n",
       "      <th>1</th>\n",
       "      <td>12747.0</td>\n",
       "      <td>25</td>\n",
       "      <td>103</td>\n",
       "      <td>4196.01</td>\n",
       "    </tr>\n",
       "    <tr>\n",
       "      <th>2</th>\n",
       "      <td>12748.0</td>\n",
       "      <td>23</td>\n",
       "      <td>4642</td>\n",
       "      <td>38367.36</td>\n",
       "    </tr>\n",
       "    <tr>\n",
       "      <th>3</th>\n",
       "      <td>12749.0</td>\n",
       "      <td>26</td>\n",
       "      <td>231</td>\n",
       "      <td>4313.56</td>\n",
       "    </tr>\n",
       "    <tr>\n",
       "      <th>4</th>\n",
       "      <td>12820.0</td>\n",
       "      <td>26</td>\n",
       "      <td>59</td>\n",
       "      <td>942.34</td>\n",
       "    </tr>\n",
       "    <tr>\n",
       "      <th>...</th>\n",
       "      <td>...</td>\n",
       "      <td>...</td>\n",
       "      <td>...</td>\n",
       "      <td>...</td>\n",
       "    </tr>\n",
       "    <tr>\n",
       "      <th>3945</th>\n",
       "      <td>18280.0</td>\n",
       "      <td>300</td>\n",
       "      <td>10</td>\n",
       "      <td>180.60</td>\n",
       "    </tr>\n",
       "    <tr>\n",
       "      <th>3946</th>\n",
       "      <td>18281.0</td>\n",
       "      <td>203</td>\n",
       "      <td>7</td>\n",
       "      <td>80.82</td>\n",
       "    </tr>\n",
       "    <tr>\n",
       "      <th>3947</th>\n",
       "      <td>18282.0</td>\n",
       "      <td>30</td>\n",
       "      <td>13</td>\n",
       "      <td>179.50</td>\n",
       "    </tr>\n",
       "    <tr>\n",
       "      <th>3948</th>\n",
       "      <td>18283.0</td>\n",
       "      <td>26</td>\n",
       "      <td>756</td>\n",
       "      <td>2094.88</td>\n",
       "    </tr>\n",
       "    <tr>\n",
       "      <th>3949</th>\n",
       "      <td>18287.0</td>\n",
       "      <td>65</td>\n",
       "      <td>70</td>\n",
       "      <td>1837.28</td>\n",
       "    </tr>\n",
       "  </tbody>\n",
       "</table>\n",
       "<p>3950 rows × 4 columns</p>\n",
       "</div>"
      ],
      "text/plain": [
       "      CustomerID  recency  frequency    revenue\n",
       "0        12346.0      348          2  154367.20\n",
       "1        12747.0       25        103    4196.01\n",
       "2        12748.0       23       4642   38367.36\n",
       "3        12749.0       26        231    4313.56\n",
       "4        12820.0       26         59     942.34\n",
       "...          ...      ...        ...        ...\n",
       "3945     18280.0      300         10     180.60\n",
       "3946     18281.0      203          7      80.82\n",
       "3947     18282.0       30         13     179.50\n",
       "3948     18283.0       26        756    2094.88\n",
       "3949     18287.0       65         70    1837.28\n",
       "\n",
       "[3950 rows x 4 columns]"
      ]
     },
     "execution_count": 61,
     "metadata": {},
     "output_type": "execute_result"
    }
   ],
   "source": [
    "now = datetime.date(year = 2012, month = 1, day = 1)\n",
    "\n",
    "rfm = df1.groupby('CustomerID').agg({'date': lambda x: ( now- x.max()).days,\n",
    "                             'CustomerID' : lambda x: len(x),\n",
    "                                    'revenue': lambda x: x.sum()})\n",
    "\n",
    "rfm = rfm.rename(columns=({'CustomerID' : 'frequency',\n",
    "                          'date' : 'recency'}))\n",
    "rfm = rfm.reset_index()\n",
    "\n",
    "rfm"
   ]
  },
  {
   "cell_type": "markdown",
   "id": "17e87112",
   "metadata": {},
   "source": [
    "#### RFM TABLE ANALYSIS"
   ]
  },
  {
   "cell_type": "code",
   "execution_count": 69,
   "id": "6edf999e",
   "metadata": {
    "ExecuteTime": {
     "end_time": "2022-06-07T01:35:29.453602Z",
     "start_time": "2022-06-07T01:35:22.782110Z"
    }
   },
   "outputs": [
    {
     "data": {
      "image/png": "[encoded data removed]",
      "text/plain": [
       "<Figure size 1080x360 with 3 Axes>"
      ]
     },
     "metadata": {
      "needs_background": "light"
     },
     "output_type": "display_data"
    }
   ],
   "source": [
    "#recency\n",
    "\n",
    "plt.figure(figsize = (15,5))\n",
    "plt.subplot(1, 3, 1)\n",
    "sns.histplot(data = rfm, x = 'recency')\n",
    "set_chart_settings('Histogram - Recency')\n",
    "\n",
    "plt.subplot(1, 3, 2)\n",
    "sns.histplot(data = rfm, x = 'frequency')\n",
    "set_chart_settings('Histogram - Frequency')\n",
    "\n",
    "plt.subplot(1, 3, 3)\n",
    "sns.histplot(data = rfm, x = 'revenue')\n",
    "set_chart_settings('Histogram - Revenue')"
   ]
  },
  {
   "cell_type": "code",
   "execution_count": 72,
   "id": "feec3935",
   "metadata": {
    "ExecuteTime": {
     "end_time": "2022-06-07T01:36:28.762456Z",
     "start_time": "2022-06-07T01:36:28.749704Z"
    }
   },
   "outputs": [
    {
     "data": {
      "text/plain": [
       "count    3950.000000\n",
       "mean      114.323038\n",
       "std       100.236848\n",
       "min        23.000000\n",
       "25%        39.000000\n",
       "50%        73.000000\n",
       "75%       166.000000\n",
       "max       396.000000\n",
       "Name: recency, dtype: float64"
      ]
     },
     "execution_count": 72,
     "metadata": {},
     "output_type": "execute_result"
    }
   ],
   "source": [
    "rfm['recency'].describe()"
   ]
  },
  {
   "cell_type": "code",
   "execution_count": 73,
   "id": "0c7c78c2",
   "metadata": {
    "ExecuteTime": {
     "end_time": "2022-06-07T01:36:44.079846Z",
     "start_time": "2022-06-07T01:36:44.069157Z"
    }
   },
   "outputs": [
    {
     "data": {
      "text/plain": [
       "count    3950.000000\n",
       "mean       91.614684\n",
       "std       220.557389\n",
       "min         1.000000\n",
       "25%        17.000000\n",
       "50%        41.000000\n",
       "75%       101.000000\n",
       "max      7983.000000\n",
       "Name: frequency, dtype: float64"
      ]
     },
     "execution_count": 73,
     "metadata": {},
     "output_type": "execute_result"
    }
   ],
   "source": [
    "rfm['frequency'].describe()"
   ]
  },
  {
   "cell_type": "code",
   "execution_count": 74,
   "id": "6444cb9c",
   "metadata": {
    "ExecuteTime": {
     "end_time": "2022-06-07T01:36:56.675049Z",
     "start_time": "2022-06-07T01:36:56.665494Z"
    }
   },
   "outputs": [
    {
     "data": {
      "text/plain": [
       "count      3950.000000\n",
       "mean       1987.065750\n",
       "std        9348.700952\n",
       "min           0.000000\n",
       "25%         300.835000\n",
       "50%         653.085000\n",
       "75%        1611.307500\n",
       "max      336942.100000\n",
       "Name: revenue, dtype: float64"
      ]
     },
     "execution_count": 74,
     "metadata": {},
     "output_type": "execute_result"
    }
   ],
   "source": [
    "rfm['revenue'].describe()"
   ]
  },
  {
   "cell_type": "code",
   "execution_count": 76,
   "id": "2acc0aba",
   "metadata": {
    "ExecuteTime": {
     "end_time": "2022-06-07T01:38:33.649954Z",
     "start_time": "2022-06-07T01:38:33.046418Z"
    }
   },
   "outputs": [
    {
     "data": {
      "image/png": "[encoded data removed]",
      "text/plain": [
       "<Figure size 1080x360 with 3 Axes>"
      ]
     },
     "metadata": {
      "needs_background": "light"
     },
     "output_type": "display_data"
    }
   ],
   "source": [
    "#recency\n",
    "\n",
    "plt.figure(figsize = (15,5))\n",
    "plt.subplot(1, 3, 1)\n",
    "sns.scatterplot(data = rfm, x = 'recency', y = 'frequency')\n",
    "set_chart_settings('Histogram - Recency x frequency')\n",
    "\n",
    "plt.subplot(1, 3, 2)\n",
    "sns.scatterplot(data = rfm, x = 'frequency', y = 'revenue')\n",
    "set_chart_settings('Histogram - Frequency x revenue')\n",
    "\n",
    "plt.subplot(1, 3, 3)\n",
    "sns.scatterplot(data = rfm, x = 'revenue', y = 'recency')\n",
    "set_chart_settings('Histogram - Revenue x recency')"
   ]
  },
  {
   "cell_type": "markdown",
   "id": "c81b1b24",
   "metadata": {},
   "source": [
    "## K-MEANS | RECENCY SCORE"
   ]
  },
  {
   "cell_type": "code",
   "execution_count": 103,
   "id": "df4f07de",
   "metadata": {
    "ExecuteTime": {
     "end_time": "2022-06-07T01:58:27.540326Z",
     "start_time": "2022-06-07T01:58:26.516417Z"
    }
   },
   "outputs": [
    {
     "data": {
      "image/png": "[encoded data removed]",
      "text/plain": [
       "<Figure size 432x288 with 1 Axes>"
      ]
     },
     "metadata": {
      "needs_background": "light"
     },
     "output_type": "display_data"
    }
   ],
   "source": [
    "X = rfm[['recency', 'frequency', 'revenue']].values\n",
    "wcss = []\n",
    "\n",
    "for i in range(1, 11):\n",
    "    kmeans = KMeans(n_clusters = i, random_state = 0)\n",
    "    kmeans.fit(X)\n",
    "    wcss.append(kmeans.inertia_)\n",
    "    \n",
    "plt.plot(range(1, 11), wcss)\n",
    "set_chart_settings('Elbow Method')"
   ]
  },
  {
   "cell_type": "code",
   "execution_count": null,
   "id": "58564cdc",
   "metadata": {},
   "outputs": [],
   "source": []
  }
 ],
 "metadata": {
  "kernelspec": {
   "display_name": "ds-projects",
   "language": "python",
   "name": "ds-projects"
  },
  "language_info": {
   "codemirror_mode": {
    "name": "ipython",
    "version": 3
   },
   "file_extension": ".py",
   "mimetype": "text/x-python",
   "name": "python",
   "nbconvert_exporter": "python",
   "pygments_lexer": "ipython3",
   "version": "3.9.7"
  },
  "toc": {
   "base_numbering": 1,
   "nav_menu": {},
   "number_sections": true,
   "sideBar": true,
   "skip_h1_title": false,
   "title_cell": "Table of Contents",
   "title_sidebar": "Contents",
   "toc_cell": false,
   "toc_position": {},
   "toc_section_display": true,
   "toc_window_display": false
  }
 },
 "nbformat": 4,
 "nbformat_minor": 5
}
