{
 "cells": [
  {
   "cell_type": "markdown",
   "id": "321573c0",
   "metadata": {},
   "source": [
    "# CUSTOMER SEGMENTATION\n",
    "\n",
    "***\n",
    "\n",
    "## ONLINE RETAIL DATASET\n"
   ]
  },
  {
   "cell_type": "markdown",
   "id": "5728a633",
   "metadata": {},
   "source": [
    "<img src=\"https://img.freepik.com/free-vector/postman-giving-parcel-customer-post-office_74855-4811.jpg\" width=\"626\" height=\"250\" >"
   ]
  },
  {
   "cell_type": "markdown",
   "id": "accf49cc",
   "metadata": {},
   "source": [
    "At vero eos et accusamus et iusto odio dignissimos ducimus qui blanditiis praesentium voluptatum deleniti atque corrupti quos dolores et quas molestias excepturi sint occaecati cupiditate non provident, similique sunt in culpa qui officia deserunt mollitia animi, id est laborum et dolorum fuga. Et harum quidem rerum facilis est et expedita \n",
    "\n",
    "distinctio. Nam libero tempore, cum soluta nobis est eligendi optio cumque nihil impedit quo minus id quod maxime placeat facere possimus, omnis voluptas assumenda est, omnis dolor repellendus. Temporibus autem quibusdam et aut \n",
    "\n",
    "officiis debitis aut rerum necessitatibus saepe eveniet ut et voluptates repudiandae sint et molestiae non recusandae. Itaque earum rerum hic tenetur a sapiente delectus, ut aut reiciendis voluptatibus maiores alias consequatur aut perferendis doloribus asperiores repellat."
   ]
  },
  {
   "cell_type": "markdown",
   "id": "dd548b2f",
   "metadata": {},
   "source": [
    "# FUNCTIONS"
   ]
  },
  {
   "cell_type": "code",
   "execution_count": 1,
   "id": "416fe1fa",
   "metadata": {
    "ExecuteTime": {
     "end_time": "2022-06-24T23:08:48.787059Z",
     "start_time": "2022-06-24T23:08:48.774465Z"
    }
   },
   "outputs": [],
   "source": [
    "def set_chart_settings(title):\n",
    "    \n",
    "    plt.title(title)\n",
    "    sns.despine(bottom = True, left = True)\n",
    "    \n",
    "    \n",
    "def create_kmeans_cluster_column(column):\n",
    "    kmeans = KMeans(n_clusters=4)\n",
    "    X_std = scaler.fit_transform(rfm[[column]])\n",
    "    \n",
    "    kmeans.fit(X_std)\n",
    "    column_name = column + '_cluster'\n",
    "    rfm[column_name] = kmeans.predict(X_std)\n",
    "    \n",
    "    rfm_cluster = rfm.groupby(column_name)[[column]].describe()\n",
    "    rfm_cluster.columns = rfm_cluster.columns.droplevel(0)\n",
    "    \n",
    "    rfm_cluster = rfm_cluster.reset_index().sort_values(\n",
    "    by='mean').reset_index().drop(columns=({\n",
    "                                         'index',\n",
    "                                         column_name\n",
    "                                          })).rename_axis('cluster_' + column)\n",
    "    \n",
    "    return rfm_cluster"
   ]
  },
  {
   "cell_type": "markdown",
   "id": "a01c36ae",
   "metadata": {},
   "source": [
    "# LIBS "
   ]
  },
  {
   "cell_type": "code",
   "execution_count": 2,
   "id": "854bc6f6",
   "metadata": {
    "ExecuteTime": {
     "end_time": "2022-06-24T23:08:51.178527Z",
     "start_time": "2022-06-24T23:08:48.792086Z"
    }
   },
   "outputs": [],
   "source": [
    "import pandas                   as pd\n",
    "import seaborn                  as sns\n",
    "import matplotlib.pyplot        as plt\n",
    "import numpy                    as np\n",
    "\n",
    "import datetime\n",
    "\n",
    "from sklearn.cluster import KMeans\n",
    "from sklearn.preprocessing import StandardScaler\n",
    "\n"
   ]
  },
  {
   "cell_type": "markdown",
   "id": "f5a28db1",
   "metadata": {},
   "source": [
    "# DATASET"
   ]
  },
  {
   "cell_type": "markdown",
   "id": "614057b6",
   "metadata": {},
   "source": [
    "## CUSTOMER DATASET"
   ]
  },
  {
   "cell_type": "code",
   "execution_count": 63,
   "id": "c59584d7",
   "metadata": {
    "ExecuteTime": {
     "end_time": "2022-06-24T23:15:46.991678Z",
     "start_time": "2022-06-24T23:15:46.982758Z"
    }
   },
   "outputs": [],
   "source": [
    "customer = pd.read_csv('customer.csv', sep = ';')"
   ]
  },
  {
   "cell_type": "code",
   "execution_count": 64,
   "id": "45b98cc0",
   "metadata": {
    "ExecuteTime": {
     "end_time": "2022-06-24T23:15:47.164396Z",
     "start_time": "2022-06-24T23:15:47.150286Z"
    }
   },
   "outputs": [
    {
     "data": {
      "text/html": [
       "<div>\n",
       "<style scoped>\n",
       "    .dataframe tbody tr th:only-of-type {\n",
       "        vertical-align: middle;\n",
       "    }\n",
       "\n",
       "    .dataframe tbody tr th {\n",
       "        vertical-align: top;\n",
       "    }\n",
       "\n",
       "    .dataframe thead th {\n",
       "        text-align: right;\n",
       "    }\n",
       "</style>\n",
       "<table border=\"1\" class=\"dataframe\">\n",
       "  <thead>\n",
       "    <tr style=\"text-align: right;\">\n",
       "      <th></th>\n",
       "      <th>CustomerID</th>\n",
       "      <th>gender</th>\n",
       "      <th>age</th>\n",
       "      <th>anual_income</th>\n",
       "    </tr>\n",
       "  </thead>\n",
       "  <tbody>\n",
       "    <tr>\n",
       "      <th>0</th>\n",
       "      <td>17850.0</td>\n",
       "      <td>Female</td>\n",
       "      <td>48</td>\n",
       "      <td>25</td>\n",
       "    </tr>\n",
       "    <tr>\n",
       "      <th>1</th>\n",
       "      <td>13047.0</td>\n",
       "      <td>Male</td>\n",
       "      <td>47</td>\n",
       "      <td>65</td>\n",
       "    </tr>\n",
       "    <tr>\n",
       "      <th>2</th>\n",
       "      <td>12583.0</td>\n",
       "      <td>Female</td>\n",
       "      <td>47</td>\n",
       "      <td>78</td>\n",
       "    </tr>\n",
       "    <tr>\n",
       "      <th>3</th>\n",
       "      <td>13748.0</td>\n",
       "      <td>Female</td>\n",
       "      <td>59</td>\n",
       "      <td>43</td>\n",
       "    </tr>\n",
       "    <tr>\n",
       "      <th>4</th>\n",
       "      <td>15100.0</td>\n",
       "      <td>Female</td>\n",
       "      <td>31</td>\n",
       "      <td>33</td>\n",
       "    </tr>\n",
       "  </tbody>\n",
       "</table>\n",
       "</div>"
      ],
      "text/plain": [
       "   CustomerID  gender  age  anual_income\n",
       "0     17850.0  Female   48            25\n",
       "1     13047.0    Male   47            65\n",
       "2     12583.0  Female   47            78\n",
       "3     13748.0  Female   59            43\n",
       "4     15100.0  Female   31            33"
      ]
     },
     "execution_count": 64,
     "metadata": {},
     "output_type": "execute_result"
    }
   ],
   "source": [
    "customer.head()"
   ]
  },
  {
   "cell_type": "markdown",
   "id": "0bc8b7f9",
   "metadata": {},
   "source": [
    "## SALES DATASET"
   ]
  },
  {
   "cell_type": "code",
   "execution_count": 3,
   "id": "8bf4c39f",
   "metadata": {
    "ExecuteTime": {
     "end_time": "2022-06-24T23:08:51.974069Z",
     "start_time": "2022-06-24T23:08:51.181168Z"
    }
   },
   "outputs": [
    {
     "data": {
      "text/html": [
       "<div>\n",
       "<style scoped>\n",
       "    .dataframe tbody tr th:only-of-type {\n",
       "        vertical-align: middle;\n",
       "    }\n",
       "\n",
       "    .dataframe tbody tr th {\n",
       "        vertical-align: top;\n",
       "    }\n",
       "\n",
       "    .dataframe thead th {\n",
       "        text-align: right;\n",
       "    }\n",
       "</style>\n",
       "<table border=\"1\" class=\"dataframe\">\n",
       "  <thead>\n",
       "    <tr style=\"text-align: right;\">\n",
       "      <th></th>\n",
       "      <th>InvoiceNo</th>\n",
       "      <th>StockCode</th>\n",
       "      <th>Description</th>\n",
       "      <th>Quantity</th>\n",
       "      <th>InvoiceDate</th>\n",
       "      <th>UnitPrice</th>\n",
       "      <th>CustomerID</th>\n",
       "      <th>Country</th>\n",
       "    </tr>\n",
       "  </thead>\n",
       "  <tbody>\n",
       "    <tr>\n",
       "      <th>0</th>\n",
       "      <td>536365</td>\n",
       "      <td>85123A</td>\n",
       "      <td>WHITE HANGING HEART T-LIGHT HOLDER</td>\n",
       "      <td>6</td>\n",
       "      <td>12/1/2010 8:26</td>\n",
       "      <td>2.55</td>\n",
       "      <td>17850.0</td>\n",
       "      <td>United Kingdom</td>\n",
       "    </tr>\n",
       "    <tr>\n",
       "      <th>1</th>\n",
       "      <td>536365</td>\n",
       "      <td>71053</td>\n",
       "      <td>WHITE METAL LANTERN</td>\n",
       "      <td>6</td>\n",
       "      <td>12/1/2010 8:26</td>\n",
       "      <td>3.39</td>\n",
       "      <td>17850.0</td>\n",
       "      <td>United Kingdom</td>\n",
       "    </tr>\n",
       "    <tr>\n",
       "      <th>2</th>\n",
       "      <td>536365</td>\n",
       "      <td>84406B</td>\n",
       "      <td>CREAM CUPID HEARTS COAT HANGER</td>\n",
       "      <td>8</td>\n",
       "      <td>12/1/2010 8:26</td>\n",
       "      <td>2.75</td>\n",
       "      <td>17850.0</td>\n",
       "      <td>United Kingdom</td>\n",
       "    </tr>\n",
       "    <tr>\n",
       "      <th>3</th>\n",
       "      <td>536365</td>\n",
       "      <td>84029G</td>\n",
       "      <td>KNITTED UNION FLAG HOT WATER BOTTLE</td>\n",
       "      <td>6</td>\n",
       "      <td>12/1/2010 8:26</td>\n",
       "      <td>3.39</td>\n",
       "      <td>17850.0</td>\n",
       "      <td>United Kingdom</td>\n",
       "    </tr>\n",
       "    <tr>\n",
       "      <th>4</th>\n",
       "      <td>536365</td>\n",
       "      <td>84029E</td>\n",
       "      <td>RED WOOLLY HOTTIE WHITE HEART.</td>\n",
       "      <td>6</td>\n",
       "      <td>12/1/2010 8:26</td>\n",
       "      <td>3.39</td>\n",
       "      <td>17850.0</td>\n",
       "      <td>United Kingdom</td>\n",
       "    </tr>\n",
       "  </tbody>\n",
       "</table>\n",
       "</div>"
      ],
      "text/plain": [
       "  InvoiceNo StockCode                          Description  Quantity  \\\n",
       "0    536365    85123A   WHITE HANGING HEART T-LIGHT HOLDER         6   \n",
       "1    536365     71053                  WHITE METAL LANTERN         6   \n",
       "2    536365    84406B       CREAM CUPID HEARTS COAT HANGER         8   \n",
       "3    536365    84029G  KNITTED UNION FLAG HOT WATER BOTTLE         6   \n",
       "4    536365    84029E       RED WOOLLY HOTTIE WHITE HEART.         6   \n",
       "\n",
       "      InvoiceDate  UnitPrice  CustomerID         Country  \n",
       "0  12/1/2010 8:26       2.55     17850.0  United Kingdom  \n",
       "1  12/1/2010 8:26       3.39     17850.0  United Kingdom  \n",
       "2  12/1/2010 8:26       2.75     17850.0  United Kingdom  \n",
       "3  12/1/2010 8:26       3.39     17850.0  United Kingdom  \n",
       "4  12/1/2010 8:26       3.39     17850.0  United Kingdom  "
      ]
     },
     "execution_count": 3,
     "metadata": {},
     "output_type": "execute_result"
    }
   ],
   "source": [
    "df = pd.read_csv('data.csv', encoding = 'latin-1')\n",
    "df.head()"
   ]
  },
  {
   "cell_type": "code",
   "execution_count": 4,
   "id": "dddeb821",
   "metadata": {
    "ExecuteTime": {
     "end_time": "2022-06-24T23:08:51.983889Z",
     "start_time": "2022-06-24T23:08:51.976646Z"
    }
   },
   "outputs": [
    {
     "data": {
      "text/plain": [
       "(541909, 8)"
      ]
     },
     "execution_count": 4,
     "metadata": {},
     "output_type": "execute_result"
    }
   ],
   "source": [
    "df.shape"
   ]
  },
  {
   "cell_type": "markdown",
   "id": "433f4cd9",
   "metadata": {},
   "source": [
    "# DATA ANALYSIS "
   ]
  },
  {
   "cell_type": "markdown",
   "id": "31c688ff",
   "metadata": {},
   "source": [
    "## GENERAL ANALYSIS"
   ]
  },
  {
   "cell_type": "code",
   "execution_count": 5,
   "id": "3c2112b9",
   "metadata": {
    "ExecuteTime": {
     "end_time": "2022-06-24T23:08:51.999670Z",
     "start_time": "2022-06-24T23:08:51.990286Z"
    }
   },
   "outputs": [
    {
     "data": {
      "text/plain": [
       "InvoiceNo       object\n",
       "StockCode       object\n",
       "Description     object\n",
       "Quantity         int64\n",
       "InvoiceDate     object\n",
       "UnitPrice      float64\n",
       "CustomerID     float64\n",
       "Country         object\n",
       "dtype: object"
      ]
     },
     "execution_count": 5,
     "metadata": {},
     "output_type": "execute_result"
    }
   ],
   "source": [
    "df.dtypes"
   ]
  },
  {
   "cell_type": "code",
   "execution_count": 6,
   "id": "492438c3",
   "metadata": {
    "ExecuteTime": {
     "end_time": "2022-06-24T23:08:55.551695Z",
     "start_time": "2022-06-24T23:08:52.006242Z"
    }
   },
   "outputs": [],
   "source": [
    "df['InvoiceDate'] = df['InvoiceDate'].astype('datetime64')"
   ]
  },
  {
   "cell_type": "code",
   "execution_count": 7,
   "id": "8d35a0a2",
   "metadata": {
    "ExecuteTime": {
     "end_time": "2022-06-24T23:08:55.689133Z",
     "start_time": "2022-06-24T23:08:55.554445Z"
    },
    "scrolled": true
   },
   "outputs": [
    {
     "data": {
      "text/plain": [
       "InvoiceNo           0\n",
       "StockCode           0\n",
       "Description      1454\n",
       "Quantity            0\n",
       "InvoiceDate         0\n",
       "UnitPrice           0\n",
       "CustomerID     135080\n",
       "Country             0\n",
       "dtype: int64"
      ]
     },
     "execution_count": 7,
     "metadata": {},
     "output_type": "execute_result"
    }
   ],
   "source": [
    "df.isna().sum()"
   ]
  },
  {
   "cell_type": "code",
   "execution_count": 8,
   "id": "52028d01",
   "metadata": {
    "ExecuteTime": {
     "end_time": "2022-06-24T23:08:55.758349Z",
     "start_time": "2022-06-24T23:08:55.693172Z"
    },
    "scrolled": false
   },
   "outputs": [
    {
     "data": {
      "text/plain": [
       "Country\n",
       "United Kingdom          361878\n",
       "Germany                   9495\n",
       "France                    8491\n",
       "EIRE                      7485\n",
       "Spain                     2533\n",
       "Netherlands               2371\n",
       "Belgium                   2069\n",
       "Switzerland               1877\n",
       "Portugal                  1480\n",
       "Australia                 1259\n",
       "Norway                    1086\n",
       "Italy                      803\n",
       "Channel Islands            758\n",
       "Finland                    695\n",
       "Cyprus                     622\n",
       "Sweden                     462\n",
       "Austria                    401\n",
       "Denmark                    389\n",
       "Japan                      358\n",
       "Poland                     341\n",
       "USA                        291\n",
       "Israel                     250\n",
       "Unspecified                244\n",
       "Singapore                  229\n",
       "Iceland                    182\n",
       "Canada                     151\n",
       "Greece                     146\n",
       "Malta                      127\n",
       "United Arab Emirates        68\n",
       "European Community          61\n",
       "RSA                         58\n",
       "Lebanon                     45\n",
       "Lithuania                   35\n",
       "Brazil                      32\n",
       "Czech Republic              30\n",
       "Bahrain                     17\n",
       "Saudi Arabia                10\n",
       "Hong Kong                    0\n",
       "Name: CustomerID, dtype: int64"
      ]
     },
     "execution_count": 8,
     "metadata": {},
     "output_type": "execute_result"
    }
   ],
   "source": [
    "df.groupby('Country')['CustomerID'].count().sort_values(ascending = False)"
   ]
  },
  {
   "cell_type": "code",
   "execution_count": 9,
   "id": "95ee417e",
   "metadata": {
    "ExecuteTime": {
     "end_time": "2022-06-24T23:08:55.824512Z",
     "start_time": "2022-06-24T23:08:55.763925Z"
    },
    "scrolled": false
   },
   "outputs": [
    {
     "data": {
      "text/plain": [
       "United Kingdom          0.914320\n",
       "Germany                 0.017521\n",
       "France                  0.015790\n",
       "EIRE                    0.015124\n",
       "Spain                   0.004674\n",
       "Netherlands             0.004375\n",
       "Belgium                 0.003818\n",
       "Switzerland             0.003694\n",
       "Portugal                0.002803\n",
       "Australia               0.002323\n",
       "Norway                  0.002004\n",
       "Italy                   0.001482\n",
       "Channel Islands         0.001399\n",
       "Finland                 0.001283\n",
       "Cyprus                  0.001148\n",
       "Sweden                  0.000853\n",
       "Unspecified             0.000823\n",
       "Austria                 0.000740\n",
       "Denmark                 0.000718\n",
       "Japan                   0.000661\n",
       "Poland                  0.000629\n",
       "Israel                  0.000548\n",
       "USA                     0.000537\n",
       "Hong Kong               0.000531\n",
       "Singapore               0.000423\n",
       "Iceland                 0.000336\n",
       "Canada                  0.000279\n",
       "Greece                  0.000269\n",
       "Malta                   0.000234\n",
       "United Arab Emirates    0.000125\n",
       "European Community      0.000113\n",
       "RSA                     0.000107\n",
       "Lebanon                 0.000083\n",
       "Lithuania               0.000065\n",
       "Brazil                  0.000059\n",
       "Czech Republic          0.000055\n",
       "Bahrain                 0.000035\n",
       "Saudi Arabia            0.000018\n",
       "Name: Country, dtype: float64"
      ]
     },
     "execution_count": 9,
     "metadata": {},
     "output_type": "execute_result"
    }
   ],
   "source": [
    "df['Country'].value_counts(normalize = True)"
   ]
  },
  {
   "cell_type": "markdown",
   "id": "021a0aee",
   "metadata": {},
   "source": [
    "***\n",
    "\n",
    "More than 90% of the data is from UK sales, so, we're going to restrict the data to the United Kingdom only.\n",
    "\n",
    "\n",
    "As we could see in the previous snippet, null customer ID represents 135.080 records. Our analysis is based on clients, so we're going to drop all missing values in this column as well."
   ]
  },
  {
   "cell_type": "code",
   "execution_count": 10,
   "id": "5de241dd",
   "metadata": {
    "ExecuteTime": {
     "end_time": "2022-06-24T23:08:55.992771Z",
     "start_time": "2022-06-24T23:08:55.828147Z"
    }
   },
   "outputs": [],
   "source": [
    "df = df[df['Country'] == 'United Kingdom']\n",
    "\n",
    "# removing null values\n",
    "df = df[~df['CustomerID'].isnull()]"
   ]
  },
  {
   "cell_type": "code",
   "execution_count": 11,
   "id": "8c45a982",
   "metadata": {
    "ExecuteTime": {
     "end_time": "2022-06-24T23:08:56.015674Z",
     "start_time": "2022-06-24T23:08:55.999218Z"
    },
    "scrolled": false
   },
   "outputs": [
    {
     "name": "stdout",
     "output_type": "stream",
     "text": [
      "2010-12-01 08:26:00\n",
      "2011-12-09 12:49:00\n",
      "0.0\n",
      "38970.0\n"
     ]
    }
   ],
   "source": [
    "# checking negative values or incorrect dates\n",
    "print(df['InvoiceDate'].min())\n",
    "print(df['InvoiceDate'].max())\n",
    "\n",
    "print(df['UnitPrice'].min())\n",
    "print(df['UnitPrice'].max())"
   ]
  },
  {
   "cell_type": "code",
   "execution_count": 12,
   "id": "8a8421d9",
   "metadata": {
    "ExecuteTime": {
     "end_time": "2022-06-24T23:08:56.040202Z",
     "start_time": "2022-06-24T23:08:56.019295Z"
    }
   },
   "outputs": [
    {
     "name": "stdout",
     "output_type": "stream",
     "text": [
      "-80995 80995\n",
      "(7533, 8)\n",
      "(361878, 8)\n"
     ]
    }
   ],
   "source": [
    "print(df['Quantity'].min(), df['Quantity'].max())\n",
    "print(df[df['Quantity'] < 0].shape)\n",
    "print(df.shape)"
   ]
  },
  {
   "cell_type": "markdown",
   "id": "f89cd092",
   "metadata": {
    "ExecuteTime": {
     "end_time": "2022-06-01T00:25:39.476903Z",
     "start_time": "2022-06-01T00:25:39.451276Z"
    }
   },
   "source": [
    "***\n",
    "\n",
    "As we can see, there're 7.533 negative values in quantity column. It's clear that're wrong numbers.\n",
    "Before dropping them or replacing by other numbers, let's analyze some basic descriptive statistics."
   ]
  },
  {
   "cell_type": "code",
   "execution_count": 13,
   "id": "9770394e",
   "metadata": {
    "ExecuteTime": {
     "end_time": "2022-06-24T23:08:56.067684Z",
     "start_time": "2022-06-24T23:08:56.045044Z"
    },
    "scrolled": false
   },
   "outputs": [
    {
     "data": {
      "text/plain": [
       "count    361878.000000\n",
       "mean         11.077029\n",
       "std         263.129266\n",
       "min      -80995.000000\n",
       "25%           2.000000\n",
       "50%           4.000000\n",
       "75%          12.000000\n",
       "max       80995.000000\n",
       "Name: Quantity, dtype: float64"
      ]
     },
     "execution_count": 13,
     "metadata": {},
     "output_type": "execute_result"
    }
   ],
   "source": [
    "df['Quantity'].describe()"
   ]
  },
  {
   "cell_type": "code",
   "execution_count": 14,
   "id": "09ff1ade",
   "metadata": {
    "ExecuteTime": {
     "end_time": "2022-06-24T23:08:56.195307Z",
     "start_time": "2022-06-24T23:08:56.071267Z"
    }
   },
   "outputs": [
    {
     "data": {
      "text/html": [
       "<div>\n",
       "<style scoped>\n",
       "    .dataframe tbody tr th:only-of-type {\n",
       "        vertical-align: middle;\n",
       "    }\n",
       "\n",
       "    .dataframe tbody tr th {\n",
       "        vertical-align: top;\n",
       "    }\n",
       "\n",
       "    .dataframe thead th {\n",
       "        text-align: right;\n",
       "    }\n",
       "</style>\n",
       "<table border=\"1\" class=\"dataframe\">\n",
       "  <thead>\n",
       "    <tr style=\"text-align: right;\">\n",
       "      <th></th>\n",
       "      <th>Quantity</th>\n",
       "      <th>UnitPrice</th>\n",
       "      <th>CustomerID</th>\n",
       "    </tr>\n",
       "  </thead>\n",
       "  <tbody>\n",
       "    <tr>\n",
       "      <th>count</th>\n",
       "      <td>354345.000000</td>\n",
       "      <td>354345.000000</td>\n",
       "      <td>354345.000000</td>\n",
       "    </tr>\n",
       "    <tr>\n",
       "      <th>mean</th>\n",
       "      <td>12.048913</td>\n",
       "      <td>2.963793</td>\n",
       "      <td>15552.436219</td>\n",
       "    </tr>\n",
       "    <tr>\n",
       "      <th>std</th>\n",
       "      <td>190.428127</td>\n",
       "      <td>17.862067</td>\n",
       "      <td>1594.546025</td>\n",
       "    </tr>\n",
       "    <tr>\n",
       "      <th>min</th>\n",
       "      <td>1.000000</td>\n",
       "      <td>0.000000</td>\n",
       "      <td>12346.000000</td>\n",
       "    </tr>\n",
       "    <tr>\n",
       "      <th>25%</th>\n",
       "      <td>2.000000</td>\n",
       "      <td>1.250000</td>\n",
       "      <td>14194.000000</td>\n",
       "    </tr>\n",
       "    <tr>\n",
       "      <th>50%</th>\n",
       "      <td>4.000000</td>\n",
       "      <td>1.950000</td>\n",
       "      <td>15522.000000</td>\n",
       "    </tr>\n",
       "    <tr>\n",
       "      <th>75%</th>\n",
       "      <td>12.000000</td>\n",
       "      <td>3.750000</td>\n",
       "      <td>16931.000000</td>\n",
       "    </tr>\n",
       "    <tr>\n",
       "      <th>max</th>\n",
       "      <td>80995.000000</td>\n",
       "      <td>8142.750000</td>\n",
       "      <td>18287.000000</td>\n",
       "    </tr>\n",
       "  </tbody>\n",
       "</table>\n",
       "</div>"
      ],
      "text/plain": [
       "            Quantity      UnitPrice     CustomerID\n",
       "count  354345.000000  354345.000000  354345.000000\n",
       "mean       12.048913       2.963793   15552.436219\n",
       "std       190.428127      17.862067    1594.546025\n",
       "min         1.000000       0.000000   12346.000000\n",
       "25%         2.000000       1.250000   14194.000000\n",
       "50%         4.000000       1.950000   15522.000000\n",
       "75%        12.000000       3.750000   16931.000000\n",
       "max     80995.000000    8142.750000   18287.000000"
      ]
     },
     "execution_count": 14,
     "metadata": {},
     "output_type": "execute_result"
    }
   ],
   "source": [
    "df[df['Quantity'] > 0].describe()"
   ]
  },
  {
   "cell_type": "code",
   "execution_count": 15,
   "id": "e207790f",
   "metadata": {
    "ExecuteTime": {
     "end_time": "2022-06-24T23:08:56.212739Z",
     "start_time": "2022-06-24T23:08:56.198425Z"
    },
    "scrolled": false
   },
   "outputs": [
    {
     "data": {
      "text/plain": [
       "1     71401\n",
       "2     54798\n",
       "12    49710\n",
       "6     32181\n",
       "4     28726\n",
       "3     25159\n",
       "24    19702\n",
       "10    18446\n",
       "8      9527\n",
       "5      7707\n",
       "Name: Quantity, dtype: int64"
      ]
     },
     "execution_count": 15,
     "metadata": {},
     "output_type": "execute_result"
    }
   ],
   "source": [
    "df['Quantity'].value_counts().head(10)"
   ]
  },
  {
   "cell_type": "code",
   "execution_count": 16,
   "id": "b6a82ae7",
   "metadata": {
    "ExecuteTime": {
     "end_time": "2022-06-24T23:08:56.693382Z",
     "start_time": "2022-06-24T23:08:56.219155Z"
    },
    "scrolled": false
   },
   "outputs": [
    {
     "data": {
      "image/png": "[encoded data removed]",
      "text/plain": [
       "<Figure size 432x288 with 1 Axes>"
      ]
     },
     "metadata": {
      "needs_background": "light"
     },
     "output_type": "display_data"
    }
   ],
   "source": [
    "sns.histplot(data = df[(df['Quantity'] > 0) & (df['Quantity'] < 1000)], x = 'Quantity', bins = 50)\n",
    "set_chart_settings('Histogram - Quantity')"
   ]
  },
  {
   "cell_type": "code",
   "execution_count": 17,
   "id": "0f977fec",
   "metadata": {
    "ExecuteTime": {
     "end_time": "2022-06-24T23:08:56.718248Z",
     "start_time": "2022-06-24T23:08:56.696880Z"
    }
   },
   "outputs": [
    {
     "name": "stdout",
     "output_type": "stream",
     "text": [
      "7533 3289 357 236 97\n"
     ]
    }
   ],
   "source": [
    "print(df[df['Quantity'] < 0].shape[0],\n",
    "df[df['Quantity'] > 100].shape[0],\n",
    "df[df['Quantity'] > 500].shape[0],\n",
    "df[df['Quantity'] > 600].shape[0],\n",
    "df[df['Quantity'] > 1000].shape[0])"
   ]
  },
  {
   "cell_type": "code",
   "execution_count": 18,
   "id": "a4e08c07",
   "metadata": {
    "ExecuteTime": {
     "end_time": "2022-06-24T23:08:56.735830Z",
     "start_time": "2022-06-24T23:08:56.721874Z"
    }
   },
   "outputs": [
    {
     "data": {
      "text/plain": [
       "-1     3331\n",
       "-2     1115\n",
       "-3      472\n",
       "-12     409\n",
       "-4      386\n",
       "-6      366\n",
       "-24     195\n",
       "-5      159\n",
       "-10     134\n",
       "-8      129\n",
       "Name: Quantity, dtype: int64"
      ]
     },
     "execution_count": 18,
     "metadata": {},
     "output_type": "execute_result"
    }
   ],
   "source": [
    "df[df['Quantity'] < 0]['Quantity'].value_counts().head(10)\n"
   ]
  },
  {
   "cell_type": "markdown",
   "id": "db41c65e",
   "metadata": {},
   "source": [
    "***\n",
    "\n",
    "Negative values are pretty similar to positive ones. Looks like they were mistyped, so, as a faster solution, we're going to replace all negative values by positive values, using abs() function."
   ]
  },
  {
   "cell_type": "code",
   "execution_count": 19,
   "id": "d12755d4",
   "metadata": {
    "ExecuteTime": {
     "end_time": "2022-06-24T23:08:56.932911Z",
     "start_time": "2022-06-24T23:08:56.738690Z"
    }
   },
   "outputs": [],
   "source": [
    "df['Quantity'] = df['Quantity'].apply(lambda x: abs(x) if x < 0\n",
    "                    else x)"
   ]
  },
  {
   "cell_type": "code",
   "execution_count": 20,
   "id": "ba2b231f",
   "metadata": {
    "ExecuteTime": {
     "end_time": "2022-06-24T23:08:56.953384Z",
     "start_time": "2022-06-24T23:08:56.939089Z"
    }
   },
   "outputs": [
    {
     "name": "stdout",
     "output_type": "stream",
     "text": [
      "1 80995\n",
      "0\n",
      "361878\n"
     ]
    }
   ],
   "source": [
    "print(df['Quantity'].min(), df['Quantity'].max())\n",
    "print(df[df['Quantity'] < 0].shape[0])\n",
    "print(df.shape[0])"
   ]
  },
  {
   "cell_type": "markdown",
   "id": "5b4f2497",
   "metadata": {
    "ExecuteTime": {
     "end_time": "2022-05-30T20:41:11.554021Z",
     "start_time": "2022-05-30T20:41:11.530906Z"
    }
   },
   "source": [
    "## DATA ANALYSIS"
   ]
  },
  {
   "cell_type": "code",
   "execution_count": 21,
   "id": "9e9bfab3",
   "metadata": {
    "ExecuteTime": {
     "end_time": "2022-06-24T23:08:56.977687Z",
     "start_time": "2022-06-24T23:08:56.957654Z"
    }
   },
   "outputs": [],
   "source": [
    "df1 = df.copy(deep = True)"
   ]
  },
  {
   "cell_type": "markdown",
   "id": "6ddf6c02",
   "metadata": {},
   "source": [
    "***\n",
    "\n",
    "We're going to create a revenue column:\n",
    "\n",
    "Quantity sold * Unit Price"
   ]
  },
  {
   "cell_type": "code",
   "execution_count": 22,
   "id": "c918319b",
   "metadata": {
    "ExecuteTime": {
     "end_time": "2022-06-24T23:08:57.054325Z",
     "start_time": "2022-06-24T23:08:56.981414Z"
    }
   },
   "outputs": [
    {
     "data": {
      "text/html": [
       "<div>\n",
       "<style scoped>\n",
       "    .dataframe tbody tr th:only-of-type {\n",
       "        vertical-align: middle;\n",
       "    }\n",
       "\n",
       "    .dataframe tbody tr th {\n",
       "        vertical-align: top;\n",
       "    }\n",
       "\n",
       "    .dataframe thead th {\n",
       "        text-align: right;\n",
       "    }\n",
       "</style>\n",
       "<table border=\"1\" class=\"dataframe\">\n",
       "  <thead>\n",
       "    <tr style=\"text-align: right;\">\n",
       "      <th></th>\n",
       "      <th>InvoiceNo</th>\n",
       "      <th>StockCode</th>\n",
       "      <th>Description</th>\n",
       "      <th>Quantity</th>\n",
       "      <th>InvoiceDate</th>\n",
       "      <th>UnitPrice</th>\n",
       "      <th>CustomerID</th>\n",
       "      <th>Country</th>\n",
       "      <th>revenue</th>\n",
       "    </tr>\n",
       "  </thead>\n",
       "  <tbody>\n",
       "    <tr>\n",
       "      <th>305530</th>\n",
       "      <td>563697</td>\n",
       "      <td>23321</td>\n",
       "      <td>SMALL WHITE HEART OF WICKER</td>\n",
       "      <td>3</td>\n",
       "      <td>2011-08-18 13:44:00</td>\n",
       "      <td>1.65</td>\n",
       "      <td>16813.0</td>\n",
       "      <td>United Kingdom</td>\n",
       "      <td>4.95</td>\n",
       "    </tr>\n",
       "    <tr>\n",
       "      <th>285503</th>\n",
       "      <td>561910</td>\n",
       "      <td>21533</td>\n",
       "      <td>RETROSPOT LARGE MILK JUG</td>\n",
       "      <td>12</td>\n",
       "      <td>2011-08-01 10:23:00</td>\n",
       "      <td>4.25</td>\n",
       "      <td>17053.0</td>\n",
       "      <td>United Kingdom</td>\n",
       "      <td>51.00</td>\n",
       "    </tr>\n",
       "    <tr>\n",
       "      <th>377801</th>\n",
       "      <td>569566</td>\n",
       "      <td>23114</td>\n",
       "      <td>VINTAGE LEAF CHOPPING BOARD</td>\n",
       "      <td>6</td>\n",
       "      <td>2011-10-05 09:55:00</td>\n",
       "      <td>4.95</td>\n",
       "      <td>14739.0</td>\n",
       "      <td>United Kingdom</td>\n",
       "      <td>29.70</td>\n",
       "    </tr>\n",
       "    <tr>\n",
       "      <th>466067</th>\n",
       "      <td>576301</td>\n",
       "      <td>23691</td>\n",
       "      <td>WRAP KEEP CALM BIRTHDAY</td>\n",
       "      <td>25</td>\n",
       "      <td>2011-11-14 14:40:00</td>\n",
       "      <td>0.42</td>\n",
       "      <td>14667.0</td>\n",
       "      <td>United Kingdom</td>\n",
       "      <td>10.50</td>\n",
       "    </tr>\n",
       "    <tr>\n",
       "      <th>328585</th>\n",
       "      <td>565790</td>\n",
       "      <td>23206</td>\n",
       "      <td>LUNCH BAG APPLE DESIGN</td>\n",
       "      <td>10</td>\n",
       "      <td>2011-09-07 09:15:00</td>\n",
       "      <td>1.65</td>\n",
       "      <td>16767.0</td>\n",
       "      <td>United Kingdom</td>\n",
       "      <td>16.50</td>\n",
       "    </tr>\n",
       "  </tbody>\n",
       "</table>\n",
       "</div>"
      ],
      "text/plain": [
       "       InvoiceNo StockCode                    Description  Quantity  \\\n",
       "305530    563697     23321    SMALL WHITE HEART OF WICKER         3   \n",
       "285503    561910     21533       RETROSPOT LARGE MILK JUG        12   \n",
       "377801    569566     23114  VINTAGE LEAF CHOPPING BOARD           6   \n",
       "466067    576301     23691        WRAP KEEP CALM BIRTHDAY        25   \n",
       "328585    565790     23206         LUNCH BAG APPLE DESIGN        10   \n",
       "\n",
       "               InvoiceDate  UnitPrice  CustomerID         Country  revenue  \n",
       "305530 2011-08-18 13:44:00       1.65     16813.0  United Kingdom     4.95  \n",
       "285503 2011-08-01 10:23:00       4.25     17053.0  United Kingdom    51.00  \n",
       "377801 2011-10-05 09:55:00       4.95     14739.0  United Kingdom    29.70  \n",
       "466067 2011-11-14 14:40:00       0.42     14667.0  United Kingdom    10.50  \n",
       "328585 2011-09-07 09:15:00       1.65     16767.0  United Kingdom    16.50  "
      ]
     },
     "execution_count": 22,
     "metadata": {},
     "output_type": "execute_result"
    }
   ],
   "source": [
    "df1['revenue'] = df1['Quantity'] * df1['UnitPrice']\n",
    "df1.sample(5)"
   ]
  },
  {
   "cell_type": "markdown",
   "id": "56f94b7d",
   "metadata": {},
   "source": [
    "***\n",
    "\n",
    "From InvoiceDate column, we can create some features as day of the week, day name, whether is workday or not, periodof the day, holiday, etc.\n",
    "\n",
    "In this notebook, we're going to create 3 more features, as following:\n",
    "\n",
    "1 - Name of the day\n",
    "\n",
    "2 - Workweek x weekend\n",
    "\n",
    "4 - Day period"
   ]
  },
  {
   "cell_type": "code",
   "execution_count": 23,
   "id": "7950904c",
   "metadata": {
    "ExecuteTime": {
     "end_time": "2022-06-24T23:08:57.400596Z",
     "start_time": "2022-06-24T23:08:57.058289Z"
    }
   },
   "outputs": [],
   "source": [
    "# \"spliting\" date and hour\n",
    "df1['date'] = df1['InvoiceDate'].dt.date\n",
    "df1['time'] = df1['InvoiceDate'].dt.time"
   ]
  },
  {
   "cell_type": "code",
   "execution_count": 24,
   "id": "4d06b142",
   "metadata": {
    "ExecuteTime": {
     "end_time": "2022-06-24T23:09:02.211248Z",
     "start_time": "2022-06-24T23:08:57.402994Z"
    }
   },
   "outputs": [],
   "source": [
    "# day of the week\n",
    "df1['day_of_week'] = df1['InvoiceDate'].apply(lambda x: x.strftime('%A'))"
   ]
  },
  {
   "cell_type": "code",
   "execution_count": 25,
   "id": "6d0ceb53",
   "metadata": {
    "ExecuteTime": {
     "end_time": "2022-06-24T23:09:02.387100Z",
     "start_time": "2022-06-24T23:09:02.213513Z"
    }
   },
   "outputs": [],
   "source": [
    "# Saturday or sunday\n",
    "df1['weekend'] = df1['day_of_week'].apply(lambda x: 1 if x == 'Saturday' or x == 'Sunday'\n",
    "                        else 0)"
   ]
  },
  {
   "cell_type": "code",
   "execution_count": 26,
   "id": "d650cef0",
   "metadata": {
    "ExecuteTime": {
     "end_time": "2022-06-24T23:09:05.131498Z",
     "start_time": "2022-06-24T23:09:02.389332Z"
    }
   },
   "outputs": [
    {
     "name": "stdout",
     "output_type": "stream",
     "text": [
      "06:10:00 20:38:00\n"
     ]
    }
   ],
   "source": [
    "# day period\n",
    "print(df1['time'].min(), df1['time'].max())\n",
    "\n",
    "now = datetime.datetime.now()\n",
    "period = now.replace(hour=12, minute=0, second=0, microsecond=0)\n",
    "\n",
    "# creating day period\n",
    "df1['day_period'] = df1['InvoiceDate'].apply(lambda x: 'before_noon' if x.time() < period.time()\n",
    "                                else 'after_noon')\n"
   ]
  },
  {
   "cell_type": "code",
   "execution_count": 27,
   "id": "f527d686",
   "metadata": {
    "ExecuteTime": {
     "end_time": "2022-06-24T23:09:05.553319Z",
     "start_time": "2022-06-24T23:09:05.133923Z"
    },
    "scrolled": true
   },
   "outputs": [
    {
     "name": "stdout",
     "output_type": "stream",
     "text": [
      "06:10:00\n",
      "11:59:00\n",
      "12:00:00\n",
      "20:38:00\n"
     ]
    }
   ],
   "source": [
    "# checking\n",
    "print(df1[df1['day_period'] == 'before_noon']['time'].min())\n",
    "print(df1[df1['day_period'] == 'before_noon']['time'].max())\n",
    "\n",
    "print(df1[df1['day_period'] == 'after_noon']['time'].min())\n",
    "print(df1[df1['day_period'] == 'after_noon']['time'].max())\n"
   ]
  },
  {
   "cell_type": "markdown",
   "id": "fb2993d5",
   "metadata": {},
   "source": [
    "## DATA VISUALIZATION"
   ]
  },
  {
   "cell_type": "code",
   "execution_count": 28,
   "id": "964ef58f",
   "metadata": {
    "ExecuteTime": {
     "end_time": "2022-06-24T23:09:05.594005Z",
     "start_time": "2022-06-24T23:09:05.556415Z"
    }
   },
   "outputs": [],
   "source": [
    "df2 = df1.copy(deep = True)"
   ]
  },
  {
   "cell_type": "markdown",
   "id": "3b780dab",
   "metadata": {},
   "source": [
    "***\n",
    "\n",
    "The final dataset in this section has 14 columns:\n",
    "\n",
    "- 'InvoiceNo'\n",
    "- 'StockCode'\n",
    "- 'Description'\n",
    "- 'Quantity'\n",
    "- 'InvoiceDate',\n",
    "- 'UnitPrice'\n",
    "- 'CustomerID'\n",
    "- 'Country'\n",
    "- 'revenue'\n",
    "- 'date'\n",
    "- 'time',\n",
    "- 'day_of_week'\n",
    "- 'weekend'\n",
    "- 'day_period'\n",
    "\n",
    "To make this section easier, we're going to drop some of these columns, as follows:\n",
    "\n",
    "1. **InvoiceNo**: we don't need this information for the purpose of this analysis\n",
    "\n",
    "2. **StockCode**: No information for the purpose of this analysis\n",
    "\n",
    "3. **Description**: The description column could be a good information, but for now, we're going to focus on others variables that don't need so much cleaning.\n",
    "\n",
    "4. **InvoiceDate**: We've created some other features based on this column, so, we no longer need this variable anymore.\n",
    "\n",
    "5. **Country**: It's all about United Kingdom, so, no need this column either.\n",
    "\n"
   ]
  },
  {
   "cell_type": "code",
   "execution_count": 29,
   "id": "e8b92c76",
   "metadata": {
    "ExecuteTime": {
     "end_time": "2022-06-24T23:09:05.652840Z",
     "start_time": "2022-06-24T23:09:05.609023Z"
    }
   },
   "outputs": [],
   "source": [
    "cols = ['InvoiceNo', 'StockCode', 'Description', 'InvoiceDate', 'Country']\n",
    "df2 = df2.drop(columns=(cols))"
   ]
  },
  {
   "cell_type": "code",
   "execution_count": 30,
   "id": "21b41f6d",
   "metadata": {
    "ExecuteTime": {
     "end_time": "2022-06-24T23:09:05.671807Z",
     "start_time": "2022-06-24T23:09:05.655351Z"
    }
   },
   "outputs": [
    {
     "data": {
      "text/html": [
       "<div>\n",
       "<style scoped>\n",
       "    .dataframe tbody tr th:only-of-type {\n",
       "        vertical-align: middle;\n",
       "    }\n",
       "\n",
       "    .dataframe tbody tr th {\n",
       "        vertical-align: top;\n",
       "    }\n",
       "\n",
       "    .dataframe thead th {\n",
       "        text-align: right;\n",
       "    }\n",
       "</style>\n",
       "<table border=\"1\" class=\"dataframe\">\n",
       "  <thead>\n",
       "    <tr style=\"text-align: right;\">\n",
       "      <th></th>\n",
       "      <th>Quantity</th>\n",
       "      <th>UnitPrice</th>\n",
       "      <th>CustomerID</th>\n",
       "      <th>revenue</th>\n",
       "      <th>date</th>\n",
       "      <th>time</th>\n",
       "      <th>day_of_week</th>\n",
       "      <th>weekend</th>\n",
       "      <th>day_period</th>\n",
       "    </tr>\n",
       "  </thead>\n",
       "  <tbody>\n",
       "    <tr>\n",
       "      <th>0</th>\n",
       "      <td>6</td>\n",
       "      <td>2.55</td>\n",
       "      <td>17850.0</td>\n",
       "      <td>15.30</td>\n",
       "      <td>2010-12-01</td>\n",
       "      <td>08:26:00</td>\n",
       "      <td>Wednesday</td>\n",
       "      <td>0</td>\n",
       "      <td>before_noon</td>\n",
       "    </tr>\n",
       "    <tr>\n",
       "      <th>1</th>\n",
       "      <td>6</td>\n",
       "      <td>3.39</td>\n",
       "      <td>17850.0</td>\n",
       "      <td>20.34</td>\n",
       "      <td>2010-12-01</td>\n",
       "      <td>08:26:00</td>\n",
       "      <td>Wednesday</td>\n",
       "      <td>0</td>\n",
       "      <td>before_noon</td>\n",
       "    </tr>\n",
       "    <tr>\n",
       "      <th>2</th>\n",
       "      <td>8</td>\n",
       "      <td>2.75</td>\n",
       "      <td>17850.0</td>\n",
       "      <td>22.00</td>\n",
       "      <td>2010-12-01</td>\n",
       "      <td>08:26:00</td>\n",
       "      <td>Wednesday</td>\n",
       "      <td>0</td>\n",
       "      <td>before_noon</td>\n",
       "    </tr>\n",
       "    <tr>\n",
       "      <th>3</th>\n",
       "      <td>6</td>\n",
       "      <td>3.39</td>\n",
       "      <td>17850.0</td>\n",
       "      <td>20.34</td>\n",
       "      <td>2010-12-01</td>\n",
       "      <td>08:26:00</td>\n",
       "      <td>Wednesday</td>\n",
       "      <td>0</td>\n",
       "      <td>before_noon</td>\n",
       "    </tr>\n",
       "    <tr>\n",
       "      <th>4</th>\n",
       "      <td>6</td>\n",
       "      <td>3.39</td>\n",
       "      <td>17850.0</td>\n",
       "      <td>20.34</td>\n",
       "      <td>2010-12-01</td>\n",
       "      <td>08:26:00</td>\n",
       "      <td>Wednesday</td>\n",
       "      <td>0</td>\n",
       "      <td>before_noon</td>\n",
       "    </tr>\n",
       "  </tbody>\n",
       "</table>\n",
       "</div>"
      ],
      "text/plain": [
       "   Quantity  UnitPrice  CustomerID  revenue        date      time day_of_week  \\\n",
       "0         6       2.55     17850.0    15.30  2010-12-01  08:26:00   Wednesday   \n",
       "1         6       3.39     17850.0    20.34  2010-12-01  08:26:00   Wednesday   \n",
       "2         8       2.75     17850.0    22.00  2010-12-01  08:26:00   Wednesday   \n",
       "3         6       3.39     17850.0    20.34  2010-12-01  08:26:00   Wednesday   \n",
       "4         6       3.39     17850.0    20.34  2010-12-01  08:26:00   Wednesday   \n",
       "\n",
       "   weekend   day_period  \n",
       "0        0  before_noon  \n",
       "1        0  before_noon  \n",
       "2        0  before_noon  \n",
       "3        0  before_noon  \n",
       "4        0  before_noon  "
      ]
     },
     "execution_count": 30,
     "metadata": {},
     "output_type": "execute_result"
    }
   ],
   "source": [
    "df2.head()"
   ]
  },
  {
   "cell_type": "markdown",
   "id": "02e9615e",
   "metadata": {},
   "source": [
    "### Quantity"
   ]
  },
  {
   "cell_type": "code",
   "execution_count": 31,
   "id": "8ad48705",
   "metadata": {
    "ExecuteTime": {
     "end_time": "2022-06-24T23:09:06.049927Z",
     "start_time": "2022-06-24T23:09:05.675016Z"
    }
   },
   "outputs": [
    {
     "data": {
      "image/png": "[encoded data removed]",
      "text/plain": [
       "<Figure size 864x288 with 1 Axes>"
      ]
     },
     "metadata": {
      "needs_background": "light"
     },
     "output_type": "display_data"
    }
   ],
   "source": [
    "plt.figure(figsize = (12,4))\n",
    "\n",
    "ax = sns.lineplot(data = df2[['date', 'Quantity']].groupby('date', as_index= False).sum(),  x = 'date',\n",
    "                  y ='Quantity',\n",
    "                 color = 'cadetblue')\n",
    "set_chart_settings('Quantity by date')"
   ]
  },
  {
   "cell_type": "code",
   "execution_count": 32,
   "id": "2fa811db",
   "metadata": {
    "ExecuteTime": {
     "end_time": "2022-06-24T23:09:06.353796Z",
     "start_time": "2022-06-24T23:09:06.052465Z"
    }
   },
   "outputs": [
    {
     "data": {
      "image/png": "[encoded data removed]",
      "text/plain": [
       "<Figure size 864x288 with 1 Axes>"
      ]
     },
     "metadata": {
      "needs_background": "light"
     },
     "output_type": "display_data"
    }
   ],
   "source": [
    "plt.figure(figsize = (12,4))\n",
    "\n",
    "order = ['Monday', 'Tuesday', 'Wednesday', 'Thursday', 'Friday', 'Saturday', 'Sunday']\n",
    "ax = sns.barplot(data = df2[['day_of_week', 'Quantity']].groupby('day_of_week', as_index= False).sum(),  x = 'day_of_week',\n",
    "                 y ='Quantity',\n",
    "                color = 'cadetblue',\n",
    "                order = order)\n",
    "set_chart_settings('Quantity by day of the week')"
   ]
  },
  {
   "cell_type": "code",
   "execution_count": 33,
   "id": "f78c7a6b",
   "metadata": {
    "ExecuteTime": {
     "end_time": "2022-06-24T23:09:06.567797Z",
     "start_time": "2022-06-24T23:09:06.357780Z"
    }
   },
   "outputs": [
    {
     "data": {
      "image/png": "[encoded data removed]",
      "text/plain": [
       "<Figure size 864x288 with 1 Axes>"
      ]
     },
     "metadata": {
      "needs_background": "light"
     },
     "output_type": "display_data"
    }
   ],
   "source": [
    "plt.figure(figsize = (12,4))\n",
    "\n",
    "\n",
    "ax = sns.barplot(data = df2[['weekend', 'Quantity']].groupby('weekend', as_index= False).sum(),\n",
    "                 x = 'weekend',\n",
    "                 y ='Quantity',\n",
    "                color = 'cadetblue',\n",
    ")\n",
    "set_chart_settings('Quantity - weekday or weekend')"
   ]
  },
  {
   "cell_type": "code",
   "execution_count": 34,
   "id": "4b2a1291",
   "metadata": {
    "ExecuteTime": {
     "end_time": "2022-06-24T23:09:06.828455Z",
     "start_time": "2022-06-24T23:09:06.570679Z"
    }
   },
   "outputs": [
    {
     "data": {
      "image/png": "[encoded data removed]",
      "text/plain": [
       "<Figure size 864x288 with 1 Axes>"
      ]
     },
     "metadata": {
      "needs_background": "light"
     },
     "output_type": "display_data"
    }
   ],
   "source": [
    "plt.figure(figsize = (12,4))\n",
    "\n",
    "\n",
    "ax = sns.barplot(data = df2[['day_period', 'Quantity']].groupby('day_period', as_index= False).sum(),\n",
    "                 x = 'day_period',\n",
    "                 y ='Quantity',\n",
    "                color = 'cadetblue',\n",
    ")\n",
    "set_chart_settings('Quantity by Period of the Day')"
   ]
  },
  {
   "cell_type": "markdown",
   "id": "4b3ef495",
   "metadata": {},
   "source": [
    "***\n",
    "\n",
    "1. The quantity sold by date has two peaks (2011-02 and 2011-12). Although we can see some variations, there's a pattern in the line chart.\n",
    "\n",
    "2. We don't have any data on Saturdays (might have an issue in this data). It should be investigate further.\n",
    "\n",
    "3. Thusday and Thursday are the days of the weeks with more quantity sold.\n",
    "\n",
    "4. There're much more sales during the week.\n",
    "\n",
    "5. There're more sales after noon"
   ]
  },
  {
   "cell_type": "markdown",
   "id": "af757bd8",
   "metadata": {
    "ExecuteTime": {
     "end_time": "2022-06-01T23:04:55.024353Z",
     "start_time": "2022-06-01T23:04:55.000114Z"
    }
   },
   "source": [
    "## CUSTOMER ANALYSIS"
   ]
  },
  {
   "cell_type": "markdown",
   "id": "0fb1a07e",
   "metadata": {},
   "source": [
    "### COHORT ANALYSIS"
   ]
  },
  {
   "cell_type": "markdown",
   "id": "83bc5bf9",
   "metadata": {},
   "source": [
    "At vero eos et accusamus et iusto odio dignissimos ducimus qui blanditiis praesentium voluptatum deleniti atque corrupti quos dolores et quas molestias excepturi sint occaecati cupiditate non provident, similique sunt in culpa qui officia deserunt mollitia animi, id est laborum et dolorum fuga. Et harum quidem rerum facilis est et expedita\n",
    "\n",
    "distinctio. Nam libero tempore, cum soluta nobis est eligendi optio cumque nihil impedit quo minus id quod maxime placeat facere possimus, omnis voluptas assumenda est, omnis dolor repellendus. Temporibus autem quibusdam et aut"
   ]
  },
  {
   "cell_type": "code",
   "execution_count": 35,
   "id": "4d4b0d93",
   "metadata": {
    "ExecuteTime": {
     "end_time": "2022-06-24T23:09:06.843253Z",
     "start_time": "2022-06-24T23:09:06.831468Z"
    }
   },
   "outputs": [],
   "source": [
    "df3 = df2[['CustomerID', 'date' ,'revenue']]"
   ]
  },
  {
   "cell_type": "code",
   "execution_count": 36,
   "id": "7322d111",
   "metadata": {
    "ExecuteTime": {
     "end_time": "2022-06-24T23:09:12.461393Z",
     "start_time": "2022-06-24T23:09:06.846725Z"
    }
   },
   "outputs": [
    {
     "data": {
      "text/html": [
       "<div>\n",
       "<style scoped>\n",
       "    .dataframe tbody tr th:only-of-type {\n",
       "        vertical-align: middle;\n",
       "    }\n",
       "\n",
       "    .dataframe tbody tr th {\n",
       "        vertical-align: top;\n",
       "    }\n",
       "\n",
       "    .dataframe thead th {\n",
       "        text-align: right;\n",
       "    }\n",
       "</style>\n",
       "<table border=\"1\" class=\"dataframe\">\n",
       "  <thead>\n",
       "    <tr style=\"text-align: right;\">\n",
       "      <th></th>\n",
       "      <th>CustomerID</th>\n",
       "      <th>date</th>\n",
       "      <th>revenue</th>\n",
       "      <th>month</th>\n",
       "    </tr>\n",
       "  </thead>\n",
       "  <tbody>\n",
       "    <tr>\n",
       "      <th>525367</th>\n",
       "      <td>16873.0</td>\n",
       "      <td>2011-12-05</td>\n",
       "      <td>10.2</td>\n",
       "      <td>2011-12</td>\n",
       "    </tr>\n",
       "  </tbody>\n",
       "</table>\n",
       "</div>"
      ],
      "text/plain": [
       "        CustomerID       date  revenue    month\n",
       "525367     16873.0 2011-12-05     10.2  2011-12"
      ]
     },
     "execution_count": 36,
     "metadata": {},
     "output_type": "execute_result"
    }
   ],
   "source": [
    "#converting date column and extracting the month and year\n",
    "df3 = df3.copy()\n",
    "df3['date'] = df3['date'].astype('datetime64')\n",
    "df3['month'] = df3['date'].apply(lambda x: x.strftime('%Y-%m'))\n",
    "\n",
    "df3.sample()"
   ]
  },
  {
   "cell_type": "code",
   "execution_count": 37,
   "id": "0aa4fd01",
   "metadata": {
    "ExecuteTime": {
     "end_time": "2022-06-24T23:09:13.085125Z",
     "start_time": "2022-06-24T23:09:12.464053Z"
    }
   },
   "outputs": [
    {
     "data": {
      "text/html": [
       "<div>\n",
       "<style scoped>\n",
       "    .dataframe tbody tr th:only-of-type {\n",
       "        vertical-align: middle;\n",
       "    }\n",
       "\n",
       "    .dataframe tbody tr th {\n",
       "        vertical-align: top;\n",
       "    }\n",
       "\n",
       "    .dataframe thead th {\n",
       "        text-align: right;\n",
       "    }\n",
       "</style>\n",
       "<table border=\"1\" class=\"dataframe\">\n",
       "  <thead>\n",
       "    <tr style=\"text-align: right;\">\n",
       "      <th></th>\n",
       "      <th>CustomerID</th>\n",
       "      <th>date</th>\n",
       "      <th>revenue</th>\n",
       "      <th>month</th>\n",
       "      <th>cohort</th>\n",
       "    </tr>\n",
       "  </thead>\n",
       "  <tbody>\n",
       "    <tr>\n",
       "      <th>0</th>\n",
       "      <td>17850.0</td>\n",
       "      <td>2010-12-01</td>\n",
       "      <td>15.30</td>\n",
       "      <td>2010-12</td>\n",
       "      <td>2010-12</td>\n",
       "    </tr>\n",
       "    <tr>\n",
       "      <th>1</th>\n",
       "      <td>17850.0</td>\n",
       "      <td>2010-12-01</td>\n",
       "      <td>20.34</td>\n",
       "      <td>2010-12</td>\n",
       "      <td>2010-12</td>\n",
       "    </tr>\n",
       "    <tr>\n",
       "      <th>2</th>\n",
       "      <td>17850.0</td>\n",
       "      <td>2010-12-01</td>\n",
       "      <td>22.00</td>\n",
       "      <td>2010-12</td>\n",
       "      <td>2010-12</td>\n",
       "    </tr>\n",
       "    <tr>\n",
       "      <th>3</th>\n",
       "      <td>17850.0</td>\n",
       "      <td>2010-12-01</td>\n",
       "      <td>20.34</td>\n",
       "      <td>2010-12</td>\n",
       "      <td>2010-12</td>\n",
       "    </tr>\n",
       "    <tr>\n",
       "      <th>4</th>\n",
       "      <td>17850.0</td>\n",
       "      <td>2010-12-01</td>\n",
       "      <td>20.34</td>\n",
       "      <td>2010-12</td>\n",
       "      <td>2010-12</td>\n",
       "    </tr>\n",
       "  </tbody>\n",
       "</table>\n",
       "</div>"
      ],
      "text/plain": [
       "   CustomerID       date  revenue    month   cohort\n",
       "0     17850.0 2010-12-01    15.30  2010-12  2010-12\n",
       "1     17850.0 2010-12-01    20.34  2010-12  2010-12\n",
       "2     17850.0 2010-12-01    22.00  2010-12  2010-12\n",
       "3     17850.0 2010-12-01    20.34  2010-12  2010-12\n",
       "4     17850.0 2010-12-01    20.34  2010-12  2010-12"
      ]
     },
     "execution_count": 37,
     "metadata": {},
     "output_type": "execute_result"
    }
   ],
   "source": [
    "#getting the first date by client\n",
    "df3 = df3.set_index('CustomerID')\n",
    "df3['cohort'] = df3.groupby(level = 0)['month'].min()\n",
    "df3 = df3.reset_index()\n",
    "\n",
    "df3.head()"
   ]
  },
  {
   "cell_type": "code",
   "execution_count": 38,
   "id": "8add1c85",
   "metadata": {
    "ExecuteTime": {
     "end_time": "2022-06-24T23:09:13.201887Z",
     "start_time": "2022-06-24T23:09:13.088006Z"
    },
    "scrolled": false
   },
   "outputs": [],
   "source": [
    "cohort = df3.groupby(['cohort', 'month'])\n",
    "cohort2 = cohort.agg({'CustomerID' : pd.Series.nunique})\n",
    "cohort2 = cohort2.rename(columns ={'CustomerID' : 'total_customers'})\n"
   ]
  },
  {
   "cell_type": "code",
   "execution_count": 39,
   "id": "0dfda6c3",
   "metadata": {
    "ExecuteTime": {
     "end_time": "2022-06-24T23:09:13.234008Z",
     "start_time": "2022-06-24T23:09:13.204110Z"
    },
    "scrolled": false
   },
   "outputs": [],
   "source": [
    "def plot_cohort_period(df3):\n",
    "    df3['cohort_period'] = np.arange(len(df3)) +1\n",
    "    return df3\n",
    "\n",
    "cohort2 = cohort2.groupby(level = 0).apply(plot_cohort_period)\n",
    "cohort2 = cohort2.reset_index().set_index(['cohort', 'cohort_period'])\n",
    "#cohort2.set_index(['cohort', 'cohort_period'])\n"
   ]
  },
  {
   "cell_type": "code",
   "execution_count": 40,
   "id": "a7e64e32",
   "metadata": {
    "ExecuteTime": {
     "end_time": "2022-06-24T23:09:13.244910Z",
     "start_time": "2022-06-24T23:09:13.237037Z"
    }
   },
   "outputs": [],
   "source": [
    "cohort_grouped_size = cohort2['total_customers'].groupby(level=0).first()"
   ]
  },
  {
   "cell_type": "code",
   "execution_count": 41,
   "id": "b2723754",
   "metadata": {
    "ExecuteTime": {
     "end_time": "2022-06-24T23:09:13.255402Z",
     "start_time": "2022-06-24T23:09:13.248416Z"
    }
   },
   "outputs": [],
   "source": [
    "users = cohort2['total_customers'].unstack(0).divide(cohort_grouped_size, axis = 1)"
   ]
  },
  {
   "cell_type": "code",
   "execution_count": 42,
   "id": "82520a27",
   "metadata": {
    "ExecuteTime": {
     "end_time": "2022-06-24T23:09:14.144044Z",
     "start_time": "2022-06-24T23:09:13.259094Z"
    }
   },
   "outputs": [
    {
     "data": {
      "text/plain": [
       "<AxesSubplot:xlabel='cohort_period', ylabel='cohort'>"
      ]
     },
     "execution_count": 42,
     "metadata": {},
     "output_type": "execute_result"
    },
    {
     "data": {
      "image/png": "[encoded data removed]",
      "text/plain": [
       "<Figure size 720x504 with 2 Axes>"
      ]
     },
     "metadata": {
      "needs_background": "light"
     },
     "output_type": "display_data"
    }
   ],
   "source": [
    "plt.figure(figsize = (10, 7))\n",
    "sns.heatmap(users.T, mask = users.T.isnull(), annot = True)\n"
   ]
  },
  {
   "cell_type": "markdown",
   "id": "67973e9e",
   "metadata": {},
   "source": [
    "At vero eos et accusamus et iusto odio dignissimos ducimus qui blanditiis praesentium voluptatum deleniti atque corrupti quos dolores et quas molestias excepturi sint occaecati cupiditate non provident.\n",
    "\n",
    "Similique sunt in culpa qui officia deserunt mollitia animi, id est laborum et dolorum fuga. Et harum quidem rerum facilis est et expedita"
   ]
  },
  {
   "cell_type": "markdown",
   "id": "5543e915",
   "metadata": {},
   "source": [
    "### RFM TABLE"
   ]
  },
  {
   "cell_type": "markdown",
   "id": "b1685aa5",
   "metadata": {},
   "source": [
    "At vero eos et accusamus et iusto odio dignissimos ducimus qui blanditiis praesentium voluptatum deleniti atque corrupti quos dolores et quas molestias excepturi sint occaecati cupiditate non provident, similique sunt in culpa qui officia deserunt mollitia animi, id est laborum et dolorum fuga. Et harum quidem rerum facilis est et expedita\n",
    "\n",
    "distinctio. Nam libero tempore, cum soluta nobis est eligendi optio cumque nihil impedit quo minus id quod maxime placeat facere possimus, omnis voluptas assumenda est, omnis dolor repellendus. Temporibus autem quibusdam et aut\n"
   ]
  },
  {
   "cell_type": "code",
   "execution_count": 43,
   "id": "68cfdd16",
   "metadata": {
    "ExecuteTime": {
     "end_time": "2022-06-24T23:09:14.160714Z",
     "start_time": "2022-06-24T23:09:14.147146Z"
    }
   },
   "outputs": [
    {
     "name": "stdout",
     "output_type": "stream",
     "text": [
      "recency:  4175 days, 0:00:00\n",
      "frequency:  2\n",
      "revenue:  154367.2\n"
     ]
    }
   ],
   "source": [
    "print('recency: ', now.date() - df2[df2['CustomerID'] == 12346]['date'].max())\n",
    "print('frequency: ', len(df2[df2['CustomerID'] == 12346]['CustomerID']))\n",
    "print('revenue: ' , df2[df2['CustomerID'] == 12346]['revenue'].sum() )"
   ]
  },
  {
   "cell_type": "code",
   "execution_count": 44,
   "id": "b325d717",
   "metadata": {
    "ExecuteTime": {
     "end_time": "2022-06-24T23:09:15.158379Z",
     "start_time": "2022-06-24T23:09:14.164024Z"
    }
   },
   "outputs": [
    {
     "data": {
      "text/html": [
       "<div>\n",
       "<style scoped>\n",
       "    .dataframe tbody tr th:only-of-type {\n",
       "        vertical-align: middle;\n",
       "    }\n",
       "\n",
       "    .dataframe tbody tr th {\n",
       "        vertical-align: top;\n",
       "    }\n",
       "\n",
       "    .dataframe thead th {\n",
       "        text-align: right;\n",
       "    }\n",
       "</style>\n",
       "<table border=\"1\" class=\"dataframe\">\n",
       "  <thead>\n",
       "    <tr style=\"text-align: right;\">\n",
       "      <th></th>\n",
       "      <th>CustomerID</th>\n",
       "      <th>recency</th>\n",
       "      <th>frequency</th>\n",
       "      <th>revenue</th>\n",
       "    </tr>\n",
       "  </thead>\n",
       "  <tbody>\n",
       "    <tr>\n",
       "      <th>0</th>\n",
       "      <td>12346.0</td>\n",
       "      <td>348</td>\n",
       "      <td>2</td>\n",
       "      <td>154367.20</td>\n",
       "    </tr>\n",
       "    <tr>\n",
       "      <th>1</th>\n",
       "      <td>12747.0</td>\n",
       "      <td>25</td>\n",
       "      <td>103</td>\n",
       "      <td>4196.01</td>\n",
       "    </tr>\n",
       "    <tr>\n",
       "      <th>2</th>\n",
       "      <td>12748.0</td>\n",
       "      <td>23</td>\n",
       "      <td>4642</td>\n",
       "      <td>38367.36</td>\n",
       "    </tr>\n",
       "    <tr>\n",
       "      <th>3</th>\n",
       "      <td>12749.0</td>\n",
       "      <td>26</td>\n",
       "      <td>231</td>\n",
       "      <td>4313.56</td>\n",
       "    </tr>\n",
       "    <tr>\n",
       "      <th>4</th>\n",
       "      <td>12820.0</td>\n",
       "      <td>26</td>\n",
       "      <td>59</td>\n",
       "      <td>942.34</td>\n",
       "    </tr>\n",
       "    <tr>\n",
       "      <th>...</th>\n",
       "      <td>...</td>\n",
       "      <td>...</td>\n",
       "      <td>...</td>\n",
       "      <td>...</td>\n",
       "    </tr>\n",
       "    <tr>\n",
       "      <th>3945</th>\n",
       "      <td>18280.0</td>\n",
       "      <td>300</td>\n",
       "      <td>10</td>\n",
       "      <td>180.60</td>\n",
       "    </tr>\n",
       "    <tr>\n",
       "      <th>3946</th>\n",
       "      <td>18281.0</td>\n",
       "      <td>203</td>\n",
       "      <td>7</td>\n",
       "      <td>80.82</td>\n",
       "    </tr>\n",
       "    <tr>\n",
       "      <th>3947</th>\n",
       "      <td>18282.0</td>\n",
       "      <td>30</td>\n",
       "      <td>13</td>\n",
       "      <td>179.50</td>\n",
       "    </tr>\n",
       "    <tr>\n",
       "      <th>3948</th>\n",
       "      <td>18283.0</td>\n",
       "      <td>26</td>\n",
       "      <td>756</td>\n",
       "      <td>2094.88</td>\n",
       "    </tr>\n",
       "    <tr>\n",
       "      <th>3949</th>\n",
       "      <td>18287.0</td>\n",
       "      <td>65</td>\n",
       "      <td>70</td>\n",
       "      <td>1837.28</td>\n",
       "    </tr>\n",
       "  </tbody>\n",
       "</table>\n",
       "<p>3950 rows × 4 columns</p>\n",
       "</div>"
      ],
      "text/plain": [
       "      CustomerID  recency  frequency    revenue\n",
       "0        12346.0      348          2  154367.20\n",
       "1        12747.0       25        103    4196.01\n",
       "2        12748.0       23       4642   38367.36\n",
       "3        12749.0       26        231    4313.56\n",
       "4        12820.0       26         59     942.34\n",
       "...          ...      ...        ...        ...\n",
       "3945     18280.0      300         10     180.60\n",
       "3946     18281.0      203          7      80.82\n",
       "3947     18282.0       30         13     179.50\n",
       "3948     18283.0       26        756    2094.88\n",
       "3949     18287.0       65         70    1837.28\n",
       "\n",
       "[3950 rows x 4 columns]"
      ]
     },
     "execution_count": 44,
     "metadata": {},
     "output_type": "execute_result"
    }
   ],
   "source": [
    "now = datetime.date(year = 2012, month = 1, day = 1)\n",
    "\n",
    "rfm = df1.groupby('CustomerID').agg({'date': lambda x: ( now- x.max()).days,\n",
    "                             'CustomerID' : lambda x: len(x),\n",
    "                                    'revenue': lambda x: x.sum()})\n",
    "\n",
    "rfm = rfm.rename(columns=({'CustomerID' : 'frequency',\n",
    "                          'date' : 'recency'}))\n",
    "rfm = rfm.reset_index()\n",
    "\n",
    "rfm"
   ]
  },
  {
   "cell_type": "markdown",
   "id": "17e87112",
   "metadata": {},
   "source": [
    "#### RFM TABLE ANALYSIS"
   ]
  },
  {
   "cell_type": "code",
   "execution_count": 45,
   "id": "6edf999e",
   "metadata": {
    "ExecuteTime": {
     "end_time": "2022-06-24T23:09:28.297626Z",
     "start_time": "2022-06-24T23:09:15.160675Z"
    }
   },
   "outputs": [
    {
     "data": {
      "image/png": "[encoded data removed]",
      "text/plain": [
       "<Figure size 1080x360 with 3 Axes>"
      ]
     },
     "metadata": {
      "needs_background": "light"
     },
     "output_type": "display_data"
    }
   ],
   "source": [
    "#recency\n",
    "\n",
    "plt.figure(figsize = (15,5))\n",
    "plt.subplot(1, 3, 1)\n",
    "sns.histplot(data = rfm, x = 'recency')\n",
    "set_chart_settings('Histogram - Recency')\n",
    "\n",
    "plt.subplot(1, 3, 2)\n",
    "ax2 = sns.histplot(data = rfm, x = 'frequency')\n",
    "set_chart_settings('Histogram - Frequency')\n",
    "ax2.set_xscale(\"log\")\n",
    "\n",
    "\n",
    "plt.subplot(1, 3, 3)\n",
    "ax3 = sns.histplot(data = rfm, x = 'revenue')\n",
    "set_chart_settings('Histogram - Revenue')\n",
    "ax3.set_xscale(\"log\")\n"
   ]
  },
  {
   "cell_type": "code",
   "execution_count": 46,
   "id": "feec3935",
   "metadata": {
    "ExecuteTime": {
     "end_time": "2022-06-24T23:09:28.314675Z",
     "start_time": "2022-06-24T23:09:28.300665Z"
    }
   },
   "outputs": [
    {
     "data": {
      "text/plain": [
       "count    3950.000000\n",
       "mean      114.323038\n",
       "std       100.236848\n",
       "min        23.000000\n",
       "25%        39.000000\n",
       "50%        73.000000\n",
       "75%       166.000000\n",
       "max       396.000000\n",
       "Name: recency, dtype: float64"
      ]
     },
     "execution_count": 46,
     "metadata": {},
     "output_type": "execute_result"
    }
   ],
   "source": [
    "rfm['recency'].describe()"
   ]
  },
  {
   "cell_type": "code",
   "execution_count": 47,
   "id": "0c7c78c2",
   "metadata": {
    "ExecuteTime": {
     "end_time": "2022-06-24T23:09:28.337255Z",
     "start_time": "2022-06-24T23:09:28.318437Z"
    }
   },
   "outputs": [
    {
     "data": {
      "text/plain": [
       "count    3950.000000\n",
       "mean       91.614684\n",
       "std       220.557389\n",
       "min         1.000000\n",
       "25%        17.000000\n",
       "50%        41.000000\n",
       "75%       101.000000\n",
       "max      7983.000000\n",
       "Name: frequency, dtype: float64"
      ]
     },
     "execution_count": 47,
     "metadata": {},
     "output_type": "execute_result"
    }
   ],
   "source": [
    "rfm['frequency'].describe()"
   ]
  },
  {
   "cell_type": "code",
   "execution_count": 48,
   "id": "6444cb9c",
   "metadata": {
    "ExecuteTime": {
     "end_time": "2022-06-24T23:09:28.366446Z",
     "start_time": "2022-06-24T23:09:28.342395Z"
    }
   },
   "outputs": [
    {
     "data": {
      "text/plain": [
       "count      3950.000000\n",
       "mean       1987.065750\n",
       "std        9348.700952\n",
       "min           0.000000\n",
       "25%         300.835000\n",
       "50%         653.085000\n",
       "75%        1611.307500\n",
       "max      336942.100000\n",
       "Name: revenue, dtype: float64"
      ]
     },
     "execution_count": 48,
     "metadata": {},
     "output_type": "execute_result"
    }
   ],
   "source": [
    "rfm['revenue'].describe()"
   ]
  },
  {
   "cell_type": "code",
   "execution_count": 49,
   "id": "2acc0aba",
   "metadata": {
    "ExecuteTime": {
     "end_time": "2022-06-24T23:09:29.984154Z",
     "start_time": "2022-06-24T23:09:28.370861Z"
    }
   },
   "outputs": [
    {
     "data": {
      "image/png": "[encoded data removed]",
      "text/plain": [
       "<Figure size 1080x360 with 3 Axes>"
      ]
     },
     "metadata": {
      "needs_background": "light"
     },
     "output_type": "display_data"
    }
   ],
   "source": [
    "#recency\n",
    "\n",
    "plt.figure(figsize = (15,5))\n",
    "plt.subplot(1, 3, 1)\n",
    "sns.scatterplot(data = rfm, x = 'recency', y = 'frequency')\n",
    "set_chart_settings('Histogram - Recency x frequency')\n",
    "\n",
    "plt.subplot(1, 3, 2)\n",
    "ax2 = sns.scatterplot(data = rfm, x = 'frequency', y = 'revenue')\n",
    "set_chart_settings('Histogram - Frequency x revenue')\n",
    "ax2.set_xscale(\"log\")\n",
    "\n",
    "plt.subplot(1, 3, 3)\n",
    "ax3 = sns.scatterplot(data = rfm, x = 'revenue', y = 'recency')\n",
    "set_chart_settings('Histogram - Revenue x recency')\n",
    "ax3.set_xscale(\"log\")"
   ]
  },
  {
   "cell_type": "markdown",
   "id": "c81b1b24",
   "metadata": {},
   "source": [
    "## K-MEANS | GENERAL"
   ]
  },
  {
   "cell_type": "code",
   "execution_count": 50,
   "id": "7957287e",
   "metadata": {
    "ExecuteTime": {
     "end_time": "2022-06-24T23:09:30.001009Z",
     "start_time": "2022-06-24T23:09:29.986413Z"
    }
   },
   "outputs": [
    {
     "data": {
      "text/plain": [
       "array([[ 2.33154326e+00, -4.06361491e-01,  1.63016688e+01],\n",
       "       [-8.91232605e-01,  5.16271886e-02,  2.36313465e-01],\n",
       "       [-9.11187873e-01,  2.06339105e+01,  3.89197391e+00],\n",
       "       ...,\n",
       "       [-8.41344433e-01, -3.56481535e-01, -1.93373883e-01],\n",
       "       [-8.81254971e-01,  3.01268271e+00,  1.15339982e-02],\n",
       "       [-4.92127234e-01, -9.80126769e-02, -1.60241209e-02]])"
      ]
     },
     "execution_count": 50,
     "metadata": {},
     "output_type": "execute_result"
    }
   ],
   "source": [
    "scaler = StandardScaler()\n",
    "\n",
    "X = rfm[['recency', 'frequency', 'revenue']]\n",
    "x_std = scaler.fit_transform(X)\n",
    "\n",
    "x_std"
   ]
  },
  {
   "cell_type": "code",
   "execution_count": 51,
   "id": "df4f07de",
   "metadata": {
    "ExecuteTime": {
     "end_time": "2022-06-24T23:09:31.416801Z",
     "start_time": "2022-06-24T23:09:30.004377Z"
    }
   },
   "outputs": [
    {
     "data": {
      "image/png": "[encoded data removed]",
      "text/plain": [
       "<Figure size 432x288 with 1 Axes>"
      ]
     },
     "metadata": {
      "needs_background": "light"
     },
     "output_type": "display_data"
    }
   ],
   "source": [
    "wcss = []\n",
    "\n",
    "for i in range(1, 11):\n",
    "    kmeans = KMeans(n_clusters = i, init= 'k-means++', random_state = 0)\n",
    "    kmeans.fit(X)\n",
    "    wcss.append(kmeans.inertia_)\n",
    "    \n",
    "plt.plot(range(1, 11), wcss)\n",
    "set_chart_settings('Elbow Method')"
   ]
  },
  {
   "cell_type": "code",
   "execution_count": 52,
   "id": "58564cdc",
   "metadata": {
    "ExecuteTime": {
     "end_time": "2022-06-24T23:09:31.530213Z",
     "start_time": "2022-06-24T23:09:31.420393Z"
    }
   },
   "outputs": [],
   "source": [
    "kmeans = KMeans(n_clusters = 4, init = 'k-means++')\n",
    "\n",
    "kmeans.fit(x_std)\n",
    "rfm['recency_cluster'] = kmeans.predict(x_std)"
   ]
  },
  {
   "cell_type": "code",
   "execution_count": 53,
   "id": "d107d9ca",
   "metadata": {
    "ExecuteTime": {
     "end_time": "2022-06-24T23:09:31.559343Z",
     "start_time": "2022-06-24T23:09:31.533243Z"
    },
    "scrolled": true
   },
   "outputs": [
    {
     "data": {
      "text/html": [
       "<div>\n",
       "<style scoped>\n",
       "    .dataframe tbody tr th:only-of-type {\n",
       "        vertical-align: middle;\n",
       "    }\n",
       "\n",
       "    .dataframe tbody tr th {\n",
       "        vertical-align: top;\n",
       "    }\n",
       "\n",
       "    .dataframe thead th {\n",
       "        text-align: right;\n",
       "    }\n",
       "</style>\n",
       "<table border=\"1\" class=\"dataframe\">\n",
       "  <thead>\n",
       "    <tr style=\"text-align: right;\">\n",
       "      <th></th>\n",
       "      <th>CustomerID</th>\n",
       "      <th>recency</th>\n",
       "      <th>frequency</th>\n",
       "      <th>revenue</th>\n",
       "    </tr>\n",
       "    <tr>\n",
       "      <th>recency_cluster</th>\n",
       "      <th></th>\n",
       "      <th></th>\n",
       "      <th></th>\n",
       "      <th></th>\n",
       "    </tr>\n",
       "  </thead>\n",
       "  <tbody>\n",
       "    <tr>\n",
       "      <th>0</th>\n",
       "      <td>15619.266467</td>\n",
       "      <td>267.157685</td>\n",
       "      <td>27.741517</td>\n",
       "      <td>527.417855</td>\n",
       "    </tr>\n",
       "    <tr>\n",
       "      <th>1</th>\n",
       "      <td>15542.893841</td>\n",
       "      <td>62.381082</td>\n",
       "      <td>105.568220</td>\n",
       "      <td>2088.022424</td>\n",
       "    </tr>\n",
       "    <tr>\n",
       "      <th>2</th>\n",
       "      <td>16086.000000</td>\n",
       "      <td>106.250000</td>\n",
       "      <td>197.500000</td>\n",
       "      <td>238951.205000</td>\n",
       "    </tr>\n",
       "    <tr>\n",
       "      <th>3</th>\n",
       "      <td>14920.400000</td>\n",
       "      <td>24.200000</td>\n",
       "      <td>4605.200000</td>\n",
       "      <td>45586.860000</td>\n",
       "    </tr>\n",
       "  </tbody>\n",
       "</table>\n",
       "</div>"
      ],
      "text/plain": [
       "                   CustomerID     recency    frequency        revenue\n",
       "recency_cluster                                                      \n",
       "0                15619.266467  267.157685    27.741517     527.417855\n",
       "1                15542.893841   62.381082   105.568220    2088.022424\n",
       "2                16086.000000  106.250000   197.500000  238951.205000\n",
       "3                14920.400000   24.200000  4605.200000   45586.860000"
      ]
     },
     "execution_count": 53,
     "metadata": {},
     "output_type": "execute_result"
    }
   ],
   "source": [
    "rfm.groupby('recency_cluster').mean()"
   ]
  },
  {
   "cell_type": "code",
   "execution_count": 54,
   "id": "64448473",
   "metadata": {
    "ExecuteTime": {
     "end_time": "2022-06-24T23:09:32.845904Z",
     "start_time": "2022-06-24T23:09:31.562631Z"
    },
    "scrolled": false
   },
   "outputs": [
    {
     "data": {
      "text/plain": [
       "[None]"
      ]
     },
     "execution_count": 54,
     "metadata": {},
     "output_type": "execute_result"
    },
    {
     "data": {
      "image/png": "[encoded data removed]",
      "text/plain": [
       "<Figure size 432x432 with 1 Axes>"
      ]
     },
     "metadata": {
      "needs_background": "light"
     },
     "output_type": "display_data"
    }
   ],
   "source": [
    "\n",
    "\n",
    "plt.figure(figsize = (6, 6))\n",
    "ax = sns.scatterplot(data = rfm, x = 'recency', y ='frequency', hue = 'recency_cluster',\n",
    "                    palette = ['blue', 'red', 'green', 'orange'])\n",
    "ax.set(yscale = 'log')"
   ]
  },
  {
   "cell_type": "markdown",
   "id": "14c5d106",
   "metadata": {},
   "source": [
    "### RECENCY"
   ]
  },
  {
   "cell_type": "code",
   "execution_count": 55,
   "id": "9dc5ee78",
   "metadata": {
    "ExecuteTime": {
     "end_time": "2022-06-24T23:09:33.065519Z",
     "start_time": "2022-06-24T23:09:32.848694Z"
    }
   },
   "outputs": [
    {
     "data": {
      "text/html": [
       "<div>\n",
       "<style scoped>\n",
       "    .dataframe tbody tr th:only-of-type {\n",
       "        vertical-align: middle;\n",
       "    }\n",
       "\n",
       "    .dataframe tbody tr th {\n",
       "        vertical-align: top;\n",
       "    }\n",
       "\n",
       "    .dataframe thead th {\n",
       "        text-align: right;\n",
       "    }\n",
       "</style>\n",
       "<table border=\"1\" class=\"dataframe\">\n",
       "  <thead>\n",
       "    <tr style=\"text-align: right;\">\n",
       "      <th></th>\n",
       "      <th>count</th>\n",
       "      <th>mean</th>\n",
       "      <th>std</th>\n",
       "      <th>min</th>\n",
       "      <th>25%</th>\n",
       "      <th>50%</th>\n",
       "      <th>75%</th>\n",
       "      <th>max</th>\n",
       "    </tr>\n",
       "    <tr>\n",
       "      <th>cluster_recency</th>\n",
       "      <th></th>\n",
       "      <th></th>\n",
       "      <th></th>\n",
       "      <th></th>\n",
       "      <th></th>\n",
       "      <th></th>\n",
       "      <th></th>\n",
       "      <th></th>\n",
       "    </tr>\n",
       "  </thead>\n",
       "  <tbody>\n",
       "    <tr>\n",
       "      <th>0</th>\n",
       "      <td>1950.0</td>\n",
       "      <td>41.016410</td>\n",
       "      <td>13.254688</td>\n",
       "      <td>23.0</td>\n",
       "      <td>30.0</td>\n",
       "      <td>39.0</td>\n",
       "      <td>52.00</td>\n",
       "      <td>70.0</td>\n",
       "    </tr>\n",
       "    <tr>\n",
       "      <th>1</th>\n",
       "      <td>954.0</td>\n",
       "      <td>101.257862</td>\n",
       "      <td>22.864594</td>\n",
       "      <td>72.0</td>\n",
       "      <td>83.0</td>\n",
       "      <td>96.0</td>\n",
       "      <td>117.00</td>\n",
       "      <td>154.0</td>\n",
       "    </tr>\n",
       "    <tr>\n",
       "      <th>2</th>\n",
       "      <td>566.0</td>\n",
       "      <td>207.973498</td>\n",
       "      <td>31.620611</td>\n",
       "      <td>156.0</td>\n",
       "      <td>180.0</td>\n",
       "      <td>207.0</td>\n",
       "      <td>235.00</td>\n",
       "      <td>266.0</td>\n",
       "    </tr>\n",
       "    <tr>\n",
       "      <th>3</th>\n",
       "      <td>480.0</td>\n",
       "      <td>327.668750</td>\n",
       "      <td>41.322913</td>\n",
       "      <td>268.0</td>\n",
       "      <td>290.0</td>\n",
       "      <td>324.0</td>\n",
       "      <td>359.25</td>\n",
       "      <td>396.0</td>\n",
       "    </tr>\n",
       "  </tbody>\n",
       "</table>\n",
       "</div>"
      ],
      "text/plain": [
       "                  count        mean        std    min    25%    50%     75%  \\\n",
       "cluster_recency                                                               \n",
       "0                1950.0   41.016410  13.254688   23.0   30.0   39.0   52.00   \n",
       "1                 954.0  101.257862  22.864594   72.0   83.0   96.0  117.00   \n",
       "2                 566.0  207.973498  31.620611  156.0  180.0  207.0  235.00   \n",
       "3                 480.0  327.668750  41.322913  268.0  290.0  324.0  359.25   \n",
       "\n",
       "                   max  \n",
       "cluster_recency         \n",
       "0                 70.0  \n",
       "1                154.0  \n",
       "2                266.0  \n",
       "3                396.0  "
      ]
     },
     "execution_count": 55,
     "metadata": {},
     "output_type": "execute_result"
    }
   ],
   "source": [
    "create_kmeans_cluster_column('recency')"
   ]
  },
  {
   "cell_type": "markdown",
   "id": "ac2c3fec",
   "metadata": {},
   "source": [
    "***\n",
    "\n",
    "At vero eos et accusamus et iusto odio dignissimos ducimus qui blanditiis praesentium voluptatum deleniti atque corrupti quos dolores et quas molestias excepturi sint occaecati cupiditate non provident, similique sunt in culpa qui officia deserunt mollitia animi, id est laborum et dolorum fuga. Et harum quidem rerum facilis est et expedita"
   ]
  },
  {
   "cell_type": "markdown",
   "id": "eea423cd",
   "metadata": {},
   "source": [
    "### FREQUENCY"
   ]
  },
  {
   "cell_type": "code",
   "execution_count": 56,
   "id": "d22b00e0",
   "metadata": {
    "ExecuteTime": {
     "end_time": "2022-06-24T23:09:33.309035Z",
     "start_time": "2022-06-24T23:09:33.070413Z"
    },
    "scrolled": true
   },
   "outputs": [
    {
     "data": {
      "text/html": [
       "<div>\n",
       "<style scoped>\n",
       "    .dataframe tbody tr th:only-of-type {\n",
       "        vertical-align: middle;\n",
       "    }\n",
       "\n",
       "    .dataframe tbody tr th {\n",
       "        vertical-align: top;\n",
       "    }\n",
       "\n",
       "    .dataframe thead th {\n",
       "        text-align: right;\n",
       "    }\n",
       "</style>\n",
       "<table border=\"1\" class=\"dataframe\">\n",
       "  <thead>\n",
       "    <tr style=\"text-align: right;\">\n",
       "      <th></th>\n",
       "      <th>count</th>\n",
       "      <th>mean</th>\n",
       "      <th>std</th>\n",
       "      <th>min</th>\n",
       "      <th>25%</th>\n",
       "      <th>50%</th>\n",
       "      <th>75%</th>\n",
       "      <th>max</th>\n",
       "    </tr>\n",
       "    <tr>\n",
       "      <th>cluster_frequency</th>\n",
       "      <th></th>\n",
       "      <th></th>\n",
       "      <th></th>\n",
       "      <th></th>\n",
       "      <th></th>\n",
       "      <th></th>\n",
       "      <th></th>\n",
       "      <th></th>\n",
       "    </tr>\n",
       "  </thead>\n",
       "  <tbody>\n",
       "    <tr>\n",
       "      <th>0</th>\n",
       "      <td>3496.0</td>\n",
       "      <td>49.525744</td>\n",
       "      <td>44.954212</td>\n",
       "      <td>1.0</td>\n",
       "      <td>15.0</td>\n",
       "      <td>33.0</td>\n",
       "      <td>73.0</td>\n",
       "      <td>190.0</td>\n",
       "    </tr>\n",
       "    <tr>\n",
       "      <th>1</th>\n",
       "      <td>429.0</td>\n",
       "      <td>331.221445</td>\n",
       "      <td>133.856510</td>\n",
       "      <td>191.0</td>\n",
       "      <td>228.0</td>\n",
       "      <td>287.0</td>\n",
       "      <td>399.0</td>\n",
       "      <td>803.0</td>\n",
       "    </tr>\n",
       "    <tr>\n",
       "      <th>2</th>\n",
       "      <td>22.0</td>\n",
       "      <td>1313.136364</td>\n",
       "      <td>505.934524</td>\n",
       "      <td>872.0</td>\n",
       "      <td>988.5</td>\n",
       "      <td>1140.0</td>\n",
       "      <td>1452.0</td>\n",
       "      <td>2782.0</td>\n",
       "    </tr>\n",
       "    <tr>\n",
       "      <th>3</th>\n",
       "      <td>3.0</td>\n",
       "      <td>5917.666667</td>\n",
       "      <td>1805.062418</td>\n",
       "      <td>4642.0</td>\n",
       "      <td>4885.0</td>\n",
       "      <td>5128.0</td>\n",
       "      <td>6555.5</td>\n",
       "      <td>7983.0</td>\n",
       "    </tr>\n",
       "  </tbody>\n",
       "</table>\n",
       "</div>"
      ],
      "text/plain": [
       "                    count         mean          std     min     25%     50%  \\\n",
       "cluster_frequency                                                             \n",
       "0                  3496.0    49.525744    44.954212     1.0    15.0    33.0   \n",
       "1                   429.0   331.221445   133.856510   191.0   228.0   287.0   \n",
       "2                    22.0  1313.136364   505.934524   872.0   988.5  1140.0   \n",
       "3                     3.0  5917.666667  1805.062418  4642.0  4885.0  5128.0   \n",
       "\n",
       "                      75%     max  \n",
       "cluster_frequency                  \n",
       "0                    73.0   190.0  \n",
       "1                   399.0   803.0  \n",
       "2                  1452.0  2782.0  \n",
       "3                  6555.5  7983.0  "
      ]
     },
     "execution_count": 56,
     "metadata": {},
     "output_type": "execute_result"
    }
   ],
   "source": [
    "create_kmeans_cluster_column('frequency')"
   ]
  },
  {
   "cell_type": "markdown",
   "id": "ba575db7",
   "metadata": {},
   "source": [
    "***\n",
    "\n",
    "At vero eos et accusamus et iusto odio dignissimos ducimus qui blanditiis praesentium voluptatum deleniti atque corrupti quos dolores et quas molestias excepturi sint occaecati cupiditate non provident, similique sunt in culpa qui officia deserunt mollitia animi, id est laborum et dolorum fuga. Et harum quidem rerum facilis est et expedita"
   ]
  },
  {
   "cell_type": "markdown",
   "id": "26ff9a68",
   "metadata": {},
   "source": [
    "### REVENUE"
   ]
  },
  {
   "cell_type": "code",
   "execution_count": 57,
   "id": "5a8f18de",
   "metadata": {
    "ExecuteTime": {
     "end_time": "2022-06-24T23:09:33.457051Z",
     "start_time": "2022-06-24T23:09:33.312414Z"
    }
   },
   "outputs": [
    {
     "data": {
      "text/html": [
       "<div>\n",
       "<style scoped>\n",
       "    .dataframe tbody tr th:only-of-type {\n",
       "        vertical-align: middle;\n",
       "    }\n",
       "\n",
       "    .dataframe tbody tr th {\n",
       "        vertical-align: top;\n",
       "    }\n",
       "\n",
       "    .dataframe thead th {\n",
       "        text-align: right;\n",
       "    }\n",
       "</style>\n",
       "<table border=\"1\" class=\"dataframe\">\n",
       "  <thead>\n",
       "    <tr style=\"text-align: right;\">\n",
       "      <th></th>\n",
       "      <th>count</th>\n",
       "      <th>mean</th>\n",
       "      <th>std</th>\n",
       "      <th>min</th>\n",
       "      <th>25%</th>\n",
       "      <th>50%</th>\n",
       "      <th>75%</th>\n",
       "      <th>max</th>\n",
       "    </tr>\n",
       "    <tr>\n",
       "      <th>cluster_revenue</th>\n",
       "      <th></th>\n",
       "      <th></th>\n",
       "      <th></th>\n",
       "      <th></th>\n",
       "      <th></th>\n",
       "      <th></th>\n",
       "      <th></th>\n",
       "      <th></th>\n",
       "    </tr>\n",
       "  </thead>\n",
       "  <tbody>\n",
       "    <tr>\n",
       "      <th>0</th>\n",
       "      <td>3852.0</td>\n",
       "      <td>1182.333918</td>\n",
       "      <td>1434.448224</td>\n",
       "      <td>0.00</td>\n",
       "      <td>292.4325</td>\n",
       "      <td>631.735</td>\n",
       "      <td>1498.8025</td>\n",
       "      <td>8905.19</td>\n",
       "    </tr>\n",
       "    <tr>\n",
       "      <th>1</th>\n",
       "      <td>79.0</td>\n",
       "      <td>16751.254684</td>\n",
       "      <td>8422.992013</td>\n",
       "      <td>9026.01</td>\n",
       "      <td>10743.9250</td>\n",
       "      <td>13981.920</td>\n",
       "      <td>19477.5300</td>\n",
       "      <td>41642.36</td>\n",
       "    </tr>\n",
       "    <tr>\n",
       "      <th>2</th>\n",
       "      <td>16.0</td>\n",
       "      <td>73110.795000</td>\n",
       "      <td>26974.372851</td>\n",
       "      <td>50568.13</td>\n",
       "      <td>58909.2200</td>\n",
       "      <td>65842.580</td>\n",
       "      <td>74702.3775</td>\n",
       "      <td>154367.20</td>\n",
       "    </tr>\n",
       "    <tr>\n",
       "      <th>3</th>\n",
       "      <td>3.0</td>\n",
       "      <td>267145.873333</td>\n",
       "      <td>67762.310811</td>\n",
       "      <td>201619.41</td>\n",
       "      <td>232247.7600</td>\n",
       "      <td>262876.110</td>\n",
       "      <td>299909.1050</td>\n",
       "      <td>336942.10</td>\n",
       "    </tr>\n",
       "  </tbody>\n",
       "</table>\n",
       "</div>"
      ],
      "text/plain": [
       "                  count           mean           std        min          25%  \\\n",
       "cluster_revenue                                                                \n",
       "0                3852.0    1182.333918   1434.448224       0.00     292.4325   \n",
       "1                  79.0   16751.254684   8422.992013    9026.01   10743.9250   \n",
       "2                  16.0   73110.795000  26974.372851   50568.13   58909.2200   \n",
       "3                   3.0  267145.873333  67762.310811  201619.41  232247.7600   \n",
       "\n",
       "                        50%          75%        max  \n",
       "cluster_revenue                                      \n",
       "0                   631.735    1498.8025    8905.19  \n",
       "1                 13981.920   19477.5300   41642.36  \n",
       "2                 65842.580   74702.3775  154367.20  \n",
       "3                262876.110  299909.1050  336942.10  "
      ]
     },
     "execution_count": 57,
     "metadata": {},
     "output_type": "execute_result"
    }
   ],
   "source": [
    "create_kmeans_cluster_column('revenue')"
   ]
  },
  {
   "cell_type": "markdown",
   "id": "0a37d68d",
   "metadata": {},
   "source": [
    "***\n",
    "\n",
    "At vero eos et accusamus et iusto odio dignissimos ducimus qui blanditiis praesentium voluptatum deleniti atque corrupti quos dolores et quas molestias excepturi sint occaecati cupiditate non provident, similique sunt in culpa qui officia deserunt mollitia animi, id est laborum et dolorum fuga. Et harum quidem rerum facilis est et expedita"
   ]
  },
  {
   "cell_type": "markdown",
   "id": "d69449ab",
   "metadata": {},
   "source": [
    "## OVERWALL SCORE"
   ]
  },
  {
   "cell_type": "code",
   "execution_count": 58,
   "id": "0ac97955",
   "metadata": {
    "ExecuteTime": {
     "end_time": "2022-06-24T23:09:33.467610Z",
     "start_time": "2022-06-24T23:09:33.460676Z"
    }
   },
   "outputs": [],
   "source": [
    "rfm['overall'] = rfm['recency_cluster'] + rfm['frequency_cluster'] + rfm['revenue_cluster']"
   ]
  },
  {
   "cell_type": "code",
   "execution_count": 59,
   "id": "20aad00d",
   "metadata": {
    "ExecuteTime": {
     "end_time": "2022-06-24T23:09:33.494636Z",
     "start_time": "2022-06-24T23:09:33.471187Z"
    }
   },
   "outputs": [
    {
     "data": {
      "text/html": [
       "<div>\n",
       "<style scoped>\n",
       "    .dataframe tbody tr th:only-of-type {\n",
       "        vertical-align: middle;\n",
       "    }\n",
       "\n",
       "    .dataframe tbody tr th {\n",
       "        vertical-align: top;\n",
       "    }\n",
       "\n",
       "    .dataframe thead th {\n",
       "        text-align: right;\n",
       "    }\n",
       "</style>\n",
       "<table border=\"1\" class=\"dataframe\">\n",
       "  <thead>\n",
       "    <tr style=\"text-align: right;\">\n",
       "      <th></th>\n",
       "      <th>recency</th>\n",
       "      <th>frequency</th>\n",
       "      <th>revenue</th>\n",
       "    </tr>\n",
       "    <tr>\n",
       "      <th>overall</th>\n",
       "      <th></th>\n",
       "      <th></th>\n",
       "      <th></th>\n",
       "    </tr>\n",
       "  </thead>\n",
       "  <tbody>\n",
       "    <tr>\n",
       "      <th>0</th>\n",
       "      <td>42.669307</td>\n",
       "      <td>66.100330</td>\n",
       "      <td>1228.652225</td>\n",
       "    </tr>\n",
       "    <tr>\n",
       "      <th>1</th>\n",
       "      <td>326.991632</td>\n",
       "      <td>22.347280</td>\n",
       "      <td>1066.289770</td>\n",
       "    </tr>\n",
       "    <tr>\n",
       "      <th>2</th>\n",
       "      <td>100.237942</td>\n",
       "      <td>60.215434</td>\n",
       "      <td>1158.852885</td>\n",
       "    </tr>\n",
       "    <tr>\n",
       "      <th>3</th>\n",
       "      <td>142.209021</td>\n",
       "      <td>145.545655</td>\n",
       "      <td>2293.128241</td>\n",
       "    </tr>\n",
       "    <tr>\n",
       "      <th>4</th>\n",
       "      <td>85.400000</td>\n",
       "      <td>2099.500000</td>\n",
       "      <td>82231.798000</td>\n",
       "    </tr>\n",
       "    <tr>\n",
       "      <th>5</th>\n",
       "      <td>89.000000</td>\n",
       "      <td>385.020408</td>\n",
       "      <td>14136.775102</td>\n",
       "    </tr>\n",
       "    <tr>\n",
       "      <th>6</th>\n",
       "      <td>46.875000</td>\n",
       "      <td>405.553571</td>\n",
       "      <td>14234.496607</td>\n",
       "    </tr>\n",
       "  </tbody>\n",
       "</table>\n",
       "</div>"
      ],
      "text/plain": [
       "            recency    frequency       revenue\n",
       "overall                                       \n",
       "0         42.669307    66.100330   1228.652225\n",
       "1        326.991632    22.347280   1066.289770\n",
       "2        100.237942    60.215434   1158.852885\n",
       "3        142.209021   145.545655   2293.128241\n",
       "4         85.400000  2099.500000  82231.798000\n",
       "5         89.000000   385.020408  14136.775102\n",
       "6         46.875000   405.553571  14234.496607"
      ]
     },
     "execution_count": 59,
     "metadata": {},
     "output_type": "execute_result"
    }
   ],
   "source": [
    "rfm.groupby('overall')[['recency', 'frequency', 'revenue']].mean()"
   ]
  },
  {
   "cell_type": "markdown",
   "id": "e0d5f1f6",
   "metadata": {},
   "source": [
    "# CUSTOMER ANALYSIS"
   ]
  },
  {
   "cell_type": "code",
   "execution_count": null,
   "id": "7c06eebc",
   "metadata": {},
   "outputs": [],
   "source": []
  }
 ],
 "metadata": {
  "kernelspec": {
   "display_name": "ds-projects",
   "language": "python",
   "name": "ds-projects"
  },
  "language_info": {
   "codemirror_mode": {
    "name": "ipython",
    "version": 3
   },
   "file_extension": ".py",
   "mimetype": "text/x-python",
   "name": "python",
   "nbconvert_exporter": "python",
   "pygments_lexer": "ipython3",
   "version": "3.9.7"
  },
  "toc": {
   "base_numbering": 1,
   "nav_menu": {},
   "number_sections": true,
   "sideBar": true,
   "skip_h1_title": false,
   "title_cell": "Table of Contents",
   "title_sidebar": "Contents",
   "toc_cell": false,
   "toc_position": {},
   "toc_section_display": true,
   "toc_window_display": false
  }
 },
 "nbformat": 4,
 "nbformat_minor": 5
}
