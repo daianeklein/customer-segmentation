{
 "cells": [
  {
   "cell_type": "markdown",
   "id": "321573c0",
   "metadata": {},
   "source": [
    "# CUSTOMER SEGMENTATION\n",
    "\n",
    "***\n",
    "\n",
    "## ONLINE RETAIL DATASET\n"
   ]
  },
  {
   "cell_type": "markdown",
   "id": "5728a633",
   "metadata": {},
   "source": [
    "<img src=\"https://img.freepik.com/free-vector/postman-giving-parcel-customer-post-office_74855-4811.jpg\" width=\"626\" height=\"250\" >"
   ]
  },
  {
   "cell_type": "markdown",
   "id": "accf49cc",
   "metadata": {},
   "source": [
    "At vero eos et accusamus et iusto odio dignissimos ducimus qui blanditiis praesentium voluptatum deleniti atque corrupti quos dolores et quas molestias excepturi sint occaecati cupiditate non provident, similique sunt in culpa qui officia deserunt mollitia animi, id est laborum et dolorum fuga. Et harum quidem rerum facilis est et expedita \n",
    "\n",
    "distinctio. Nam libero tempore, cum soluta nobis est eligendi optio cumque nihil impedit quo minus id quod maxime placeat facere possimus, omnis voluptas assumenda est, omnis dolor repellendus. Temporibus autem quibusdam et aut \n",
    "\n",
    "officiis debitis aut rerum necessitatibus saepe eveniet ut et voluptates repudiandae sint et molestiae non recusandae. Itaque earum rerum hic tenetur a sapiente delectus, ut aut reiciendis voluptatibus maiores alias consequatur aut perferendis doloribus asperiores repellat."
   ]
  },
  {
   "cell_type": "markdown",
   "id": "dd548b2f",
   "metadata": {},
   "source": [
    "# FUNCTIONS"
   ]
  },
  {
   "cell_type": "code",
   "execution_count": 1,
   "id": "416fe1fa",
   "metadata": {
    "ExecuteTime": {
     "end_time": "2022-06-02T13:35:26.288191Z",
     "start_time": "2022-06-02T13:35:26.283141Z"
    }
   },
   "outputs": [],
   "source": [
    "def set_chart_settings(title):\n",
    "    \n",
    "    plt.title(title)\n",
    "    sns.despine(bottom = True, left = True)"
   ]
  },
  {
   "cell_type": "markdown",
   "id": "a01c36ae",
   "metadata": {},
   "source": [
    "# LIBS "
   ]
  },
  {
   "cell_type": "code",
   "execution_count": 2,
   "id": "854bc6f6",
   "metadata": {
    "ExecuteTime": {
     "end_time": "2022-06-02T13:35:27.552417Z",
     "start_time": "2022-06-02T13:35:26.292581Z"
    }
   },
   "outputs": [],
   "source": [
    "import pandas                   as pd\n",
    "import seaborn                  as sns\n",
    "import matplotlib.pyplot        as plt\n",
    "import numpy                    as np\n",
    "\n",
    "import datetime"
   ]
  },
  {
   "cell_type": "markdown",
   "id": "f5a28db1",
   "metadata": {
    "heading_collapsed": true
   },
   "source": [
    "# DATASET"
   ]
  },
  {
   "cell_type": "code",
   "execution_count": 3,
   "id": "8bf4c39f",
   "metadata": {
    "ExecuteTime": {
     "end_time": "2022-06-02T13:35:28.268793Z",
     "start_time": "2022-06-02T13:35:27.555448Z"
    },
    "hidden": true
   },
   "outputs": [
    {
     "data": {
      "text/html": [
       "<div>\n",
       "<style scoped>\n",
       "    .dataframe tbody tr th:only-of-type {\n",
       "        vertical-align: middle;\n",
       "    }\n",
       "\n",
       "    .dataframe tbody tr th {\n",
       "        vertical-align: top;\n",
       "    }\n",
       "\n",
       "    .dataframe thead th {\n",
       "        text-align: right;\n",
       "    }\n",
       "</style>\n",
       "<table border=\"1\" class=\"dataframe\">\n",
       "  <thead>\n",
       "    <tr style=\"text-align: right;\">\n",
       "      <th></th>\n",
       "      <th>InvoiceNo</th>\n",
       "      <th>StockCode</th>\n",
       "      <th>Description</th>\n",
       "      <th>Quantity</th>\n",
       "      <th>InvoiceDate</th>\n",
       "      <th>UnitPrice</th>\n",
       "      <th>CustomerID</th>\n",
       "      <th>Country</th>\n",
       "    </tr>\n",
       "  </thead>\n",
       "  <tbody>\n",
       "    <tr>\n",
       "      <th>0</th>\n",
       "      <td>536365</td>\n",
       "      <td>85123A</td>\n",
       "      <td>WHITE HANGING HEART T-LIGHT HOLDER</td>\n",
       "      <td>6</td>\n",
       "      <td>12/1/2010 8:26</td>\n",
       "      <td>2.55</td>\n",
       "      <td>17850.0</td>\n",
       "      <td>United Kingdom</td>\n",
       "    </tr>\n",
       "    <tr>\n",
       "      <th>1</th>\n",
       "      <td>536365</td>\n",
       "      <td>71053</td>\n",
       "      <td>WHITE METAL LANTERN</td>\n",
       "      <td>6</td>\n",
       "      <td>12/1/2010 8:26</td>\n",
       "      <td>3.39</td>\n",
       "      <td>17850.0</td>\n",
       "      <td>United Kingdom</td>\n",
       "    </tr>\n",
       "    <tr>\n",
       "      <th>2</th>\n",
       "      <td>536365</td>\n",
       "      <td>84406B</td>\n",
       "      <td>CREAM CUPID HEARTS COAT HANGER</td>\n",
       "      <td>8</td>\n",
       "      <td>12/1/2010 8:26</td>\n",
       "      <td>2.75</td>\n",
       "      <td>17850.0</td>\n",
       "      <td>United Kingdom</td>\n",
       "    </tr>\n",
       "    <tr>\n",
       "      <th>3</th>\n",
       "      <td>536365</td>\n",
       "      <td>84029G</td>\n",
       "      <td>KNITTED UNION FLAG HOT WATER BOTTLE</td>\n",
       "      <td>6</td>\n",
       "      <td>12/1/2010 8:26</td>\n",
       "      <td>3.39</td>\n",
       "      <td>17850.0</td>\n",
       "      <td>United Kingdom</td>\n",
       "    </tr>\n",
       "    <tr>\n",
       "      <th>4</th>\n",
       "      <td>536365</td>\n",
       "      <td>84029E</td>\n",
       "      <td>RED WOOLLY HOTTIE WHITE HEART.</td>\n",
       "      <td>6</td>\n",
       "      <td>12/1/2010 8:26</td>\n",
       "      <td>3.39</td>\n",
       "      <td>17850.0</td>\n",
       "      <td>United Kingdom</td>\n",
       "    </tr>\n",
       "  </tbody>\n",
       "</table>\n",
       "</div>"
      ],
      "text/plain": [
       "  InvoiceNo StockCode                          Description  Quantity  \\\n",
       "0    536365    85123A   WHITE HANGING HEART T-LIGHT HOLDER         6   \n",
       "1    536365     71053                  WHITE METAL LANTERN         6   \n",
       "2    536365    84406B       CREAM CUPID HEARTS COAT HANGER         8   \n",
       "3    536365    84029G  KNITTED UNION FLAG HOT WATER BOTTLE         6   \n",
       "4    536365    84029E       RED WOOLLY HOTTIE WHITE HEART.         6   \n",
       "\n",
       "      InvoiceDate  UnitPrice  CustomerID         Country  \n",
       "0  12/1/2010 8:26       2.55     17850.0  United Kingdom  \n",
       "1  12/1/2010 8:26       3.39     17850.0  United Kingdom  \n",
       "2  12/1/2010 8:26       2.75     17850.0  United Kingdom  \n",
       "3  12/1/2010 8:26       3.39     17850.0  United Kingdom  \n",
       "4  12/1/2010 8:26       3.39     17850.0  United Kingdom  "
      ]
     },
     "execution_count": 3,
     "metadata": {},
     "output_type": "execute_result"
    }
   ],
   "source": [
    "df = pd.read_csv('data.csv', encoding = 'latin-1')\n",
    "df.head()"
   ]
  },
  {
   "cell_type": "code",
   "execution_count": 4,
   "id": "dddeb821",
   "metadata": {
    "ExecuteTime": {
     "end_time": "2022-06-02T13:35:28.278986Z",
     "start_time": "2022-06-02T13:35:28.271938Z"
    },
    "hidden": true
   },
   "outputs": [
    {
     "data": {
      "text/plain": [
       "(541909, 8)"
      ]
     },
     "execution_count": 4,
     "metadata": {},
     "output_type": "execute_result"
    }
   ],
   "source": [
    "df.shape"
   ]
  },
  {
   "cell_type": "markdown",
   "id": "433f4cd9",
   "metadata": {},
   "source": [
    "# DATA ANALYSIS "
   ]
  },
  {
   "cell_type": "markdown",
   "id": "31c688ff",
   "metadata": {
    "heading_collapsed": true
   },
   "source": [
    "## GENERAL ANALYSIS"
   ]
  },
  {
   "cell_type": "code",
   "execution_count": 5,
   "id": "3c2112b9",
   "metadata": {
    "ExecuteTime": {
     "end_time": "2022-06-02T13:35:28.298549Z",
     "start_time": "2022-06-02T13:35:28.286364Z"
    },
    "hidden": true
   },
   "outputs": [
    {
     "data": {
      "text/plain": [
       "InvoiceNo       object\n",
       "StockCode       object\n",
       "Description     object\n",
       "Quantity         int64\n",
       "InvoiceDate     object\n",
       "UnitPrice      float64\n",
       "CustomerID     float64\n",
       "Country         object\n",
       "dtype: object"
      ]
     },
     "execution_count": 5,
     "metadata": {},
     "output_type": "execute_result"
    }
   ],
   "source": [
    "df.dtypes"
   ]
  },
  {
   "cell_type": "code",
   "execution_count": 6,
   "id": "492438c3",
   "metadata": {
    "ExecuteTime": {
     "end_time": "2022-06-02T13:35:31.338451Z",
     "start_time": "2022-06-02T13:35:28.304194Z"
    },
    "hidden": true
   },
   "outputs": [],
   "source": [
    "df['InvoiceDate'] = df['InvoiceDate'].astype('datetime64')"
   ]
  },
  {
   "cell_type": "code",
   "execution_count": 7,
   "id": "8d35a0a2",
   "metadata": {
    "ExecuteTime": {
     "end_time": "2022-06-02T13:35:31.478764Z",
     "start_time": "2022-06-02T13:35:31.340672Z"
    },
    "hidden": true,
    "scrolled": true
   },
   "outputs": [
    {
     "data": {
      "text/plain": [
       "InvoiceNo           0\n",
       "StockCode           0\n",
       "Description      1454\n",
       "Quantity            0\n",
       "InvoiceDate         0\n",
       "UnitPrice           0\n",
       "CustomerID     135080\n",
       "Country             0\n",
       "dtype: int64"
      ]
     },
     "execution_count": 7,
     "metadata": {},
     "output_type": "execute_result"
    }
   ],
   "source": [
    "df.isna().sum()"
   ]
  },
  {
   "cell_type": "code",
   "execution_count": 8,
   "id": "52028d01",
   "metadata": {
    "ExecuteTime": {
     "end_time": "2022-06-02T13:35:31.544004Z",
     "start_time": "2022-06-02T13:35:31.482337Z"
    },
    "hidden": true,
    "scrolled": false
   },
   "outputs": [
    {
     "data": {
      "text/plain": [
       "Country\n",
       "United Kingdom          361878\n",
       "Germany                   9495\n",
       "France                    8491\n",
       "EIRE                      7485\n",
       "Spain                     2533\n",
       "Netherlands               2371\n",
       "Belgium                   2069\n",
       "Switzerland               1877\n",
       "Portugal                  1480\n",
       "Australia                 1259\n",
       "Norway                    1086\n",
       "Italy                      803\n",
       "Channel Islands            758\n",
       "Finland                    695\n",
       "Cyprus                     622\n",
       "Sweden                     462\n",
       "Austria                    401\n",
       "Denmark                    389\n",
       "Japan                      358\n",
       "Poland                     341\n",
       "USA                        291\n",
       "Israel                     250\n",
       "Unspecified                244\n",
       "Singapore                  229\n",
       "Iceland                    182\n",
       "Canada                     151\n",
       "Greece                     146\n",
       "Malta                      127\n",
       "United Arab Emirates        68\n",
       "European Community          61\n",
       "RSA                         58\n",
       "Lebanon                     45\n",
       "Lithuania                   35\n",
       "Brazil                      32\n",
       "Czech Republic              30\n",
       "Bahrain                     17\n",
       "Saudi Arabia                10\n",
       "Hong Kong                    0\n",
       "Name: CustomerID, dtype: int64"
      ]
     },
     "execution_count": 8,
     "metadata": {},
     "output_type": "execute_result"
    }
   ],
   "source": [
    "df.groupby('Country')['CustomerID'].count().sort_values(ascending = False)"
   ]
  },
  {
   "cell_type": "code",
   "execution_count": 9,
   "id": "95ee417e",
   "metadata": {
    "ExecuteTime": {
     "end_time": "2022-06-02T13:35:31.604463Z",
     "start_time": "2022-06-02T13:35:31.547532Z"
    },
    "hidden": true,
    "scrolled": false
   },
   "outputs": [
    {
     "data": {
      "text/plain": [
       "United Kingdom          0.914320\n",
       "Germany                 0.017521\n",
       "France                  0.015790\n",
       "EIRE                    0.015124\n",
       "Spain                   0.004674\n",
       "Netherlands             0.004375\n",
       "Belgium                 0.003818\n",
       "Switzerland             0.003694\n",
       "Portugal                0.002803\n",
       "Australia               0.002323\n",
       "Norway                  0.002004\n",
       "Italy                   0.001482\n",
       "Channel Islands         0.001399\n",
       "Finland                 0.001283\n",
       "Cyprus                  0.001148\n",
       "Sweden                  0.000853\n",
       "Unspecified             0.000823\n",
       "Austria                 0.000740\n",
       "Denmark                 0.000718\n",
       "Japan                   0.000661\n",
       "Poland                  0.000629\n",
       "Israel                  0.000548\n",
       "USA                     0.000537\n",
       "Hong Kong               0.000531\n",
       "Singapore               0.000423\n",
       "Iceland                 0.000336\n",
       "Canada                  0.000279\n",
       "Greece                  0.000269\n",
       "Malta                   0.000234\n",
       "United Arab Emirates    0.000125\n",
       "European Community      0.000113\n",
       "RSA                     0.000107\n",
       "Lebanon                 0.000083\n",
       "Lithuania               0.000065\n",
       "Brazil                  0.000059\n",
       "Czech Republic          0.000055\n",
       "Bahrain                 0.000035\n",
       "Saudi Arabia            0.000018\n",
       "Name: Country, dtype: float64"
      ]
     },
     "execution_count": 9,
     "metadata": {},
     "output_type": "execute_result"
    }
   ],
   "source": [
    "df['Country'].value_counts(normalize = True)"
   ]
  },
  {
   "cell_type": "markdown",
   "id": "021a0aee",
   "metadata": {
    "hidden": true
   },
   "source": [
    "***\n",
    "\n",
    "More than 90% of the data is from UK sales, so, we're going to restrict the data to the United Kingdom only.\n",
    "\n",
    "\n",
    "As we could see in the previous snippet, null customer ID represents 135.080 records. Our analysis is based on clients, so we're going to drop all missing values in this column as well."
   ]
  },
  {
   "cell_type": "code",
   "execution_count": 10,
   "id": "5de241dd",
   "metadata": {
    "ExecuteTime": {
     "end_time": "2022-06-02T13:35:31.756989Z",
     "start_time": "2022-06-02T13:35:31.610593Z"
    },
    "hidden": true
   },
   "outputs": [],
   "source": [
    "df = df[df['Country'] == 'United Kingdom']\n",
    "\n",
    "# removing null values\n",
    "df = df[~df['CustomerID'].isnull()]"
   ]
  },
  {
   "cell_type": "code",
   "execution_count": 11,
   "id": "8c45a982",
   "metadata": {
    "ExecuteTime": {
     "end_time": "2022-06-02T13:35:31.775369Z",
     "start_time": "2022-06-02T13:35:31.762579Z"
    },
    "hidden": true,
    "scrolled": false
   },
   "outputs": [
    {
     "name": "stdout",
     "output_type": "stream",
     "text": [
      "2010-12-01 08:26:00\n",
      "2011-12-09 12:49:00\n",
      "0.0\n",
      "38970.0\n"
     ]
    }
   ],
   "source": [
    "# checking negative values or incorrect dates\n",
    "print(df['InvoiceDate'].min())\n",
    "print(df['InvoiceDate'].max())\n",
    "\n",
    "print(df['UnitPrice'].min())\n",
    "print(df['UnitPrice'].max())"
   ]
  },
  {
   "cell_type": "code",
   "execution_count": 12,
   "id": "8a8421d9",
   "metadata": {
    "ExecuteTime": {
     "end_time": "2022-06-02T13:35:31.791187Z",
     "start_time": "2022-06-02T13:35:31.778325Z"
    },
    "hidden": true
   },
   "outputs": [
    {
     "name": "stdout",
     "output_type": "stream",
     "text": [
      "-80995 80995\n",
      "(7533, 8)\n",
      "(361878, 8)\n"
     ]
    }
   ],
   "source": [
    "print(df['Quantity'].min(), df['Quantity'].max())\n",
    "print(df[df['Quantity'] < 0].shape)\n",
    "print(df.shape)"
   ]
  },
  {
   "cell_type": "markdown",
   "id": "f89cd092",
   "metadata": {
    "ExecuteTime": {
     "end_time": "2022-06-01T00:25:39.476903Z",
     "start_time": "2022-06-01T00:25:39.451276Z"
    },
    "hidden": true
   },
   "source": [
    "***\n",
    "\n",
    "As we can see, there're 7.533 negative values in quantity column. It's clear that're wrong numbers.\n",
    "Before dropping them or replacing by other numbers, let's analyze some basic descriptive statistics."
   ]
  },
  {
   "cell_type": "code",
   "execution_count": 13,
   "id": "9770394e",
   "metadata": {
    "ExecuteTime": {
     "end_time": "2022-06-02T13:35:31.816391Z",
     "start_time": "2022-06-02T13:35:31.794628Z"
    },
    "hidden": true,
    "scrolled": false
   },
   "outputs": [
    {
     "data": {
      "text/plain": [
       "count    361878.000000\n",
       "mean         11.077029\n",
       "std         263.129266\n",
       "min      -80995.000000\n",
       "25%           2.000000\n",
       "50%           4.000000\n",
       "75%          12.000000\n",
       "max       80995.000000\n",
       "Name: Quantity, dtype: float64"
      ]
     },
     "execution_count": 13,
     "metadata": {},
     "output_type": "execute_result"
    }
   ],
   "source": [
    "df['Quantity'].describe()"
   ]
  },
  {
   "cell_type": "code",
   "execution_count": 14,
   "id": "09ff1ade",
   "metadata": {
    "ExecuteTime": {
     "end_time": "2022-06-02T13:35:31.917096Z",
     "start_time": "2022-06-02T13:35:31.819476Z"
    },
    "hidden": true
   },
   "outputs": [
    {
     "data": {
      "text/html": [
       "<div>\n",
       "<style scoped>\n",
       "    .dataframe tbody tr th:only-of-type {\n",
       "        vertical-align: middle;\n",
       "    }\n",
       "\n",
       "    .dataframe tbody tr th {\n",
       "        vertical-align: top;\n",
       "    }\n",
       "\n",
       "    .dataframe thead th {\n",
       "        text-align: right;\n",
       "    }\n",
       "</style>\n",
       "<table border=\"1\" class=\"dataframe\">\n",
       "  <thead>\n",
       "    <tr style=\"text-align: right;\">\n",
       "      <th></th>\n",
       "      <th>Quantity</th>\n",
       "      <th>UnitPrice</th>\n",
       "      <th>CustomerID</th>\n",
       "    </tr>\n",
       "  </thead>\n",
       "  <tbody>\n",
       "    <tr>\n",
       "      <th>count</th>\n",
       "      <td>354345.000000</td>\n",
       "      <td>354345.000000</td>\n",
       "      <td>354345.000000</td>\n",
       "    </tr>\n",
       "    <tr>\n",
       "      <th>mean</th>\n",
       "      <td>12.048913</td>\n",
       "      <td>2.963793</td>\n",
       "      <td>15552.436219</td>\n",
       "    </tr>\n",
       "    <tr>\n",
       "      <th>std</th>\n",
       "      <td>190.428127</td>\n",
       "      <td>17.862067</td>\n",
       "      <td>1594.546025</td>\n",
       "    </tr>\n",
       "    <tr>\n",
       "      <th>min</th>\n",
       "      <td>1.000000</td>\n",
       "      <td>0.000000</td>\n",
       "      <td>12346.000000</td>\n",
       "    </tr>\n",
       "    <tr>\n",
       "      <th>25%</th>\n",
       "      <td>2.000000</td>\n",
       "      <td>1.250000</td>\n",
       "      <td>14194.000000</td>\n",
       "    </tr>\n",
       "    <tr>\n",
       "      <th>50%</th>\n",
       "      <td>4.000000</td>\n",
       "      <td>1.950000</td>\n",
       "      <td>15522.000000</td>\n",
       "    </tr>\n",
       "    <tr>\n",
       "      <th>75%</th>\n",
       "      <td>12.000000</td>\n",
       "      <td>3.750000</td>\n",
       "      <td>16931.000000</td>\n",
       "    </tr>\n",
       "    <tr>\n",
       "      <th>max</th>\n",
       "      <td>80995.000000</td>\n",
       "      <td>8142.750000</td>\n",
       "      <td>18287.000000</td>\n",
       "    </tr>\n",
       "  </tbody>\n",
       "</table>\n",
       "</div>"
      ],
      "text/plain": [
       "            Quantity      UnitPrice     CustomerID\n",
       "count  354345.000000  354345.000000  354345.000000\n",
       "mean       12.048913       2.963793   15552.436219\n",
       "std       190.428127      17.862067    1594.546025\n",
       "min         1.000000       0.000000   12346.000000\n",
       "25%         2.000000       1.250000   14194.000000\n",
       "50%         4.000000       1.950000   15522.000000\n",
       "75%        12.000000       3.750000   16931.000000\n",
       "max     80995.000000    8142.750000   18287.000000"
      ]
     },
     "execution_count": 14,
     "metadata": {},
     "output_type": "execute_result"
    }
   ],
   "source": [
    "df[df['Quantity'] > 0].describe()"
   ]
  },
  {
   "cell_type": "code",
   "execution_count": 15,
   "id": "e207790f",
   "metadata": {
    "ExecuteTime": {
     "end_time": "2022-06-02T13:35:31.931458Z",
     "start_time": "2022-06-02T13:35:31.920195Z"
    },
    "hidden": true,
    "scrolled": false
   },
   "outputs": [
    {
     "data": {
      "text/plain": [
       "1     71401\n",
       "2     54798\n",
       "12    49710\n",
       "6     32181\n",
       "4     28726\n",
       "3     25159\n",
       "24    19702\n",
       "10    18446\n",
       "8      9527\n",
       "5      7707\n",
       "Name: Quantity, dtype: int64"
      ]
     },
     "execution_count": 15,
     "metadata": {},
     "output_type": "execute_result"
    }
   ],
   "source": [
    "df['Quantity'].value_counts().head(10)"
   ]
  },
  {
   "cell_type": "code",
   "execution_count": 16,
   "id": "b6a82ae7",
   "metadata": {
    "ExecuteTime": {
     "end_time": "2022-06-02T13:35:32.342902Z",
     "start_time": "2022-06-02T13:35:31.936024Z"
    },
    "hidden": true,
    "scrolled": false
   },
   "outputs": [
    {
     "data": {
      "image/png": "[encoded data removed]",
      "text/plain": [
       "<Figure size 432x288 with 1 Axes>"
      ]
     },
     "metadata": {
      "needs_background": "light"
     },
     "output_type": "display_data"
    }
   ],
   "source": [
    "sns.histplot(data = df[(df['Quantity'] > 0) & (df['Quantity'] < 1000)], x = 'Quantity', bins = 50)\n",
    "set_chart_settings('Histogram - Quantity')"
   ]
  },
  {
   "cell_type": "code",
   "execution_count": 17,
   "id": "0f977fec",
   "metadata": {
    "ExecuteTime": {
     "end_time": "2022-06-02T13:35:32.365507Z",
     "start_time": "2022-06-02T13:35:32.346456Z"
    },
    "hidden": true
   },
   "outputs": [
    {
     "name": "stdout",
     "output_type": "stream",
     "text": [
      "7533 3289 357 236 97\n"
     ]
    }
   ],
   "source": [
    "print(df[df['Quantity'] < 0].shape[0],\n",
    "df[df['Quantity'] > 100].shape[0],\n",
    "df[df['Quantity'] > 500].shape[0],\n",
    "df[df['Quantity'] > 600].shape[0],\n",
    "df[df['Quantity'] > 1000].shape[0])"
   ]
  },
  {
   "cell_type": "code",
   "execution_count": 18,
   "id": "a4e08c07",
   "metadata": {
    "ExecuteTime": {
     "end_time": "2022-06-02T13:35:32.381889Z",
     "start_time": "2022-06-02T13:35:32.368623Z"
    },
    "hidden": true
   },
   "outputs": [
    {
     "data": {
      "text/plain": [
       "-1     3331\n",
       "-2     1115\n",
       "-3      472\n",
       "-12     409\n",
       "-4      386\n",
       "-6      366\n",
       "-24     195\n",
       "-5      159\n",
       "-10     134\n",
       "-8      129\n",
       "Name: Quantity, dtype: int64"
      ]
     },
     "execution_count": 18,
     "metadata": {},
     "output_type": "execute_result"
    }
   ],
   "source": [
    "df[df['Quantity'] < 0]['Quantity'].value_counts().head(10)\n"
   ]
  },
  {
   "cell_type": "markdown",
   "id": "db41c65e",
   "metadata": {
    "hidden": true
   },
   "source": [
    "***\n",
    "\n",
    "Negative values are pretty similar to positive ones. Looks like they were mistyped, so, as a faster solution, we're going to replace all negative values by positive values, using abs() function."
   ]
  },
  {
   "cell_type": "code",
   "execution_count": 19,
   "id": "d12755d4",
   "metadata": {
    "ExecuteTime": {
     "end_time": "2022-06-02T13:35:32.530993Z",
     "start_time": "2022-06-02T13:35:32.385207Z"
    },
    "hidden": true
   },
   "outputs": [],
   "source": [
    "df['Quantity'] = df['Quantity'].apply(lambda x: abs(x) if x < 0\n",
    "                    else x)"
   ]
  },
  {
   "cell_type": "code",
   "execution_count": 20,
   "id": "ba2b231f",
   "metadata": {
    "ExecuteTime": {
     "end_time": "2022-06-02T13:35:32.543917Z",
     "start_time": "2022-06-02T13:35:32.533390Z"
    },
    "hidden": true
   },
   "outputs": [
    {
     "name": "stdout",
     "output_type": "stream",
     "text": [
      "1 80995\n",
      "0\n",
      "361878\n"
     ]
    }
   ],
   "source": [
    "print(df['Quantity'].min(), df['Quantity'].max())\n",
    "print(df[df['Quantity'] < 0].shape[0])\n",
    "print(df.shape[0])"
   ]
  },
  {
   "cell_type": "markdown",
   "id": "5b4f2497",
   "metadata": {
    "ExecuteTime": {
     "end_time": "2022-05-30T20:41:11.554021Z",
     "start_time": "2022-05-30T20:41:11.530906Z"
    }
   },
   "source": [
    "## DATA ANALYSIS"
   ]
  },
  {
   "cell_type": "code",
   "execution_count": 21,
   "id": "9e9bfab3",
   "metadata": {
    "ExecuteTime": {
     "end_time": "2022-06-02T13:35:32.565730Z",
     "start_time": "2022-06-02T13:35:32.548498Z"
    }
   },
   "outputs": [],
   "source": [
    "df1 = df.copy(deep = True)"
   ]
  },
  {
   "cell_type": "markdown",
   "id": "6ddf6c02",
   "metadata": {},
   "source": [
    "***\n",
    "\n",
    "We're going to create a revenue column:\n",
    "\n",
    "Quantity sold * Unit Price"
   ]
  },
  {
   "cell_type": "code",
   "execution_count": 22,
   "id": "c918319b",
   "metadata": {
    "ExecuteTime": {
     "end_time": "2022-06-02T13:35:32.615294Z",
     "start_time": "2022-06-02T13:35:32.568760Z"
    }
   },
   "outputs": [
    {
     "data": {
      "text/html": [
       "<div>\n",
       "<style scoped>\n",
       "    .dataframe tbody tr th:only-of-type {\n",
       "        vertical-align: middle;\n",
       "    }\n",
       "\n",
       "    .dataframe tbody tr th {\n",
       "        vertical-align: top;\n",
       "    }\n",
       "\n",
       "    .dataframe thead th {\n",
       "        text-align: right;\n",
       "    }\n",
       "</style>\n",
       "<table border=\"1\" class=\"dataframe\">\n",
       "  <thead>\n",
       "    <tr style=\"text-align: right;\">\n",
       "      <th></th>\n",
       "      <th>InvoiceNo</th>\n",
       "      <th>StockCode</th>\n",
       "      <th>Description</th>\n",
       "      <th>Quantity</th>\n",
       "      <th>InvoiceDate</th>\n",
       "      <th>UnitPrice</th>\n",
       "      <th>CustomerID</th>\n",
       "      <th>Country</th>\n",
       "      <th>revenue</th>\n",
       "    </tr>\n",
       "  </thead>\n",
       "  <tbody>\n",
       "    <tr>\n",
       "      <th>399644</th>\n",
       "      <td>571283</td>\n",
       "      <td>85150</td>\n",
       "      <td>LADIES &amp; GENTLEMEN METAL SIGN</td>\n",
       "      <td>6</td>\n",
       "      <td>2011-10-16 13:51:00</td>\n",
       "      <td>2.55</td>\n",
       "      <td>16533.0</td>\n",
       "      <td>United Kingdom</td>\n",
       "      <td>15.30</td>\n",
       "    </tr>\n",
       "    <tr>\n",
       "      <th>366966</th>\n",
       "      <td>568805</td>\n",
       "      <td>20712</td>\n",
       "      <td>JUMBO BAG WOODLAND ANIMALS</td>\n",
       "      <td>10</td>\n",
       "      <td>2011-09-29 10:55:00</td>\n",
       "      <td>2.08</td>\n",
       "      <td>12826.0</td>\n",
       "      <td>United Kingdom</td>\n",
       "      <td>20.80</td>\n",
       "    </tr>\n",
       "    <tr>\n",
       "      <th>509787</th>\n",
       "      <td>579401</td>\n",
       "      <td>23378</td>\n",
       "      <td>PACK OF 12 50'S CHRISTMAS TISSUES</td>\n",
       "      <td>12</td>\n",
       "      <td>2011-11-29 12:12:00</td>\n",
       "      <td>0.39</td>\n",
       "      <td>14550.0</td>\n",
       "      <td>United Kingdom</td>\n",
       "      <td>4.68</td>\n",
       "    </tr>\n",
       "    <tr>\n",
       "      <th>199109</th>\n",
       "      <td>554083</td>\n",
       "      <td>22355</td>\n",
       "      <td>CHARLOTTE BAG SUKI DESIGN</td>\n",
       "      <td>4</td>\n",
       "      <td>2011-05-22 11:51:00</td>\n",
       "      <td>0.85</td>\n",
       "      <td>18125.0</td>\n",
       "      <td>United Kingdom</td>\n",
       "      <td>3.40</td>\n",
       "    </tr>\n",
       "    <tr>\n",
       "      <th>471628</th>\n",
       "      <td>576645</td>\n",
       "      <td>23247</td>\n",
       "      <td>BISCUIT TIN 50'S CHRISTMAS</td>\n",
       "      <td>6</td>\n",
       "      <td>2011-11-16 10:14:00</td>\n",
       "      <td>2.89</td>\n",
       "      <td>16245.0</td>\n",
       "      <td>United Kingdom</td>\n",
       "      <td>17.34</td>\n",
       "    </tr>\n",
       "  </tbody>\n",
       "</table>\n",
       "</div>"
      ],
      "text/plain": [
       "       InvoiceNo StockCode                        Description  Quantity  \\\n",
       "399644    571283     85150      LADIES & GENTLEMEN METAL SIGN         6   \n",
       "366966    568805     20712         JUMBO BAG WOODLAND ANIMALS        10   \n",
       "509787    579401     23378  PACK OF 12 50'S CHRISTMAS TISSUES        12   \n",
       "199109    554083     22355          CHARLOTTE BAG SUKI DESIGN         4   \n",
       "471628    576645     23247         BISCUIT TIN 50'S CHRISTMAS         6   \n",
       "\n",
       "               InvoiceDate  UnitPrice  CustomerID         Country  revenue  \n",
       "399644 2011-10-16 13:51:00       2.55     16533.0  United Kingdom    15.30  \n",
       "366966 2011-09-29 10:55:00       2.08     12826.0  United Kingdom    20.80  \n",
       "509787 2011-11-29 12:12:00       0.39     14550.0  United Kingdom     4.68  \n",
       "199109 2011-05-22 11:51:00       0.85     18125.0  United Kingdom     3.40  \n",
       "471628 2011-11-16 10:14:00       2.89     16245.0  United Kingdom    17.34  "
      ]
     },
     "execution_count": 22,
     "metadata": {},
     "output_type": "execute_result"
    }
   ],
   "source": [
    "df1['revenue'] = df1['Quantity'] * df1['UnitPrice']\n",
    "df1.sample(5)"
   ]
  },
  {
   "cell_type": "markdown",
   "id": "56f94b7d",
   "metadata": {},
   "source": [
    "***\n",
    "\n",
    "From InvoiceDate column, we can create some features as day of the week, day name, whether is workday or not, periodof the day, holiday, etc.\n",
    "\n",
    "In this notebook, we're going to create 3 more features, as following:\n",
    "\n",
    "1 - Name of the day\n",
    "\n",
    "2 - Workweek x weekend\n",
    "\n",
    "4 - Day period"
   ]
  },
  {
   "cell_type": "code",
   "execution_count": 23,
   "id": "7950904c",
   "metadata": {
    "ExecuteTime": {
     "end_time": "2022-06-02T13:35:32.926302Z",
     "start_time": "2022-06-02T13:35:32.618329Z"
    }
   },
   "outputs": [],
   "source": [
    "# \"spliting\" date and hour\n",
    "df1['date'] = df1['InvoiceDate'].dt.date\n",
    "df1['time'] = df1['InvoiceDate'].dt.time"
   ]
  },
  {
   "cell_type": "code",
   "execution_count": 24,
   "id": "4d06b142",
   "metadata": {
    "ExecuteTime": {
     "end_time": "2022-06-02T13:35:37.178284Z",
     "start_time": "2022-06-02T13:35:32.928648Z"
    }
   },
   "outputs": [],
   "source": [
    "# day of the week\n",
    "df1['day_of_week'] = df1['InvoiceDate'].apply(lambda x: x.strftime('%A'))"
   ]
  },
  {
   "cell_type": "code",
   "execution_count": 25,
   "id": "6d0ceb53",
   "metadata": {
    "ExecuteTime": {
     "end_time": "2022-06-02T13:35:37.371612Z",
     "start_time": "2022-06-02T13:35:37.180875Z"
    }
   },
   "outputs": [],
   "source": [
    "# Saturday or sunday\n",
    "df1['weekend'] = df1['day_of_week'].apply(lambda x: 1 if x == 'Saturday' or x == 'Sunday'\n",
    "                        else 0)"
   ]
  },
  {
   "cell_type": "code",
   "execution_count": 26,
   "id": "d650cef0",
   "metadata": {
    "ExecuteTime": {
     "end_time": "2022-06-02T13:35:39.822663Z",
     "start_time": "2022-06-02T13:35:37.374057Z"
    }
   },
   "outputs": [
    {
     "name": "stdout",
     "output_type": "stream",
     "text": [
      "06:10:00 20:38:00\n"
     ]
    }
   ],
   "source": [
    "# day period\n",
    "print(df1['time'].min(), df1['time'].max())\n",
    "\n",
    "now = datetime.datetime.now()\n",
    "period = now.replace(hour=12, minute=0, second=0, microsecond=0)\n",
    "\n",
    "# creating day period\n",
    "df1['day_period'] = df1['InvoiceDate'].apply(lambda x: 'before_noon' if x.time() < period.time()\n",
    "                                else 'after_noon')\n"
   ]
  },
  {
   "cell_type": "code",
   "execution_count": 27,
   "id": "f527d686",
   "metadata": {
    "ExecuteTime": {
     "end_time": "2022-06-02T13:35:40.190425Z",
     "start_time": "2022-06-02T13:35:39.825196Z"
    },
    "scrolled": true
   },
   "outputs": [
    {
     "name": "stdout",
     "output_type": "stream",
     "text": [
      "06:10:00\n",
      "11:59:00\n",
      "12:00:00\n",
      "20:38:00\n"
     ]
    }
   ],
   "source": [
    "# checking\n",
    "print(df1[df1['day_period'] == 'before_noon']['time'].min())\n",
    "print(df1[df1['day_period'] == 'before_noon']['time'].max())\n",
    "\n",
    "print(df1[df1['day_period'] == 'after_noon']['time'].min())\n",
    "print(df1[df1['day_period'] == 'after_noon']['time'].max())\n"
   ]
  },
  {
   "cell_type": "markdown",
   "id": "fb2993d5",
   "metadata": {},
   "source": [
    "## DATA VISUALIZATION"
   ]
  },
  {
   "cell_type": "code",
   "execution_count": 28,
   "id": "964ef58f",
   "metadata": {
    "ExecuteTime": {
     "end_time": "2022-06-02T13:35:40.227178Z",
     "start_time": "2022-06-02T13:35:40.193067Z"
    }
   },
   "outputs": [],
   "source": [
    "df2 = df1.copy(deep = True)"
   ]
  },
  {
   "cell_type": "markdown",
   "id": "3b780dab",
   "metadata": {},
   "source": [
    "***\n",
    "\n",
    "The final dataset in this section has 14 columns:\n",
    "\n",
    "- 'InvoiceNo'\n",
    "- 'StockCode'\n",
    "- 'Description'\n",
    "- 'Quantity'\n",
    "- 'InvoiceDate',\n",
    "- 'UnitPrice'\n",
    "- 'CustomerID'\n",
    "- 'Country'\n",
    "- 'revenue'\n",
    "- 'date'\n",
    "- 'time',\n",
    "- 'day_of_week'\n",
    "- 'weekend'\n",
    "- 'day_period'\n",
    "\n",
    "To make this section easier, we're going to drop some of these columns, as follows:\n",
    "\n",
    "1. **InvoiceNo**: we don't need this information for the purpose of this analysis\n",
    "\n",
    "2. **StockCode**: No information for the purpose of this analysis\n",
    "\n",
    "3. **Description**: The description column could be a good information, but for now, we're going to focus on others variables that don't need so much cleaning.\n",
    "\n",
    "4. **InvoiceDate**: We've created some other features based on this column, so, we no longer need this variable anymore.\n",
    "\n",
    "5. **Country**: It's all about United Kingdom, so, no need this column either.\n",
    "\n"
   ]
  },
  {
   "cell_type": "code",
   "execution_count": 29,
   "id": "e8b92c76",
   "metadata": {
    "ExecuteTime": {
     "end_time": "2022-06-02T13:35:40.281103Z",
     "start_time": "2022-06-02T13:35:40.238095Z"
    }
   },
   "outputs": [],
   "source": [
    "cols = ['InvoiceNo', 'StockCode', 'Description', 'InvoiceDate', 'Country']\n",
    "df2 = df2.drop(columns=(cols))"
   ]
  },
  {
   "cell_type": "code",
   "execution_count": 30,
   "id": "21b41f6d",
   "metadata": {
    "ExecuteTime": {
     "end_time": "2022-06-02T13:35:40.300693Z",
     "start_time": "2022-06-02T13:35:40.284298Z"
    }
   },
   "outputs": [
    {
     "data": {
      "text/html": [
       "<div>\n",
       "<style scoped>\n",
       "    .dataframe tbody tr th:only-of-type {\n",
       "        vertical-align: middle;\n",
       "    }\n",
       "\n",
       "    .dataframe tbody tr th {\n",
       "        vertical-align: top;\n",
       "    }\n",
       "\n",
       "    .dataframe thead th {\n",
       "        text-align: right;\n",
       "    }\n",
       "</style>\n",
       "<table border=\"1\" class=\"dataframe\">\n",
       "  <thead>\n",
       "    <tr style=\"text-align: right;\">\n",
       "      <th></th>\n",
       "      <th>Quantity</th>\n",
       "      <th>UnitPrice</th>\n",
       "      <th>CustomerID</th>\n",
       "      <th>revenue</th>\n",
       "      <th>date</th>\n",
       "      <th>time</th>\n",
       "      <th>day_of_week</th>\n",
       "      <th>weekend</th>\n",
       "      <th>day_period</th>\n",
       "    </tr>\n",
       "  </thead>\n",
       "  <tbody>\n",
       "    <tr>\n",
       "      <th>0</th>\n",
       "      <td>6</td>\n",
       "      <td>2.55</td>\n",
       "      <td>17850.0</td>\n",
       "      <td>15.30</td>\n",
       "      <td>2010-12-01</td>\n",
       "      <td>08:26:00</td>\n",
       "      <td>Wednesday</td>\n",
       "      <td>0</td>\n",
       "      <td>before_noon</td>\n",
       "    </tr>\n",
       "    <tr>\n",
       "      <th>1</th>\n",
       "      <td>6</td>\n",
       "      <td>3.39</td>\n",
       "      <td>17850.0</td>\n",
       "      <td>20.34</td>\n",
       "      <td>2010-12-01</td>\n",
       "      <td>08:26:00</td>\n",
       "      <td>Wednesday</td>\n",
       "      <td>0</td>\n",
       "      <td>before_noon</td>\n",
       "    </tr>\n",
       "    <tr>\n",
       "      <th>2</th>\n",
       "      <td>8</td>\n",
       "      <td>2.75</td>\n",
       "      <td>17850.0</td>\n",
       "      <td>22.00</td>\n",
       "      <td>2010-12-01</td>\n",
       "      <td>08:26:00</td>\n",
       "      <td>Wednesday</td>\n",
       "      <td>0</td>\n",
       "      <td>before_noon</td>\n",
       "    </tr>\n",
       "    <tr>\n",
       "      <th>3</th>\n",
       "      <td>6</td>\n",
       "      <td>3.39</td>\n",
       "      <td>17850.0</td>\n",
       "      <td>20.34</td>\n",
       "      <td>2010-12-01</td>\n",
       "      <td>08:26:00</td>\n",
       "      <td>Wednesday</td>\n",
       "      <td>0</td>\n",
       "      <td>before_noon</td>\n",
       "    </tr>\n",
       "    <tr>\n",
       "      <th>4</th>\n",
       "      <td>6</td>\n",
       "      <td>3.39</td>\n",
       "      <td>17850.0</td>\n",
       "      <td>20.34</td>\n",
       "      <td>2010-12-01</td>\n",
       "      <td>08:26:00</td>\n",
       "      <td>Wednesday</td>\n",
       "      <td>0</td>\n",
       "      <td>before_noon</td>\n",
       "    </tr>\n",
       "  </tbody>\n",
       "</table>\n",
       "</div>"
      ],
      "text/plain": [
       "   Quantity  UnitPrice  CustomerID  revenue        date      time day_of_week  \\\n",
       "0         6       2.55     17850.0    15.30  2010-12-01  08:26:00   Wednesday   \n",
       "1         6       3.39     17850.0    20.34  2010-12-01  08:26:00   Wednesday   \n",
       "2         8       2.75     17850.0    22.00  2010-12-01  08:26:00   Wednesday   \n",
       "3         6       3.39     17850.0    20.34  2010-12-01  08:26:00   Wednesday   \n",
       "4         6       3.39     17850.0    20.34  2010-12-01  08:26:00   Wednesday   \n",
       "\n",
       "   weekend   day_period  \n",
       "0        0  before_noon  \n",
       "1        0  before_noon  \n",
       "2        0  before_noon  \n",
       "3        0  before_noon  \n",
       "4        0  before_noon  "
      ]
     },
     "execution_count": 30,
     "metadata": {},
     "output_type": "execute_result"
    }
   ],
   "source": [
    "df2.head()"
   ]
  },
  {
   "cell_type": "markdown",
   "id": "02e9615e",
   "metadata": {},
   "source": [
    "### Quantity"
   ]
  },
  {
   "cell_type": "code",
   "execution_count": 31,
   "id": "8ad48705",
   "metadata": {
    "ExecuteTime": {
     "end_time": "2022-06-02T13:35:40.650788Z",
     "start_time": "2022-06-02T13:35:40.303922Z"
    }
   },
   "outputs": [
    {
     "data": {
      "image/png": "[encoded data removed]",
      "text/plain": [
       "<Figure size 864x288 with 1 Axes>"
      ]
     },
     "metadata": {
      "needs_background": "light"
     },
     "output_type": "display_data"
    }
   ],
   "source": [
    "plt.figure(figsize = (12,4))\n",
    "\n",
    "ax = sns.lineplot(data = df2[['date', 'Quantity']].groupby('date', as_index= False).sum(),  x = 'date',\n",
    "                  y ='Quantity',\n",
    "                 color = 'cadetblue')\n",
    "set_chart_settings('Quantity by date')"
   ]
  },
  {
   "cell_type": "code",
   "execution_count": 32,
   "id": "2fa811db",
   "metadata": {
    "ExecuteTime": {
     "end_time": "2022-06-02T13:35:40.918407Z",
     "start_time": "2022-06-02T13:35:40.655600Z"
    }
   },
   "outputs": [
    {
     "data": {
      "image/png": "[encoded data removed]",
      "text/plain": [
       "<Figure size 864x288 with 1 Axes>"
      ]
     },
     "metadata": {
      "needs_background": "light"
     },
     "output_type": "display_data"
    }
   ],
   "source": [
    "plt.figure(figsize = (12,4))\n",
    "\n",
    "order = ['Monday', 'Tuesday', 'Wednesday', 'Thursday', 'Friday', 'Saturday', 'Sunday']\n",
    "ax = sns.barplot(data = df2[['day_of_week', 'Quantity']].groupby('day_of_week', as_index= False).sum(),  x = 'day_of_week',\n",
    "                 y ='Quantity',\n",
    "                color = 'cadetblue',\n",
    "                order = order)\n",
    "set_chart_settings('Quantity by day of the week')"
   ]
  },
  {
   "cell_type": "code",
   "execution_count": 33,
   "id": "f78c7a6b",
   "metadata": {
    "ExecuteTime": {
     "end_time": "2022-06-02T13:35:41.119128Z",
     "start_time": "2022-06-02T13:35:40.921828Z"
    }
   },
   "outputs": [
    {
     "data": {
      "image/png": "[encoded data removed]",
      "text/plain": [
       "<Figure size 864x288 with 1 Axes>"
      ]
     },
     "metadata": {
      "needs_background": "light"
     },
     "output_type": "display_data"
    }
   ],
   "source": [
    "plt.figure(figsize = (12,4))\n",
    "\n",
    "\n",
    "ax = sns.barplot(data = df2[['weekend', 'Quantity']].groupby('weekend', as_index= False).sum(),\n",
    "                 x = 'weekend',\n",
    "                 y ='Quantity',\n",
    "                color = 'cadetblue',\n",
    ")\n",
    "set_chart_settings('Quantity - weekday or weekend')"
   ]
  },
  {
   "cell_type": "code",
   "execution_count": 34,
   "id": "4b2a1291",
   "metadata": {
    "ExecuteTime": {
     "end_time": "2022-06-02T13:35:41.334159Z",
     "start_time": "2022-06-02T13:35:41.122998Z"
    }
   },
   "outputs": [
    {
     "data": {
      "image/png": "[encoded data removed]",
      "text/plain": [
       "<Figure size 864x288 with 1 Axes>"
      ]
     },
     "metadata": {
      "needs_background": "light"
     },
     "output_type": "display_data"
    }
   ],
   "source": [
    "plt.figure(figsize = (12,4))\n",
    "\n",
    "\n",
    "ax = sns.barplot(data = df2[['day_period', 'Quantity']].groupby('day_period', as_index= False).sum(),\n",
    "                 x = 'day_period',\n",
    "                 y ='Quantity',\n",
    "                color = 'cadetblue',\n",
    ")\n",
    "set_chart_settings('Quantity by Period of the Day')"
   ]
  },
  {
   "cell_type": "markdown",
   "id": "4b3ef495",
   "metadata": {},
   "source": [
    "***\n",
    "\n",
    "1. The quantity sold by date has two higher points (2011-02 and 2011-12). Although we can see some variations, we can lee a pattern in the line chart.\n",
    "\n",
    "2. We don't have any data on Saturdays (might have an issue in this data). It should be investigate further.\n",
    "\n",
    "3. Thusday and Thursday are the days of the weeks with more quantity sold.\n",
    "\n",
    "4. There're much more sales during the week.\n",
    "\n",
    "5. There're more sales after noon"
   ]
  },
  {
   "cell_type": "markdown",
   "id": "af757bd8",
   "metadata": {
    "ExecuteTime": {
     "end_time": "2022-06-01T23:04:55.024353Z",
     "start_time": "2022-06-01T23:04:55.000114Z"
    }
   },
   "source": [
    "## CUSTOMER ID"
   ]
  },
  {
   "cell_type": "markdown",
   "id": "5543e915",
   "metadata": {},
   "source": [
    "### RFM TABLE"
   ]
  },
  {
   "cell_type": "markdown",
   "id": "b1685aa5",
   "metadata": {},
   "source": [
    "At vero eos et accusamus et iusto odio dignissimos ducimus qui blanditiis praesentium voluptatum deleniti atque corrupti quos dolores et quas molestias excepturi sint occaecati cupiditate non provident, similique sunt in culpa qui officia deserunt mollitia animi, id est laborum et dolorum fuga. Et harum quidem rerum facilis est et expedita\n",
    "\n",
    "distinctio. Nam libero tempore, cum soluta nobis est eligendi optio cumque nihil impedit quo minus id quod maxime placeat facere possimus, omnis voluptas assumenda est, omnis dolor repellendus. Temporibus autem quibusdam et aut\n"
   ]
  },
  {
   "cell_type": "code",
   "execution_count": 35,
   "id": "68cfdd16",
   "metadata": {
    "ExecuteTime": {
     "end_time": "2022-06-02T13:35:41.350995Z",
     "start_time": "2022-06-02T13:35:41.337345Z"
    }
   },
   "outputs": [
    {
     "name": "stdout",
     "output_type": "stream",
     "text": [
      "recency:  4153 days, 0:00:00\n",
      "frequency:  2\n",
      "revenue:  154367.2\n"
     ]
    }
   ],
   "source": [
    "print('recency: ', now.date() - df2[df2['CustomerID'] == 12346]['date'].max())\n",
    "print('frequency: ', len(df2[df2['CustomerID'] == 12346]['CustomerID']))\n",
    "print('revenue: ' , df2[df2['CustomerID'] == 12346]['revenue'].sum() )"
   ]
  },
  {
   "cell_type": "code",
   "execution_count": 36,
   "id": "b80766cc",
   "metadata": {
    "ExecuteTime": {
     "end_time": "2022-06-02T13:35:42.293208Z",
     "start_time": "2022-06-02T13:35:41.354029Z"
    }
   },
   "outputs": [
    {
     "data": {
      "text/html": [
       "<div>\n",
       "<style scoped>\n",
       "    .dataframe tbody tr th:only-of-type {\n",
       "        vertical-align: middle;\n",
       "    }\n",
       "\n",
       "    .dataframe tbody tr th {\n",
       "        vertical-align: top;\n",
       "    }\n",
       "\n",
       "    .dataframe thead th {\n",
       "        text-align: right;\n",
       "    }\n",
       "</style>\n",
       "<table border=\"1\" class=\"dataframe\">\n",
       "  <thead>\n",
       "    <tr style=\"text-align: right;\">\n",
       "      <th></th>\n",
       "      <th>CustomerID</th>\n",
       "      <th>date</th>\n",
       "      <th>frequency</th>\n",
       "      <th>revenue</th>\n",
       "    </tr>\n",
       "  </thead>\n",
       "  <tbody>\n",
       "    <tr>\n",
       "      <th>0</th>\n",
       "      <td>12346.0</td>\n",
       "      <td>4153</td>\n",
       "      <td>2</td>\n",
       "      <td>154367.20</td>\n",
       "    </tr>\n",
       "    <tr>\n",
       "      <th>1</th>\n",
       "      <td>12747.0</td>\n",
       "      <td>3830</td>\n",
       "      <td>103</td>\n",
       "      <td>4196.01</td>\n",
       "    </tr>\n",
       "    <tr>\n",
       "      <th>2</th>\n",
       "      <td>12748.0</td>\n",
       "      <td>3828</td>\n",
       "      <td>4642</td>\n",
       "      <td>38367.36</td>\n",
       "    </tr>\n",
       "    <tr>\n",
       "      <th>3</th>\n",
       "      <td>12749.0</td>\n",
       "      <td>3831</td>\n",
       "      <td>231</td>\n",
       "      <td>4313.56</td>\n",
       "    </tr>\n",
       "    <tr>\n",
       "      <th>4</th>\n",
       "      <td>12820.0</td>\n",
       "      <td>3831</td>\n",
       "      <td>59</td>\n",
       "      <td>942.34</td>\n",
       "    </tr>\n",
       "    <tr>\n",
       "      <th>...</th>\n",
       "      <td>...</td>\n",
       "      <td>...</td>\n",
       "      <td>...</td>\n",
       "      <td>...</td>\n",
       "    </tr>\n",
       "    <tr>\n",
       "      <th>3945</th>\n",
       "      <td>18280.0</td>\n",
       "      <td>4105</td>\n",
       "      <td>10</td>\n",
       "      <td>180.60</td>\n",
       "    </tr>\n",
       "    <tr>\n",
       "      <th>3946</th>\n",
       "      <td>18281.0</td>\n",
       "      <td>4008</td>\n",
       "      <td>7</td>\n",
       "      <td>80.82</td>\n",
       "    </tr>\n",
       "    <tr>\n",
       "      <th>3947</th>\n",
       "      <td>18282.0</td>\n",
       "      <td>3835</td>\n",
       "      <td>13</td>\n",
       "      <td>179.50</td>\n",
       "    </tr>\n",
       "    <tr>\n",
       "      <th>3948</th>\n",
       "      <td>18283.0</td>\n",
       "      <td>3831</td>\n",
       "      <td>756</td>\n",
       "      <td>2094.88</td>\n",
       "    </tr>\n",
       "    <tr>\n",
       "      <th>3949</th>\n",
       "      <td>18287.0</td>\n",
       "      <td>3870</td>\n",
       "      <td>70</td>\n",
       "      <td>1837.28</td>\n",
       "    </tr>\n",
       "  </tbody>\n",
       "</table>\n",
       "<p>3950 rows × 4 columns</p>\n",
       "</div>"
      ],
      "text/plain": [
       "      CustomerID  date  frequency    revenue\n",
       "0        12346.0  4153          2  154367.20\n",
       "1        12747.0  3830        103    4196.01\n",
       "2        12748.0  3828       4642   38367.36\n",
       "3        12749.0  3831        231    4313.56\n",
       "4        12820.0  3831         59     942.34\n",
       "...          ...   ...        ...        ...\n",
       "3945     18280.0  4105         10     180.60\n",
       "3946     18281.0  4008          7      80.82\n",
       "3947     18282.0  3835         13     179.50\n",
       "3948     18283.0  3831        756    2094.88\n",
       "3949     18287.0  3870         70    1837.28\n",
       "\n",
       "[3950 rows x 4 columns]"
      ]
     },
     "execution_count": 36,
     "metadata": {},
     "output_type": "execute_result"
    }
   ],
   "source": [
    "rfm = df1.groupby('CustomerID').agg({'date': lambda x: (now.date() - x.max()).days,\n",
    "                             'CustomerID' : lambda x: len(x),\n",
    "                                    'revenue': lambda x: x.sum()})\n",
    "\n",
    "rfm = rfm.rename(columns=({'CustomerID' : 'frequency'}))\n",
    "rfm = rfm.reset_index()\n",
    "\n",
    "rfm"
   ]
  },
  {
   "cell_type": "markdown",
   "id": "0fb1a07e",
   "metadata": {},
   "source": [
    "### COHORT ANALYSIS"
   ]
  },
  {
   "cell_type": "markdown",
   "id": "83bc5bf9",
   "metadata": {},
   "source": [
    "At vero eos et accusamus et iusto odio dignissimos ducimus qui blanditiis praesentium voluptatum deleniti atque corrupti quos dolores et quas molestias excepturi sint occaecati cupiditate non provident, similique sunt in culpa qui officia deserunt mollitia animi, id est laborum et dolorum fuga. Et harum quidem rerum facilis est et expedita\n",
    "\n",
    "distinctio. Nam libero tempore, cum soluta nobis est eligendi optio cumque nihil impedit quo minus id quod maxime placeat facere possimus, omnis voluptas assumenda est, omnis dolor repellendus. Temporibus autem quibusdam et aut"
   ]
  },
  {
   "cell_type": "code",
   "execution_count": 67,
   "id": "4d4b0d93",
   "metadata": {
    "ExecuteTime": {
     "end_time": "2022-06-02T13:46:55.903384Z",
     "start_time": "2022-06-02T13:46:55.893884Z"
    }
   },
   "outputs": [],
   "source": [
    "df3 = df2[['CustomerID', 'date' ,'revenue']]"
   ]
  },
  {
   "cell_type": "code",
   "execution_count": 68,
   "id": "7322d111",
   "metadata": {
    "ExecuteTime": {
     "end_time": "2022-06-02T13:47:00.933012Z",
     "start_time": "2022-06-02T13:46:56.179604Z"
    }
   },
   "outputs": [
    {
     "data": {
      "text/html": [
       "<div>\n",
       "<style scoped>\n",
       "    .dataframe tbody tr th:only-of-type {\n",
       "        vertical-align: middle;\n",
       "    }\n",
       "\n",
       "    .dataframe tbody tr th {\n",
       "        vertical-align: top;\n",
       "    }\n",
       "\n",
       "    .dataframe thead th {\n",
       "        text-align: right;\n",
       "    }\n",
       "</style>\n",
       "<table border=\"1\" class=\"dataframe\">\n",
       "  <thead>\n",
       "    <tr style=\"text-align: right;\">\n",
       "      <th></th>\n",
       "      <th>CustomerID</th>\n",
       "      <th>date</th>\n",
       "      <th>revenue</th>\n",
       "      <th>month</th>\n",
       "    </tr>\n",
       "  </thead>\n",
       "  <tbody>\n",
       "    <tr>\n",
       "      <th>191373</th>\n",
       "      <td>13089.0</td>\n",
       "      <td>2011-05-16</td>\n",
       "      <td>19.8</td>\n",
       "      <td>2011-05</td>\n",
       "    </tr>\n",
       "  </tbody>\n",
       "</table>\n",
       "</div>"
      ],
      "text/plain": [
       "        CustomerID       date  revenue    month\n",
       "191373     13089.0 2011-05-16     19.8  2011-05"
      ]
     },
     "execution_count": 68,
     "metadata": {},
     "output_type": "execute_result"
    }
   ],
   "source": [
    "#converting date column and extracting the month and year\n",
    "df3 = df3.copy()\n",
    "df3['date'] = df3['date'].astype('datetime64')\n",
    "df3['month'] = df3['date'].apply(lambda x: x.strftime('%Y-%m'))\n",
    "\n",
    "df3.sample()"
   ]
  },
  {
   "cell_type": "code",
   "execution_count": 69,
   "id": "0aa4fd01",
   "metadata": {
    "ExecuteTime": {
     "end_time": "2022-06-02T13:47:01.603977Z",
     "start_time": "2022-06-02T13:47:00.938081Z"
    }
   },
   "outputs": [
    {
     "data": {
      "text/html": [
       "<div>\n",
       "<style scoped>\n",
       "    .dataframe tbody tr th:only-of-type {\n",
       "        vertical-align: middle;\n",
       "    }\n",
       "\n",
       "    .dataframe tbody tr th {\n",
       "        vertical-align: top;\n",
       "    }\n",
       "\n",
       "    .dataframe thead th {\n",
       "        text-align: right;\n",
       "    }\n",
       "</style>\n",
       "<table border=\"1\" class=\"dataframe\">\n",
       "  <thead>\n",
       "    <tr style=\"text-align: right;\">\n",
       "      <th></th>\n",
       "      <th>CustomerID</th>\n",
       "      <th>date</th>\n",
       "      <th>revenue</th>\n",
       "      <th>month</th>\n",
       "      <th>cohort</th>\n",
       "    </tr>\n",
       "  </thead>\n",
       "  <tbody>\n",
       "    <tr>\n",
       "      <th>0</th>\n",
       "      <td>17850.0</td>\n",
       "      <td>2010-12-01</td>\n",
       "      <td>15.30</td>\n",
       "      <td>2010-12</td>\n",
       "      <td>2010-12</td>\n",
       "    </tr>\n",
       "    <tr>\n",
       "      <th>1</th>\n",
       "      <td>17850.0</td>\n",
       "      <td>2010-12-01</td>\n",
       "      <td>20.34</td>\n",
       "      <td>2010-12</td>\n",
       "      <td>2010-12</td>\n",
       "    </tr>\n",
       "    <tr>\n",
       "      <th>2</th>\n",
       "      <td>17850.0</td>\n",
       "      <td>2010-12-01</td>\n",
       "      <td>22.00</td>\n",
       "      <td>2010-12</td>\n",
       "      <td>2010-12</td>\n",
       "    </tr>\n",
       "    <tr>\n",
       "      <th>3</th>\n",
       "      <td>17850.0</td>\n",
       "      <td>2010-12-01</td>\n",
       "      <td>20.34</td>\n",
       "      <td>2010-12</td>\n",
       "      <td>2010-12</td>\n",
       "    </tr>\n",
       "    <tr>\n",
       "      <th>4</th>\n",
       "      <td>17850.0</td>\n",
       "      <td>2010-12-01</td>\n",
       "      <td>20.34</td>\n",
       "      <td>2010-12</td>\n",
       "      <td>2010-12</td>\n",
       "    </tr>\n",
       "  </tbody>\n",
       "</table>\n",
       "</div>"
      ],
      "text/plain": [
       "   CustomerID       date  revenue    month   cohort\n",
       "0     17850.0 2010-12-01    15.30  2010-12  2010-12\n",
       "1     17850.0 2010-12-01    20.34  2010-12  2010-12\n",
       "2     17850.0 2010-12-01    22.00  2010-12  2010-12\n",
       "3     17850.0 2010-12-01    20.34  2010-12  2010-12\n",
       "4     17850.0 2010-12-01    20.34  2010-12  2010-12"
      ]
     },
     "execution_count": 69,
     "metadata": {},
     "output_type": "execute_result"
    }
   ],
   "source": [
    "#getting the first date by client\n",
    "df3 = df3.set_index('CustomerID')\n",
    "df3['cohort'] = df3.groupby(level = 0)['month'].min()\n",
    "df3 = df3.reset_index()\n",
    "\n",
    "df3.head()"
   ]
  },
  {
   "cell_type": "code",
   "execution_count": 70,
   "id": "8add1c85",
   "metadata": {
    "ExecuteTime": {
     "end_time": "2022-06-02T13:47:01.727895Z",
     "start_time": "2022-06-02T13:47:01.606703Z"
    },
    "scrolled": false
   },
   "outputs": [
    {
     "data": {
      "text/html": [
       "<div>\n",
       "<style scoped>\n",
       "    .dataframe tbody tr th:only-of-type {\n",
       "        vertical-align: middle;\n",
       "    }\n",
       "\n",
       "    .dataframe tbody tr th {\n",
       "        vertical-align: top;\n",
       "    }\n",
       "\n",
       "    .dataframe thead th {\n",
       "        text-align: right;\n",
       "    }\n",
       "</style>\n",
       "<table border=\"1\" class=\"dataframe\">\n",
       "  <thead>\n",
       "    <tr style=\"text-align: right;\">\n",
       "      <th></th>\n",
       "      <th></th>\n",
       "      <th>total_customers</th>\n",
       "    </tr>\n",
       "    <tr>\n",
       "      <th>cohort</th>\n",
       "      <th>month</th>\n",
       "      <th></th>\n",
       "    </tr>\n",
       "  </thead>\n",
       "  <tbody>\n",
       "    <tr>\n",
       "      <th rowspan=\"10\" valign=\"top\">2010-12</th>\n",
       "      <th>2010-12</th>\n",
       "      <td>871</td>\n",
       "    </tr>\n",
       "    <tr>\n",
       "      <th>2011-01</th>\n",
       "      <td>322</td>\n",
       "    </tr>\n",
       "    <tr>\n",
       "      <th>2011-02</th>\n",
       "      <td>291</td>\n",
       "    </tr>\n",
       "    <tr>\n",
       "      <th>2011-03</th>\n",
       "      <td>329</td>\n",
       "    </tr>\n",
       "    <tr>\n",
       "      <th>2011-04</th>\n",
       "      <td>308</td>\n",
       "    </tr>\n",
       "    <tr>\n",
       "      <th>2011-05</th>\n",
       "      <td>345</td>\n",
       "    </tr>\n",
       "    <tr>\n",
       "      <th>2011-06</th>\n",
       "      <td>327</td>\n",
       "    </tr>\n",
       "    <tr>\n",
       "      <th>2011-07</th>\n",
       "      <td>304</td>\n",
       "    </tr>\n",
       "    <tr>\n",
       "      <th>2011-08</th>\n",
       "      <td>306</td>\n",
       "    </tr>\n",
       "    <tr>\n",
       "      <th>2011-09</th>\n",
       "      <td>346</td>\n",
       "    </tr>\n",
       "  </tbody>\n",
       "</table>\n",
       "</div>"
      ],
      "text/plain": [
       "                 total_customers\n",
       "cohort  month                   \n",
       "2010-12 2010-12              871\n",
       "        2011-01              322\n",
       "        2011-02              291\n",
       "        2011-03              329\n",
       "        2011-04              308\n",
       "        2011-05              345\n",
       "        2011-06              327\n",
       "        2011-07              304\n",
       "        2011-08              306\n",
       "        2011-09              346"
      ]
     },
     "execution_count": 70,
     "metadata": {},
     "output_type": "execute_result"
    }
   ],
   "source": [
    "cohort = df3.groupby(['cohort', 'month'])\n",
    "cohort2 = cohort.agg({'CustomerID' : pd.Series.nunique})\n",
    "cohort2 = cohort2.rename(columns ={'CustomerID' : 'total_customers'})\n"
   ]
  },
  {
   "cell_type": "code",
   "execution_count": 73,
   "id": "0dfda6c3",
   "metadata": {
    "ExecuteTime": {
     "end_time": "2022-06-02T13:47:35.267862Z",
     "start_time": "2022-06-02T13:47:35.226795Z"
    },
    "scrolled": false
   },
   "outputs": [
    {
     "data": {
      "text/html": [
       "<div>\n",
       "<style scoped>\n",
       "    .dataframe tbody tr th:only-of-type {\n",
       "        vertical-align: middle;\n",
       "    }\n",
       "\n",
       "    .dataframe tbody tr th {\n",
       "        vertical-align: top;\n",
       "    }\n",
       "\n",
       "    .dataframe thead th {\n",
       "        text-align: right;\n",
       "    }\n",
       "</style>\n",
       "<table border=\"1\" class=\"dataframe\">\n",
       "  <thead>\n",
       "    <tr style=\"text-align: right;\">\n",
       "      <th></th>\n",
       "      <th></th>\n",
       "      <th>month</th>\n",
       "      <th>total_customers</th>\n",
       "    </tr>\n",
       "    <tr>\n",
       "      <th>cohort</th>\n",
       "      <th>cohort_period</th>\n",
       "      <th></th>\n",
       "      <th></th>\n",
       "    </tr>\n",
       "  </thead>\n",
       "  <tbody>\n",
       "    <tr>\n",
       "      <th rowspan=\"5\" valign=\"top\">2010-12</th>\n",
       "      <th>1</th>\n",
       "      <td>2010-12</td>\n",
       "      <td>871</td>\n",
       "    </tr>\n",
       "    <tr>\n",
       "      <th>2</th>\n",
       "      <td>2011-01</td>\n",
       "      <td>322</td>\n",
       "    </tr>\n",
       "    <tr>\n",
       "      <th>3</th>\n",
       "      <td>2011-02</td>\n",
       "      <td>291</td>\n",
       "    </tr>\n",
       "    <tr>\n",
       "      <th>4</th>\n",
       "      <td>2011-03</td>\n",
       "      <td>329</td>\n",
       "    </tr>\n",
       "    <tr>\n",
       "      <th>5</th>\n",
       "      <td>2011-04</td>\n",
       "      <td>308</td>\n",
       "    </tr>\n",
       "    <tr>\n",
       "      <th>...</th>\n",
       "      <th>...</th>\n",
       "      <td>...</td>\n",
       "      <td>...</td>\n",
       "    </tr>\n",
       "    <tr>\n",
       "      <th rowspan=\"2\" valign=\"top\">2011-10</th>\n",
       "      <th>2</th>\n",
       "      <td>2011-11</td>\n",
       "      <td>86</td>\n",
       "    </tr>\n",
       "    <tr>\n",
       "      <th>3</th>\n",
       "      <td>2011-12</td>\n",
       "      <td>40</td>\n",
       "    </tr>\n",
       "    <tr>\n",
       "      <th rowspan=\"2\" valign=\"top\">2011-11</th>\n",
       "      <th>1</th>\n",
       "      <td>2011-11</td>\n",
       "      <td>296</td>\n",
       "    </tr>\n",
       "    <tr>\n",
       "      <th>2</th>\n",
       "      <td>2011-12</td>\n",
       "      <td>41</td>\n",
       "    </tr>\n",
       "    <tr>\n",
       "      <th>2011-12</th>\n",
       "      <th>1</th>\n",
       "      <td>2011-12</td>\n",
       "      <td>34</td>\n",
       "    </tr>\n",
       "  </tbody>\n",
       "</table>\n",
       "<p>91 rows × 2 columns</p>\n",
       "</div>"
      ],
      "text/plain": [
       "                         month  total_customers\n",
       "cohort  cohort_period                          \n",
       "2010-12 1              2010-12              871\n",
       "        2              2011-01              322\n",
       "        3              2011-02              291\n",
       "        4              2011-03              329\n",
       "        5              2011-04              308\n",
       "...                        ...              ...\n",
       "2011-10 2              2011-11               86\n",
       "        3              2011-12               40\n",
       "2011-11 1              2011-11              296\n",
       "        2              2011-12               41\n",
       "2011-12 1              2011-12               34\n",
       "\n",
       "[91 rows x 2 columns]"
      ]
     },
     "execution_count": 73,
     "metadata": {},
     "output_type": "execute_result"
    }
   ],
   "source": [
    "def plot_cohort_period(df3):\n",
    "    df3['cohort_period'] = np.arange(len(df3)) +1\n",
    "    return df3\n",
    "\n",
    "cohort2 = cohort2.groupby(level = 0).apply(plot_cohort_period)\n",
    "cohort2 = cohort2.reset_index().set_index(['cohort', 'cohort_period'])\n",
    "#cohort2.set_index(['cohort', 'cohort_period'])\n"
   ]
  },
  {
   "cell_type": "code",
   "execution_count": 74,
   "id": "a7e64e32",
   "metadata": {
    "ExecuteTime": {
     "end_time": "2022-06-02T13:47:48.690169Z",
     "start_time": "2022-06-02T13:47:48.681424Z"
    }
   },
   "outputs": [
    {
     "data": {
      "text/plain": [
       "cohort\n",
       "2010-12    871\n",
       "2011-01    362\n",
       "2011-02    339\n",
       "2011-03    408\n",
       "2011-04    276\n",
       "2011-05    252\n",
       "2011-06    207\n",
       "2011-07    172\n",
       "2011-08    140\n",
       "2011-09    275\n",
       "2011-10    318\n",
       "2011-11    296\n",
       "2011-12     34\n",
       "Name: total_customers, dtype: int64"
      ]
     },
     "execution_count": 74,
     "metadata": {},
     "output_type": "execute_result"
    }
   ],
   "source": [
    "cohort_grouped_size = cohort2['total_customers'].groupby(level=0).first()"
   ]
  },
  {
   "cell_type": "code",
   "execution_count": 75,
   "id": "b2723754",
   "metadata": {
    "ExecuteTime": {
     "end_time": "2022-06-02T13:47:52.108344Z",
     "start_time": "2022-06-02T13:47:52.079158Z"
    }
   },
   "outputs": [
    {
     "data": {
      "text/html": [
       "<div>\n",
       "<style scoped>\n",
       "    .dataframe tbody tr th:only-of-type {\n",
       "        vertical-align: middle;\n",
       "    }\n",
       "\n",
       "    .dataframe tbody tr th {\n",
       "        vertical-align: top;\n",
       "    }\n",
       "\n",
       "    .dataframe thead th {\n",
       "        text-align: right;\n",
       "    }\n",
       "</style>\n",
       "<table border=\"1\" class=\"dataframe\">\n",
       "  <thead>\n",
       "    <tr style=\"text-align: right;\">\n",
       "      <th>cohort</th>\n",
       "      <th>2010-12</th>\n",
       "      <th>2011-01</th>\n",
       "      <th>2011-02</th>\n",
       "      <th>2011-03</th>\n",
       "      <th>2011-04</th>\n",
       "      <th>2011-05</th>\n",
       "      <th>2011-06</th>\n",
       "      <th>2011-07</th>\n",
       "      <th>2011-08</th>\n",
       "      <th>2011-09</th>\n",
       "      <th>2011-10</th>\n",
       "      <th>2011-11</th>\n",
       "      <th>2011-12</th>\n",
       "    </tr>\n",
       "    <tr>\n",
       "      <th>cohort_period</th>\n",
       "      <th></th>\n",
       "      <th></th>\n",
       "      <th></th>\n",
       "      <th></th>\n",
       "      <th></th>\n",
       "      <th></th>\n",
       "      <th></th>\n",
       "      <th></th>\n",
       "      <th></th>\n",
       "      <th></th>\n",
       "      <th></th>\n",
       "      <th></th>\n",
       "      <th></th>\n",
       "    </tr>\n",
       "  </thead>\n",
       "  <tbody>\n",
       "    <tr>\n",
       "      <th>1</th>\n",
       "      <td>1.000000</td>\n",
       "      <td>1.000000</td>\n",
       "      <td>1.000000</td>\n",
       "      <td>1.000000</td>\n",
       "      <td>1.000000</td>\n",
       "      <td>1.000000</td>\n",
       "      <td>1.000000</td>\n",
       "      <td>1.000000</td>\n",
       "      <td>1.000000</td>\n",
       "      <td>1.000000</td>\n",
       "      <td>1.000000</td>\n",
       "      <td>1.000000</td>\n",
       "      <td>1.0</td>\n",
       "    </tr>\n",
       "    <tr>\n",
       "      <th>2</th>\n",
       "      <td>0.369690</td>\n",
       "      <td>0.232044</td>\n",
       "      <td>0.250737</td>\n",
       "      <td>0.193627</td>\n",
       "      <td>0.224638</td>\n",
       "      <td>0.230159</td>\n",
       "      <td>0.212560</td>\n",
       "      <td>0.203488</td>\n",
       "      <td>0.264286</td>\n",
       "      <td>0.290909</td>\n",
       "      <td>0.270440</td>\n",
       "      <td>0.138514</td>\n",
       "      <td>NaN</td>\n",
       "    </tr>\n",
       "    <tr>\n",
       "      <th>3</th>\n",
       "      <td>0.334099</td>\n",
       "      <td>0.279006</td>\n",
       "      <td>0.191740</td>\n",
       "      <td>0.262255</td>\n",
       "      <td>0.221014</td>\n",
       "      <td>0.170635</td>\n",
       "      <td>0.164251</td>\n",
       "      <td>0.191860</td>\n",
       "      <td>0.228571</td>\n",
       "      <td>0.327273</td>\n",
       "      <td>0.125786</td>\n",
       "      <td>NaN</td>\n",
       "      <td>NaN</td>\n",
       "    </tr>\n",
       "    <tr>\n",
       "      <th>4</th>\n",
       "      <td>0.377727</td>\n",
       "      <td>0.245856</td>\n",
       "      <td>0.280236</td>\n",
       "      <td>0.215686</td>\n",
       "      <td>0.217391</td>\n",
       "      <td>0.170635</td>\n",
       "      <td>0.246377</td>\n",
       "      <td>0.232558</td>\n",
       "      <td>0.257143</td>\n",
       "      <td>0.120000</td>\n",
       "      <td>NaN</td>\n",
       "      <td>NaN</td>\n",
       "      <td>NaN</td>\n",
       "    </tr>\n",
       "    <tr>\n",
       "      <th>5</th>\n",
       "      <td>0.353617</td>\n",
       "      <td>0.342541</td>\n",
       "      <td>0.283186</td>\n",
       "      <td>0.232843</td>\n",
       "      <td>0.206522</td>\n",
       "      <td>0.214286</td>\n",
       "      <td>0.256039</td>\n",
       "      <td>0.279070</td>\n",
       "      <td>0.135714</td>\n",
       "      <td>NaN</td>\n",
       "      <td>NaN</td>\n",
       "      <td>NaN</td>\n",
       "      <td>NaN</td>\n",
       "    </tr>\n",
       "    <tr>\n",
       "      <th>6</th>\n",
       "      <td>0.396096</td>\n",
       "      <td>0.292818</td>\n",
       "      <td>0.253687</td>\n",
       "      <td>0.171569</td>\n",
       "      <td>0.231884</td>\n",
       "      <td>0.238095</td>\n",
       "      <td>0.323671</td>\n",
       "      <td>0.110465</td>\n",
       "      <td>NaN</td>\n",
       "      <td>NaN</td>\n",
       "      <td>NaN</td>\n",
       "      <td>NaN</td>\n",
       "      <td>NaN</td>\n",
       "    </tr>\n",
       "    <tr>\n",
       "      <th>7</th>\n",
       "      <td>0.375431</td>\n",
       "      <td>0.262431</td>\n",
       "      <td>0.259587</td>\n",
       "      <td>0.262255</td>\n",
       "      <td>0.231884</td>\n",
       "      <td>0.265873</td>\n",
       "      <td>0.096618</td>\n",
       "      <td>NaN</td>\n",
       "      <td>NaN</td>\n",
       "      <td>NaN</td>\n",
       "      <td>NaN</td>\n",
       "      <td>NaN</td>\n",
       "      <td>NaN</td>\n",
       "    </tr>\n",
       "    <tr>\n",
       "      <th>8</th>\n",
       "      <td>0.349024</td>\n",
       "      <td>0.259669</td>\n",
       "      <td>0.283186</td>\n",
       "      <td>0.237745</td>\n",
       "      <td>0.264493</td>\n",
       "      <td>0.099206</td>\n",
       "      <td>NaN</td>\n",
       "      <td>NaN</td>\n",
       "      <td>NaN</td>\n",
       "      <td>NaN</td>\n",
       "      <td>NaN</td>\n",
       "      <td>NaN</td>\n",
       "      <td>NaN</td>\n",
       "    </tr>\n",
       "    <tr>\n",
       "      <th>9</th>\n",
       "      <td>0.351320</td>\n",
       "      <td>0.314917</td>\n",
       "      <td>0.277286</td>\n",
       "      <td>0.291667</td>\n",
       "      <td>0.083333</td>\n",
       "      <td>NaN</td>\n",
       "      <td>NaN</td>\n",
       "      <td>NaN</td>\n",
       "      <td>NaN</td>\n",
       "      <td>NaN</td>\n",
       "      <td>NaN</td>\n",
       "      <td>NaN</td>\n",
       "      <td>NaN</td>\n",
       "    </tr>\n",
       "    <tr>\n",
       "      <th>10</th>\n",
       "      <td>0.397245</td>\n",
       "      <td>0.350829</td>\n",
       "      <td>0.312684</td>\n",
       "      <td>0.093137</td>\n",
       "      <td>NaN</td>\n",
       "      <td>NaN</td>\n",
       "      <td>NaN</td>\n",
       "      <td>NaN</td>\n",
       "      <td>NaN</td>\n",
       "      <td>NaN</td>\n",
       "      <td>NaN</td>\n",
       "      <td>NaN</td>\n",
       "      <td>NaN</td>\n",
       "    </tr>\n",
       "    <tr>\n",
       "      <th>11</th>\n",
       "      <td>0.367394</td>\n",
       "      <td>0.361878</td>\n",
       "      <td>0.097345</td>\n",
       "      <td>NaN</td>\n",
       "      <td>NaN</td>\n",
       "      <td>NaN</td>\n",
       "      <td>NaN</td>\n",
       "      <td>NaN</td>\n",
       "      <td>NaN</td>\n",
       "      <td>NaN</td>\n",
       "      <td>NaN</td>\n",
       "      <td>NaN</td>\n",
       "      <td>NaN</td>\n",
       "    </tr>\n",
       "    <tr>\n",
       "      <th>12</th>\n",
       "      <td>0.492537</td>\n",
       "      <td>0.149171</td>\n",
       "      <td>NaN</td>\n",
       "      <td>NaN</td>\n",
       "      <td>NaN</td>\n",
       "      <td>NaN</td>\n",
       "      <td>NaN</td>\n",
       "      <td>NaN</td>\n",
       "      <td>NaN</td>\n",
       "      <td>NaN</td>\n",
       "      <td>NaN</td>\n",
       "      <td>NaN</td>\n",
       "      <td>NaN</td>\n",
       "    </tr>\n",
       "    <tr>\n",
       "      <th>13</th>\n",
       "      <td>0.273249</td>\n",
       "      <td>NaN</td>\n",
       "      <td>NaN</td>\n",
       "      <td>NaN</td>\n",
       "      <td>NaN</td>\n",
       "      <td>NaN</td>\n",
       "      <td>NaN</td>\n",
       "      <td>NaN</td>\n",
       "      <td>NaN</td>\n",
       "      <td>NaN</td>\n",
       "      <td>NaN</td>\n",
       "      <td>NaN</td>\n",
       "      <td>NaN</td>\n",
       "    </tr>\n",
       "  </tbody>\n",
       "</table>\n",
       "</div>"
      ],
      "text/plain": [
       "cohort          2010-12   2011-01   2011-02   2011-03   2011-04   2011-05  \\\n",
       "cohort_period                                                               \n",
       "1              1.000000  1.000000  1.000000  1.000000  1.000000  1.000000   \n",
       "2              0.369690  0.232044  0.250737  0.193627  0.224638  0.230159   \n",
       "3              0.334099  0.279006  0.191740  0.262255  0.221014  0.170635   \n",
       "4              0.377727  0.245856  0.280236  0.215686  0.217391  0.170635   \n",
       "5              0.353617  0.342541  0.283186  0.232843  0.206522  0.214286   \n",
       "6              0.396096  0.292818  0.253687  0.171569  0.231884  0.238095   \n",
       "7              0.375431  0.262431  0.259587  0.262255  0.231884  0.265873   \n",
       "8              0.349024  0.259669  0.283186  0.237745  0.264493  0.099206   \n",
       "9              0.351320  0.314917  0.277286  0.291667  0.083333       NaN   \n",
       "10             0.397245  0.350829  0.312684  0.093137       NaN       NaN   \n",
       "11             0.367394  0.361878  0.097345       NaN       NaN       NaN   \n",
       "12             0.492537  0.149171       NaN       NaN       NaN       NaN   \n",
       "13             0.273249       NaN       NaN       NaN       NaN       NaN   \n",
       "\n",
       "cohort          2011-06   2011-07   2011-08   2011-09   2011-10   2011-11  \\\n",
       "cohort_period                                                               \n",
       "1              1.000000  1.000000  1.000000  1.000000  1.000000  1.000000   \n",
       "2              0.212560  0.203488  0.264286  0.290909  0.270440  0.138514   \n",
       "3              0.164251  0.191860  0.228571  0.327273  0.125786       NaN   \n",
       "4              0.246377  0.232558  0.257143  0.120000       NaN       NaN   \n",
       "5              0.256039  0.279070  0.135714       NaN       NaN       NaN   \n",
       "6              0.323671  0.110465       NaN       NaN       NaN       NaN   \n",
       "7              0.096618       NaN       NaN       NaN       NaN       NaN   \n",
       "8                   NaN       NaN       NaN       NaN       NaN       NaN   \n",
       "9                   NaN       NaN       NaN       NaN       NaN       NaN   \n",
       "10                  NaN       NaN       NaN       NaN       NaN       NaN   \n",
       "11                  NaN       NaN       NaN       NaN       NaN       NaN   \n",
       "12                  NaN       NaN       NaN       NaN       NaN       NaN   \n",
       "13                  NaN       NaN       NaN       NaN       NaN       NaN   \n",
       "\n",
       "cohort         2011-12  \n",
       "cohort_period           \n",
       "1                  1.0  \n",
       "2                  NaN  \n",
       "3                  NaN  \n",
       "4                  NaN  \n",
       "5                  NaN  \n",
       "6                  NaN  \n",
       "7                  NaN  \n",
       "8                  NaN  \n",
       "9                  NaN  \n",
       "10                 NaN  \n",
       "11                 NaN  \n",
       "12                 NaN  \n",
       "13                 NaN  "
      ]
     },
     "execution_count": 75,
     "metadata": {},
     "output_type": "execute_result"
    }
   ],
   "source": [
    "users = cohort2['total_customers'].unstack(0).divide(cohort_grouped_size, axis = 1)"
   ]
  },
  {
   "cell_type": "code",
   "execution_count": 79,
   "id": "82520a27",
   "metadata": {
    "ExecuteTime": {
     "end_time": "2022-06-02T13:50:23.537011Z",
     "start_time": "2022-06-02T13:50:22.728919Z"
    }
   },
   "outputs": [
    {
     "data": {
      "text/plain": [
       "<AxesSubplot:xlabel='cohort_period', ylabel='cohort'>"
      ]
     },
     "execution_count": 79,
     "metadata": {},
     "output_type": "execute_result"
    },
    {
     "data": {
      "image/png": "[encoded data removed]",
      "text/plain": [
       "<Figure size 720x504 with 2 Axes>"
      ]
     },
     "metadata": {
      "needs_background": "light"
     },
     "output_type": "display_data"
    }
   ],
   "source": [
    "plt.figure(figsize = (10, 7))\n",
    "sns.heatmap(users.T, mask = users.T.isnull(), annot = True)\n"
   ]
  },
  {
   "cell_type": "code",
   "execution_count": null,
   "id": "1d2340c9",
   "metadata": {},
   "outputs": [],
   "source": []
  },
  {
   "cell_type": "code",
   "execution_count": null,
   "id": "8754893a",
   "metadata": {},
   "outputs": [],
   "source": []
  },
  {
   "cell_type": "code",
   "execution_count": null,
   "id": "eff8d216",
   "metadata": {},
   "outputs": [],
   "source": []
  }
 ],
 "metadata": {
  "kernelspec": {
   "display_name": "ds-projects",
   "language": "python",
   "name": "ds-projects"
  },
  "language_info": {
   "codemirror_mode": {
    "name": "ipython",
    "version": 3
   },
   "file_extension": ".py",
   "mimetype": "text/x-python",
   "name": "python",
   "nbconvert_exporter": "python",
   "pygments_lexer": "ipython3",
   "version": "3.9.7"
  },
  "toc": {
   "base_numbering": 1,
   "nav_menu": {},
   "number_sections": true,
   "sideBar": true,
   "skip_h1_title": false,
   "title_cell": "Table of Contents",
   "title_sidebar": "Contents",
   "toc_cell": false,
   "toc_position": {},
   "toc_section_display": true,
   "toc_window_display": false
  }
 },
 "nbformat": 4,
 "nbformat_minor": 5
}
