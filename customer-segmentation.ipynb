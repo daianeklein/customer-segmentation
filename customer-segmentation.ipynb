{
 "cells": [
  {
   "cell_type": "markdown",
   "id": "321573c0",
   "metadata": {},
   "source": [
    "# CUSTOMER SEGMENTATION\n",
    "\n",
    "***\n",
    "\n",
    "## ONLINE RETAIL DATASET\n"
   ]
  },
  {
   "cell_type": "markdown",
   "id": "5728a633",
   "metadata": {},
   "source": [
    "<img src=\"https://img.freepik.com/free-vector/postman-giving-parcel-customer-post-office_74855-4811.jpg\" width=\"626\" height=\"250\" >"
   ]
  },
  {
   "cell_type": "markdown",
   "id": "accf49cc",
   "metadata": {},
   "source": [
    "At vero eos et accusamus et iusto odio dignissimos ducimus qui blanditiis praesentium voluptatum deleniti atque corrupti quos dolores et quas molestias excepturi sint occaecati cupiditate non provident, similique sunt in culpa qui officia deserunt mollitia animi, id est laborum et dolorum fuga. Et harum quidem rerum facilis est et expedita \n",
    "\n",
    "distinctio. Nam libero tempore, cum soluta nobis est eligendi optio cumque nihil impedit quo minus id quod maxime placeat facere possimus, omnis voluptas assumenda est, omnis dolor repellendus. Temporibus autem quibusdam et aut \n",
    "\n",
    "officiis debitis aut rerum necessitatibus saepe eveniet ut et voluptates repudiandae sint et molestiae non recusandae. Itaque earum rerum hic tenetur a sapiente delectus, ut aut reiciendis voluptatibus maiores alias consequatur aut perferendis doloribus asperiores repellat."
   ]
  },
  {
   "cell_type": "markdown",
   "id": "902e82b0",
   "metadata": {},
   "source": [
    "# FUNCTIONS"
   ]
  },
  {
   "cell_type": "code",
   "execution_count": 1,
   "id": "05ea053f",
   "metadata": {
    "ExecuteTime": {
     "end_time": "2022-06-01T00:44:05.959419Z",
     "start_time": "2022-06-01T00:44:05.953460Z"
    }
   },
   "outputs": [],
   "source": [
    "def set_chart_settings(title):\n",
    "    \n",
    "    plt.title(title)\n",
    "    sns.despine(bottom = True, left = True)"
   ]
  },
  {
   "cell_type": "markdown",
   "id": "a01c36ae",
   "metadata": {},
   "source": [
    "# LIBS "
   ]
  },
  {
   "cell_type": "code",
   "execution_count": 2,
   "id": "854bc6f6",
   "metadata": {
    "ExecuteTime": {
     "end_time": "2022-06-01T00:44:07.574531Z",
     "start_time": "2022-06-01T00:44:05.962555Z"
    }
   },
   "outputs": [],
   "source": [
    "import pandas                   as pd\n",
    "import seaborn                  as sns\n",
    "import matplotlib.pyplot        as plt\n",
    "\n",
    "import datetime"
   ]
  },
  {
   "cell_type": "markdown",
   "id": "f5a28db1",
   "metadata": {},
   "source": [
    "# DATASET"
   ]
  },
  {
   "cell_type": "code",
   "execution_count": 3,
   "id": "8bf4c39f",
   "metadata": {
    "ExecuteTime": {
     "end_time": "2022-06-01T00:44:08.295034Z",
     "start_time": "2022-06-01T00:44:07.578887Z"
    }
   },
   "outputs": [
    {
     "data": {
      "text/html": [
       "<div>\n",
       "<style scoped>\n",
       "    .dataframe tbody tr th:only-of-type {\n",
       "        vertical-align: middle;\n",
       "    }\n",
       "\n",
       "    .dataframe tbody tr th {\n",
       "        vertical-align: top;\n",
       "    }\n",
       "\n",
       "    .dataframe thead th {\n",
       "        text-align: right;\n",
       "    }\n",
       "</style>\n",
       "<table border=\"1\" class=\"dataframe\">\n",
       "  <thead>\n",
       "    <tr style=\"text-align: right;\">\n",
       "      <th></th>\n",
       "      <th>InvoiceNo</th>\n",
       "      <th>StockCode</th>\n",
       "      <th>Description</th>\n",
       "      <th>Quantity</th>\n",
       "      <th>InvoiceDate</th>\n",
       "      <th>UnitPrice</th>\n",
       "      <th>CustomerID</th>\n",
       "      <th>Country</th>\n",
       "    </tr>\n",
       "  </thead>\n",
       "  <tbody>\n",
       "    <tr>\n",
       "      <th>0</th>\n",
       "      <td>536365</td>\n",
       "      <td>85123A</td>\n",
       "      <td>WHITE HANGING HEART T-LIGHT HOLDER</td>\n",
       "      <td>6</td>\n",
       "      <td>12/1/2010 8:26</td>\n",
       "      <td>2.55</td>\n",
       "      <td>17850.0</td>\n",
       "      <td>United Kingdom</td>\n",
       "    </tr>\n",
       "    <tr>\n",
       "      <th>1</th>\n",
       "      <td>536365</td>\n",
       "      <td>71053</td>\n",
       "      <td>WHITE METAL LANTERN</td>\n",
       "      <td>6</td>\n",
       "      <td>12/1/2010 8:26</td>\n",
       "      <td>3.39</td>\n",
       "      <td>17850.0</td>\n",
       "      <td>United Kingdom</td>\n",
       "    </tr>\n",
       "    <tr>\n",
       "      <th>2</th>\n",
       "      <td>536365</td>\n",
       "      <td>84406B</td>\n",
       "      <td>CREAM CUPID HEARTS COAT HANGER</td>\n",
       "      <td>8</td>\n",
       "      <td>12/1/2010 8:26</td>\n",
       "      <td>2.75</td>\n",
       "      <td>17850.0</td>\n",
       "      <td>United Kingdom</td>\n",
       "    </tr>\n",
       "    <tr>\n",
       "      <th>3</th>\n",
       "      <td>536365</td>\n",
       "      <td>84029G</td>\n",
       "      <td>KNITTED UNION FLAG HOT WATER BOTTLE</td>\n",
       "      <td>6</td>\n",
       "      <td>12/1/2010 8:26</td>\n",
       "      <td>3.39</td>\n",
       "      <td>17850.0</td>\n",
       "      <td>United Kingdom</td>\n",
       "    </tr>\n",
       "    <tr>\n",
       "      <th>4</th>\n",
       "      <td>536365</td>\n",
       "      <td>84029E</td>\n",
       "      <td>RED WOOLLY HOTTIE WHITE HEART.</td>\n",
       "      <td>6</td>\n",
       "      <td>12/1/2010 8:26</td>\n",
       "      <td>3.39</td>\n",
       "      <td>17850.0</td>\n",
       "      <td>United Kingdom</td>\n",
       "    </tr>\n",
       "  </tbody>\n",
       "</table>\n",
       "</div>"
      ],
      "text/plain": [
       "  InvoiceNo StockCode                          Description  Quantity  \\\n",
       "0    536365    85123A   WHITE HANGING HEART T-LIGHT HOLDER         6   \n",
       "1    536365     71053                  WHITE METAL LANTERN         6   \n",
       "2    536365    84406B       CREAM CUPID HEARTS COAT HANGER         8   \n",
       "3    536365    84029G  KNITTED UNION FLAG HOT WATER BOTTLE         6   \n",
       "4    536365    84029E       RED WOOLLY HOTTIE WHITE HEART.         6   \n",
       "\n",
       "      InvoiceDate  UnitPrice  CustomerID         Country  \n",
       "0  12/1/2010 8:26       2.55     17850.0  United Kingdom  \n",
       "1  12/1/2010 8:26       3.39     17850.0  United Kingdom  \n",
       "2  12/1/2010 8:26       2.75     17850.0  United Kingdom  \n",
       "3  12/1/2010 8:26       3.39     17850.0  United Kingdom  \n",
       "4  12/1/2010 8:26       3.39     17850.0  United Kingdom  "
      ]
     },
     "execution_count": 3,
     "metadata": {},
     "output_type": "execute_result"
    }
   ],
   "source": [
    "df = pd.read_csv('data.csv', encoding = 'latin-1')\n",
    "df.head()"
   ]
  },
  {
   "cell_type": "code",
   "execution_count": 4,
   "id": "dddeb821",
   "metadata": {
    "ExecuteTime": {
     "end_time": "2022-06-01T00:44:08.318317Z",
     "start_time": "2022-06-01T00:44:08.303557Z"
    }
   },
   "outputs": [
    {
     "data": {
      "text/plain": [
       "(541909, 8)"
      ]
     },
     "execution_count": 4,
     "metadata": {},
     "output_type": "execute_result"
    }
   ],
   "source": [
    "df.shape"
   ]
  },
  {
   "cell_type": "markdown",
   "id": "433f4cd9",
   "metadata": {},
   "source": [
    "# DATA ANALYSIS "
   ]
  },
  {
   "cell_type": "markdown",
   "id": "31c688ff",
   "metadata": {},
   "source": [
    "## GENERAL ANALYSIS"
   ]
  },
  {
   "cell_type": "code",
   "execution_count": 5,
   "id": "3c2112b9",
   "metadata": {
    "ExecuteTime": {
     "end_time": "2022-06-01T00:44:08.334054Z",
     "start_time": "2022-06-01T00:44:08.321551Z"
    }
   },
   "outputs": [
    {
     "data": {
      "text/plain": [
       "InvoiceNo       object\n",
       "StockCode       object\n",
       "Description     object\n",
       "Quantity         int64\n",
       "InvoiceDate     object\n",
       "UnitPrice      float64\n",
       "CustomerID     float64\n",
       "Country         object\n",
       "dtype: object"
      ]
     },
     "execution_count": 5,
     "metadata": {},
     "output_type": "execute_result"
    }
   ],
   "source": [
    "df.dtypes"
   ]
  },
  {
   "cell_type": "code",
   "execution_count": 6,
   "id": "492438c3",
   "metadata": {
    "ExecuteTime": {
     "end_time": "2022-06-01T00:44:12.250687Z",
     "start_time": "2022-06-01T00:44:08.344962Z"
    }
   },
   "outputs": [],
   "source": [
    "df['InvoiceDate'] = df['InvoiceDate'].astype('datetime64')"
   ]
  },
  {
   "cell_type": "code",
   "execution_count": 7,
   "id": "8d35a0a2",
   "metadata": {
    "ExecuteTime": {
     "end_time": "2022-06-01T00:44:12.373611Z",
     "start_time": "2022-06-01T00:44:12.252862Z"
    },
    "scrolled": true
   },
   "outputs": [
    {
     "data": {
      "text/plain": [
       "InvoiceNo           0\n",
       "StockCode           0\n",
       "Description      1454\n",
       "Quantity            0\n",
       "InvoiceDate         0\n",
       "UnitPrice           0\n",
       "CustomerID     135080\n",
       "Country             0\n",
       "dtype: int64"
      ]
     },
     "execution_count": 7,
     "metadata": {},
     "output_type": "execute_result"
    }
   ],
   "source": [
    "df.isna().sum()"
   ]
  },
  {
   "cell_type": "code",
   "execution_count": 8,
   "id": "52028d01",
   "metadata": {
    "ExecuteTime": {
     "end_time": "2022-06-01T00:44:12.440013Z",
     "start_time": "2022-06-01T00:44:12.376081Z"
    },
    "scrolled": false
   },
   "outputs": [
    {
     "data": {
      "text/plain": [
       "Country\n",
       "United Kingdom          361878\n",
       "Germany                   9495\n",
       "France                    8491\n",
       "EIRE                      7485\n",
       "Spain                     2533\n",
       "Netherlands               2371\n",
       "Belgium                   2069\n",
       "Switzerland               1877\n",
       "Portugal                  1480\n",
       "Australia                 1259\n",
       "Norway                    1086\n",
       "Italy                      803\n",
       "Channel Islands            758\n",
       "Finland                    695\n",
       "Cyprus                     622\n",
       "Sweden                     462\n",
       "Austria                    401\n",
       "Denmark                    389\n",
       "Japan                      358\n",
       "Poland                     341\n",
       "USA                        291\n",
       "Israel                     250\n",
       "Unspecified                244\n",
       "Singapore                  229\n",
       "Iceland                    182\n",
       "Canada                     151\n",
       "Greece                     146\n",
       "Malta                      127\n",
       "United Arab Emirates        68\n",
       "European Community          61\n",
       "RSA                         58\n",
       "Lebanon                     45\n",
       "Lithuania                   35\n",
       "Brazil                      32\n",
       "Czech Republic              30\n",
       "Bahrain                     17\n",
       "Saudi Arabia                10\n",
       "Hong Kong                    0\n",
       "Name: CustomerID, dtype: int64"
      ]
     },
     "execution_count": 8,
     "metadata": {},
     "output_type": "execute_result"
    }
   ],
   "source": [
    "df.groupby('Country')['CustomerID'].count().sort_values(ascending = False)"
   ]
  },
  {
   "cell_type": "code",
   "execution_count": 9,
   "id": "95ee417e",
   "metadata": {
    "ExecuteTime": {
     "end_time": "2022-06-01T00:44:12.507508Z",
     "start_time": "2022-06-01T00:44:12.447618Z"
    },
    "scrolled": false
   },
   "outputs": [
    {
     "data": {
      "text/plain": [
       "United Kingdom          0.914320\n",
       "Germany                 0.017521\n",
       "France                  0.015790\n",
       "EIRE                    0.015124\n",
       "Spain                   0.004674\n",
       "Netherlands             0.004375\n",
       "Belgium                 0.003818\n",
       "Switzerland             0.003694\n",
       "Portugal                0.002803\n",
       "Australia               0.002323\n",
       "Norway                  0.002004\n",
       "Italy                   0.001482\n",
       "Channel Islands         0.001399\n",
       "Finland                 0.001283\n",
       "Cyprus                  0.001148\n",
       "Sweden                  0.000853\n",
       "Unspecified             0.000823\n",
       "Austria                 0.000740\n",
       "Denmark                 0.000718\n",
       "Japan                   0.000661\n",
       "Poland                  0.000629\n",
       "Israel                  0.000548\n",
       "USA                     0.000537\n",
       "Hong Kong               0.000531\n",
       "Singapore               0.000423\n",
       "Iceland                 0.000336\n",
       "Canada                  0.000279\n",
       "Greece                  0.000269\n",
       "Malta                   0.000234\n",
       "United Arab Emirates    0.000125\n",
       "European Community      0.000113\n",
       "RSA                     0.000107\n",
       "Lebanon                 0.000083\n",
       "Lithuania               0.000065\n",
       "Brazil                  0.000059\n",
       "Czech Republic          0.000055\n",
       "Bahrain                 0.000035\n",
       "Saudi Arabia            0.000018\n",
       "Name: Country, dtype: float64"
      ]
     },
     "execution_count": 9,
     "metadata": {},
     "output_type": "execute_result"
    }
   ],
   "source": [
    "df['Country'].value_counts(normalize = True)"
   ]
  },
  {
   "cell_type": "markdown",
   "id": "021a0aee",
   "metadata": {},
   "source": [
    "***\n",
    "\n",
    "More than 90% of the data is from UK sales, so, we're going to restrict the data to the United Kingdom only.\n",
    "\n",
    "\n",
    "As we could see in the previous snippet, null customer ID represents 135.080 records. Our analysis is based on clients, so we're going to drop all missing values in this column as well."
   ]
  },
  {
   "cell_type": "code",
   "execution_count": 10,
   "id": "5de241dd",
   "metadata": {
    "ExecuteTime": {
     "end_time": "2022-06-01T00:44:12.786425Z",
     "start_time": "2022-06-01T00:44:12.511400Z"
    }
   },
   "outputs": [],
   "source": [
    "df = df[df['Country'] == 'United Kingdom']\n",
    "\n",
    "# removing null values\n",
    "df = df[~df['CustomerID'].isnull()]"
   ]
  },
  {
   "cell_type": "code",
   "execution_count": 11,
   "id": "8c45a982",
   "metadata": {
    "ExecuteTime": {
     "end_time": "2022-06-01T00:44:12.838915Z",
     "start_time": "2022-06-01T00:44:12.793717Z"
    },
    "scrolled": false
   },
   "outputs": [
    {
     "name": "stdout",
     "output_type": "stream",
     "text": [
      "2010-12-01 08:26:00\n",
      "2011-12-09 12:49:00\n",
      "0.0\n",
      "38970.0\n"
     ]
    }
   ],
   "source": [
    "# checking negative values or incorrect dates\n",
    "print(df['InvoiceDate'].min())\n",
    "print(df['InvoiceDate'].max())\n",
    "\n",
    "print(df['UnitPrice'].min())\n",
    "print(df['UnitPrice'].max())"
   ]
  },
  {
   "cell_type": "code",
   "execution_count": 12,
   "id": "d1a5db99",
   "metadata": {
    "ExecuteTime": {
     "end_time": "2022-06-01T00:44:12.871080Z",
     "start_time": "2022-06-01T00:44:12.846915Z"
    }
   },
   "outputs": [
    {
     "name": "stdout",
     "output_type": "stream",
     "text": [
      "-80995 80995\n",
      "(7533, 8)\n",
      "(361878, 8)\n"
     ]
    }
   ],
   "source": [
    "print(df['Quantity'].min(), df['Quantity'].max())\n",
    "print(df[df['Quantity'] < 0].shape)\n",
    "print(df.shape)"
   ]
  },
  {
   "cell_type": "markdown",
   "id": "7f9e9cc0",
   "metadata": {
    "ExecuteTime": {
     "end_time": "2022-06-01T00:25:39.476903Z",
     "start_time": "2022-06-01T00:25:39.451276Z"
    }
   },
   "source": [
    "***\n",
    "\n",
    "As we can see, there're 7.533 negative values in quantity column. It's clear that're wrong numbers.\n",
    "Before dropping them or replacing by other numbers, let's analyze some basic descriptive statistics."
   ]
  },
  {
   "cell_type": "code",
   "execution_count": 13,
   "id": "a4515a0e",
   "metadata": {
    "ExecuteTime": {
     "end_time": "2022-06-01T00:44:12.945594Z",
     "start_time": "2022-06-01T00:44:12.895426Z"
    },
    "scrolled": false
   },
   "outputs": [
    {
     "data": {
      "text/plain": [
       "count    361878.000000\n",
       "mean         11.077029\n",
       "std         263.129266\n",
       "min      -80995.000000\n",
       "25%           2.000000\n",
       "50%           4.000000\n",
       "75%          12.000000\n",
       "max       80995.000000\n",
       "Name: Quantity, dtype: float64"
      ]
     },
     "execution_count": 13,
     "metadata": {},
     "output_type": "execute_result"
    }
   ],
   "source": [
    "df['Quantity'].describe()"
   ]
  },
  {
   "cell_type": "code",
   "execution_count": 14,
   "id": "b83ffac2",
   "metadata": {
    "ExecuteTime": {
     "end_time": "2022-06-01T00:44:13.149888Z",
     "start_time": "2022-06-01T00:44:12.964531Z"
    }
   },
   "outputs": [
    {
     "data": {
      "text/html": [
       "<div>\n",
       "<style scoped>\n",
       "    .dataframe tbody tr th:only-of-type {\n",
       "        vertical-align: middle;\n",
       "    }\n",
       "\n",
       "    .dataframe tbody tr th {\n",
       "        vertical-align: top;\n",
       "    }\n",
       "\n",
       "    .dataframe thead th {\n",
       "        text-align: right;\n",
       "    }\n",
       "</style>\n",
       "<table border=\"1\" class=\"dataframe\">\n",
       "  <thead>\n",
       "    <tr style=\"text-align: right;\">\n",
       "      <th></th>\n",
       "      <th>Quantity</th>\n",
       "      <th>UnitPrice</th>\n",
       "      <th>CustomerID</th>\n",
       "    </tr>\n",
       "  </thead>\n",
       "  <tbody>\n",
       "    <tr>\n",
       "      <th>count</th>\n",
       "      <td>354345.000000</td>\n",
       "      <td>354345.000000</td>\n",
       "      <td>354345.000000</td>\n",
       "    </tr>\n",
       "    <tr>\n",
       "      <th>mean</th>\n",
       "      <td>12.048913</td>\n",
       "      <td>2.963793</td>\n",
       "      <td>15552.436219</td>\n",
       "    </tr>\n",
       "    <tr>\n",
       "      <th>std</th>\n",
       "      <td>190.428127</td>\n",
       "      <td>17.862067</td>\n",
       "      <td>1594.546025</td>\n",
       "    </tr>\n",
       "    <tr>\n",
       "      <th>min</th>\n",
       "      <td>1.000000</td>\n",
       "      <td>0.000000</td>\n",
       "      <td>12346.000000</td>\n",
       "    </tr>\n",
       "    <tr>\n",
       "      <th>25%</th>\n",
       "      <td>2.000000</td>\n",
       "      <td>1.250000</td>\n",
       "      <td>14194.000000</td>\n",
       "    </tr>\n",
       "    <tr>\n",
       "      <th>50%</th>\n",
       "      <td>4.000000</td>\n",
       "      <td>1.950000</td>\n",
       "      <td>15522.000000</td>\n",
       "    </tr>\n",
       "    <tr>\n",
       "      <th>75%</th>\n",
       "      <td>12.000000</td>\n",
       "      <td>3.750000</td>\n",
       "      <td>16931.000000</td>\n",
       "    </tr>\n",
       "    <tr>\n",
       "      <th>max</th>\n",
       "      <td>80995.000000</td>\n",
       "      <td>8142.750000</td>\n",
       "      <td>18287.000000</td>\n",
       "    </tr>\n",
       "  </tbody>\n",
       "</table>\n",
       "</div>"
      ],
      "text/plain": [
       "            Quantity      UnitPrice     CustomerID\n",
       "count  354345.000000  354345.000000  354345.000000\n",
       "mean       12.048913       2.963793   15552.436219\n",
       "std       190.428127      17.862067    1594.546025\n",
       "min         1.000000       0.000000   12346.000000\n",
       "25%         2.000000       1.250000   14194.000000\n",
       "50%         4.000000       1.950000   15522.000000\n",
       "75%        12.000000       3.750000   16931.000000\n",
       "max     80995.000000    8142.750000   18287.000000"
      ]
     },
     "execution_count": 14,
     "metadata": {},
     "output_type": "execute_result"
    }
   ],
   "source": [
    "df[df['Quantity'] > 0].describe()"
   ]
  },
  {
   "cell_type": "code",
   "execution_count": 15,
   "id": "79058142",
   "metadata": {
    "ExecuteTime": {
     "end_time": "2022-06-01T00:44:13.250593Z",
     "start_time": "2022-06-01T00:44:13.162971Z"
    },
    "scrolled": false
   },
   "outputs": [
    {
     "data": {
      "text/plain": [
       "1     71401\n",
       "2     54798\n",
       "12    49710\n",
       "6     32181\n",
       "4     28726\n",
       "3     25159\n",
       "24    19702\n",
       "10    18446\n",
       "8      9527\n",
       "5      7707\n",
       "Name: Quantity, dtype: int64"
      ]
     },
     "execution_count": 15,
     "metadata": {},
     "output_type": "execute_result"
    }
   ],
   "source": [
    "df['Quantity'].value_counts().head(10)"
   ]
  },
  {
   "cell_type": "code",
   "execution_count": 16,
   "id": "9bac23d1",
   "metadata": {
    "ExecuteTime": {
     "end_time": "2022-06-01T00:44:14.139464Z",
     "start_time": "2022-06-01T00:44:13.254771Z"
    },
    "scrolled": false
   },
   "outputs": [
    {
     "data": {
      "image/png": "[encoded data removed]",
      "text/plain": [
       "<Figure size 432x288 with 1 Axes>"
      ]
     },
     "metadata": {
      "needs_background": "light"
     },
     "output_type": "display_data"
    }
   ],
   "source": [
    "sns.histplot(data = df[(df['Quantity'] > 0) & (df['Quantity'] < 1000)], x = 'Quantity', bins = 50)\n",
    "set_chart_settings('Histogram - Quantity')"
   ]
  },
  {
   "cell_type": "code",
   "execution_count": 17,
   "id": "b1605604",
   "metadata": {
    "ExecuteTime": {
     "end_time": "2022-06-01T00:44:14.224594Z",
     "start_time": "2022-06-01T00:44:14.153014Z"
    }
   },
   "outputs": [
    {
     "name": "stdout",
     "output_type": "stream",
     "text": [
      "7533 3289 357 236 97\n"
     ]
    }
   ],
   "source": [
    "print(df[df['Quantity'] < 0].shape[0],\n",
    "df[df['Quantity'] > 100].shape[0],\n",
    "df[df['Quantity'] > 500].shape[0],\n",
    "df[df['Quantity'] > 600].shape[0],\n",
    "df[df['Quantity'] > 1000].shape[0])"
   ]
  },
  {
   "cell_type": "code",
   "execution_count": 18,
   "id": "4c7d01c6",
   "metadata": {
    "ExecuteTime": {
     "end_time": "2022-06-01T00:44:14.301380Z",
     "start_time": "2022-06-01T00:44:14.255049Z"
    }
   },
   "outputs": [
    {
     "data": {
      "text/plain": [
       "-1     3331\n",
       "-2     1115\n",
       "-3      472\n",
       "-12     409\n",
       "-4      386\n",
       "-6      366\n",
       "-24     195\n",
       "-5      159\n",
       "-10     134\n",
       "-8      129\n",
       "Name: Quantity, dtype: int64"
      ]
     },
     "execution_count": 18,
     "metadata": {},
     "output_type": "execute_result"
    }
   ],
   "source": [
    "df[df['Quantity'] < 0]['Quantity'].value_counts().head(10)\n"
   ]
  },
  {
   "cell_type": "markdown",
   "id": "c0ffc0f6",
   "metadata": {},
   "source": [
    "***\n",
    "\n",
    "Negative values are pretty similar to positive ones. Looks like they were mistyped, so, as a faster solution, we're going to replace all negative values by positive values, using abs() function."
   ]
  },
  {
   "cell_type": "code",
   "execution_count": 19,
   "id": "f5bc23cc",
   "metadata": {
    "ExecuteTime": {
     "end_time": "2022-06-01T00:44:14.538541Z",
     "start_time": "2022-06-01T00:44:14.315557Z"
    }
   },
   "outputs": [],
   "source": [
    "df['Quantity'] = df['Quantity'].apply(lambda x: abs(x) if x < 0\n",
    "                    else x)"
   ]
  },
  {
   "cell_type": "code",
   "execution_count": 20,
   "id": "d06b4e77",
   "metadata": {
    "ExecuteTime": {
     "end_time": "2022-06-01T00:44:14.555636Z",
     "start_time": "2022-06-01T00:44:14.542392Z"
    }
   },
   "outputs": [
    {
     "name": "stdout",
     "output_type": "stream",
     "text": [
      "1 80995\n",
      "0\n",
      "361878\n"
     ]
    }
   ],
   "source": [
    "print(df['Quantity'].min(), df['Quantity'].max())\n",
    "print(df[df['Quantity'] < 0].shape[0])\n",
    "print(df.shape[0])"
   ]
  },
  {
   "cell_type": "markdown",
   "id": "5b4f2497",
   "metadata": {
    "ExecuteTime": {
     "end_time": "2022-05-30T20:41:11.554021Z",
     "start_time": "2022-05-30T20:41:11.530906Z"
    },
    "heading_collapsed": true
   },
   "source": [
    "## DATA ANALYSIS"
   ]
  },
  {
   "cell_type": "code",
   "execution_count": 21,
   "id": "9e9bfab3",
   "metadata": {
    "ExecuteTime": {
     "end_time": "2022-06-01T00:44:14.593044Z",
     "start_time": "2022-06-01T00:44:14.565551Z"
    },
    "hidden": true
   },
   "outputs": [],
   "source": [
    "df1 = df.copy(deep = True)"
   ]
  },
  {
   "cell_type": "markdown",
   "id": "6ddf6c02",
   "metadata": {
    "hidden": true
   },
   "source": [
    "***\n",
    "\n",
    "We're going to create a revenue column:\n",
    "\n",
    "Quantity sold * Unit Price"
   ]
  },
  {
   "cell_type": "code",
   "execution_count": 22,
   "id": "c918319b",
   "metadata": {
    "ExecuteTime": {
     "end_time": "2022-06-01T00:44:14.695441Z",
     "start_time": "2022-06-01T00:44:14.599864Z"
    },
    "hidden": true
   },
   "outputs": [
    {
     "data": {
      "text/html": [
       "<div>\n",
       "<style scoped>\n",
       "    .dataframe tbody tr th:only-of-type {\n",
       "        vertical-align: middle;\n",
       "    }\n",
       "\n",
       "    .dataframe tbody tr th {\n",
       "        vertical-align: top;\n",
       "    }\n",
       "\n",
       "    .dataframe thead th {\n",
       "        text-align: right;\n",
       "    }\n",
       "</style>\n",
       "<table border=\"1\" class=\"dataframe\">\n",
       "  <thead>\n",
       "    <tr style=\"text-align: right;\">\n",
       "      <th></th>\n",
       "      <th>InvoiceNo</th>\n",
       "      <th>StockCode</th>\n",
       "      <th>Description</th>\n",
       "      <th>Quantity</th>\n",
       "      <th>InvoiceDate</th>\n",
       "      <th>UnitPrice</th>\n",
       "      <th>CustomerID</th>\n",
       "      <th>Country</th>\n",
       "      <th>revenue</th>\n",
       "    </tr>\n",
       "  </thead>\n",
       "  <tbody>\n",
       "    <tr>\n",
       "      <th>498631</th>\n",
       "      <td>578531</td>\n",
       "      <td>22940</td>\n",
       "      <td>FELTCRAFT CHRISTMAS FAIRY</td>\n",
       "      <td>1</td>\n",
       "      <td>2011-11-24 14:40:00</td>\n",
       "      <td>4.25</td>\n",
       "      <td>17364.0</td>\n",
       "      <td>United Kingdom</td>\n",
       "      <td>4.25</td>\n",
       "    </tr>\n",
       "    <tr>\n",
       "      <th>166992</th>\n",
       "      <td>550964</td>\n",
       "      <td>23158</td>\n",
       "      <td>SET OF 5 LUCKY CAT MAGNETS</td>\n",
       "      <td>12</td>\n",
       "      <td>2011-04-21 16:48:00</td>\n",
       "      <td>2.08</td>\n",
       "      <td>15856.0</td>\n",
       "      <td>United Kingdom</td>\n",
       "      <td>24.96</td>\n",
       "    </tr>\n",
       "    <tr>\n",
       "      <th>425929</th>\n",
       "      <td>573340</td>\n",
       "      <td>21975</td>\n",
       "      <td>PACK OF 60 DINOSAUR CAKE CASES</td>\n",
       "      <td>2</td>\n",
       "      <td>2011-10-30 11:55:00</td>\n",
       "      <td>0.55</td>\n",
       "      <td>14159.0</td>\n",
       "      <td>United Kingdom</td>\n",
       "      <td>1.10</td>\n",
       "    </tr>\n",
       "    <tr>\n",
       "      <th>441043</th>\n",
       "      <td>574560</td>\n",
       "      <td>21262</td>\n",
       "      <td>WHITE GOOSE FEATHER CHRISTMAS TREE</td>\n",
       "      <td>6</td>\n",
       "      <td>2011-11-04 15:51:00</td>\n",
       "      <td>2.95</td>\n",
       "      <td>17703.0</td>\n",
       "      <td>United Kingdom</td>\n",
       "      <td>17.70</td>\n",
       "    </tr>\n",
       "    <tr>\n",
       "      <th>476581</th>\n",
       "      <td>577025</td>\n",
       "      <td>23491</td>\n",
       "      <td>VINTAGE JINGLE BELLS HEART</td>\n",
       "      <td>2</td>\n",
       "      <td>2011-11-17 12:54:00</td>\n",
       "      <td>8.25</td>\n",
       "      <td>16161.0</td>\n",
       "      <td>United Kingdom</td>\n",
       "      <td>16.50</td>\n",
       "    </tr>\n",
       "  </tbody>\n",
       "</table>\n",
       "</div>"
      ],
      "text/plain": [
       "       InvoiceNo StockCode                          Description  Quantity  \\\n",
       "498631    578531     22940            FELTCRAFT CHRISTMAS FAIRY         1   \n",
       "166992    550964     23158          SET OF 5 LUCKY CAT MAGNETS         12   \n",
       "425929    573340     21975       PACK OF 60 DINOSAUR CAKE CASES         2   \n",
       "441043    574560     21262  WHITE GOOSE FEATHER CHRISTMAS TREE          6   \n",
       "476581    577025     23491           VINTAGE JINGLE BELLS HEART         2   \n",
       "\n",
       "               InvoiceDate  UnitPrice  CustomerID         Country  revenue  \n",
       "498631 2011-11-24 14:40:00       4.25     17364.0  United Kingdom     4.25  \n",
       "166992 2011-04-21 16:48:00       2.08     15856.0  United Kingdom    24.96  \n",
       "425929 2011-10-30 11:55:00       0.55     14159.0  United Kingdom     1.10  \n",
       "441043 2011-11-04 15:51:00       2.95     17703.0  United Kingdom    17.70  \n",
       "476581 2011-11-17 12:54:00       8.25     16161.0  United Kingdom    16.50  "
      ]
     },
     "execution_count": 22,
     "metadata": {},
     "output_type": "execute_result"
    }
   ],
   "source": [
    "df1['revenue'] = df1['Quantity'] * df1['UnitPrice']\n",
    "df1.sample(5)"
   ]
  },
  {
   "cell_type": "markdown",
   "id": "56f94b7d",
   "metadata": {
    "hidden": true
   },
   "source": [
    "***\n",
    "\n",
    "From InvoiceDate column, we can create some features as day of the week, day name, whether is workday or not, periodof the day, holiday, etc.\n",
    "\n",
    "In this notebook, we're going to create 3 more features, as following:\n",
    "\n",
    "1 - Name of the day\n",
    "\n",
    "2 - Workweek x weekend\n",
    "\n",
    "4 - Day period"
   ]
  },
  {
   "cell_type": "code",
   "execution_count": 23,
   "id": "7950904c",
   "metadata": {
    "ExecuteTime": {
     "end_time": "2022-06-01T00:44:15.041897Z",
     "start_time": "2022-06-01T00:44:14.700814Z"
    },
    "hidden": true
   },
   "outputs": [],
   "source": [
    "# \"spliting\" date and hour\n",
    "df1['date'] = df1['InvoiceDate'].dt.date\n",
    "df1['time'] = df1['InvoiceDate'].dt.time"
   ]
  },
  {
   "cell_type": "code",
   "execution_count": 24,
   "id": "4d06b142",
   "metadata": {
    "ExecuteTime": {
     "end_time": "2022-06-01T00:44:23.086110Z",
     "start_time": "2022-06-01T00:44:15.046506Z"
    },
    "hidden": true
   },
   "outputs": [],
   "source": [
    "# day of the week\n",
    "df1['day_of_week'] = df1['InvoiceDate'].apply(lambda x: x.strftime('%A'))"
   ]
  },
  {
   "cell_type": "code",
   "execution_count": 25,
   "id": "6d0ceb53",
   "metadata": {
    "ExecuteTime": {
     "end_time": "2022-06-01T00:44:23.370958Z",
     "start_time": "2022-06-01T00:44:23.089524Z"
    },
    "hidden": true
   },
   "outputs": [],
   "source": [
    "# Saturday or sunday\n",
    "df1['weekend'] = df1['day_of_week'].apply(lambda x: 1 if x == 'Saturday' or x == 'Sunday'\n",
    "                        else 0)"
   ]
  },
  {
   "cell_type": "code",
   "execution_count": 26,
   "id": "d650cef0",
   "metadata": {
    "ExecuteTime": {
     "end_time": "2022-06-01T00:44:27.874305Z",
     "start_time": "2022-06-01T00:44:23.374562Z"
    },
    "hidden": true
   },
   "outputs": [
    {
     "name": "stdout",
     "output_type": "stream",
     "text": [
      "06:10:00 20:38:00\n"
     ]
    }
   ],
   "source": [
    "# day period\n",
    "print(df1['time'].min(), df1['time'].max())\n",
    "\n",
    "now = datetime.datetime.now()\n",
    "period = now.replace(hour=12, minute=0, second=0, microsecond=0)\n",
    "\n",
    "# creating day period\n",
    "df1['day_period'] = df1['InvoiceDate'].apply(lambda x: 'before_noon' if x.time() < period.time()\n",
    "                                else 'after_noon')\n"
   ]
  },
  {
   "cell_type": "code",
   "execution_count": 27,
   "id": "45ddf9a7",
   "metadata": {
    "ExecuteTime": {
     "end_time": "2022-06-01T00:44:28.930819Z",
     "start_time": "2022-06-01T00:44:27.906017Z"
    },
    "hidden": true,
    "scrolled": true
   },
   "outputs": [
    {
     "name": "stdout",
     "output_type": "stream",
     "text": [
      "06:10:00\n",
      "11:59:00\n",
      "12:00:00\n",
      "20:38:00\n"
     ]
    }
   ],
   "source": [
    "# checking\n",
    "print(df1[df1['day_period'] == 'before_noon']['time'].min())\n",
    "print(df1[df1['day_period'] == 'before_noon']['time'].max())\n",
    "\n",
    "print(df1[df1['day_period'] == 'after_noon']['time'].min())\n",
    "print(df1[df1['day_period'] == 'after_noon']['time'].max())\n"
   ]
  },
  {
   "cell_type": "markdown",
   "id": "3086a26c",
   "metadata": {},
   "source": [
    "## DATA VISUALIZATION"
   ]
  },
  {
   "cell_type": "code",
   "execution_count": 28,
   "id": "4d288d68",
   "metadata": {
    "ExecuteTime": {
     "end_time": "2022-06-01T00:44:29.012220Z",
     "start_time": "2022-06-01T00:44:28.949149Z"
    }
   },
   "outputs": [],
   "source": [
    "df2 = df1.copy(deep = True)"
   ]
  },
  {
   "cell_type": "markdown",
   "id": "2f01b77c",
   "metadata": {},
   "source": [
    "***\n",
    "\n",
    "The final dataset in this section has 14 columns:\n",
    "\n",
    "- 'InvoiceNo'\n",
    "- 'StockCode'\n",
    "- 'Description'\n",
    "- 'Quantity'\n",
    "- 'InvoiceDate',\n",
    "- 'UnitPrice'\n",
    "- 'CustomerID'\n",
    "- 'Country'\n",
    "- 'revenue'\n",
    "- 'date'\n",
    "- 'time',\n",
    "- 'day_of_week'\n",
    "- 'weekend'\n",
    "- 'day_period'\n",
    "\n",
    "To make this section easier, we're going to drop some of these columns, as follows:\n",
    "\n",
    "1. **InvoiceNo**: we don't need this information for the purpose of this analysis\n",
    "\n",
    "2. **StockCode**: No information for the purpose of this analysis\n",
    "\n",
    "3. **Description**: The description column could be a good information, but for now, we're going to focus on others variables that don't need so much cleaning.\n",
    "\n",
    "4. **InvoiceDate**: We've created some other features based on this column, so, we no longer need this variable anymore.\n",
    "\n",
    "5. **Country**: It's all about United Kingdom, so, no need this column either.\n",
    "\n"
   ]
  },
  {
   "cell_type": "code",
   "execution_count": 29,
   "id": "0b857d20",
   "metadata": {
    "ExecuteTime": {
     "end_time": "2022-06-01T00:44:29.085852Z",
     "start_time": "2022-06-01T00:44:29.021979Z"
    }
   },
   "outputs": [],
   "source": [
    "cols = ['InvoiceNo', 'StockCode', 'Description', 'InvoiceDate', 'Country']\n",
    "df2 = df2.drop(columns=(cols))"
   ]
  },
  {
   "cell_type": "code",
   "execution_count": 30,
   "id": "50574ba4",
   "metadata": {
    "ExecuteTime": {
     "end_time": "2022-06-01T00:44:29.141042Z",
     "start_time": "2022-06-01T00:44:29.095518Z"
    }
   },
   "outputs": [
    {
     "data": {
      "text/html": [
       "<div>\n",
       "<style scoped>\n",
       "    .dataframe tbody tr th:only-of-type {\n",
       "        vertical-align: middle;\n",
       "    }\n",
       "\n",
       "    .dataframe tbody tr th {\n",
       "        vertical-align: top;\n",
       "    }\n",
       "\n",
       "    .dataframe thead th {\n",
       "        text-align: right;\n",
       "    }\n",
       "</style>\n",
       "<table border=\"1\" class=\"dataframe\">\n",
       "  <thead>\n",
       "    <tr style=\"text-align: right;\">\n",
       "      <th></th>\n",
       "      <th>Quantity</th>\n",
       "      <th>UnitPrice</th>\n",
       "      <th>CustomerID</th>\n",
       "      <th>revenue</th>\n",
       "      <th>date</th>\n",
       "      <th>time</th>\n",
       "      <th>day_of_week</th>\n",
       "      <th>weekend</th>\n",
       "      <th>day_period</th>\n",
       "    </tr>\n",
       "  </thead>\n",
       "  <tbody>\n",
       "    <tr>\n",
       "      <th>0</th>\n",
       "      <td>6</td>\n",
       "      <td>2.55</td>\n",
       "      <td>17850.0</td>\n",
       "      <td>15.30</td>\n",
       "      <td>2010-12-01</td>\n",
       "      <td>08:26:00</td>\n",
       "      <td>Wednesday</td>\n",
       "      <td>0</td>\n",
       "      <td>before_noon</td>\n",
       "    </tr>\n",
       "    <tr>\n",
       "      <th>1</th>\n",
       "      <td>6</td>\n",
       "      <td>3.39</td>\n",
       "      <td>17850.0</td>\n",
       "      <td>20.34</td>\n",
       "      <td>2010-12-01</td>\n",
       "      <td>08:26:00</td>\n",
       "      <td>Wednesday</td>\n",
       "      <td>0</td>\n",
       "      <td>before_noon</td>\n",
       "    </tr>\n",
       "    <tr>\n",
       "      <th>2</th>\n",
       "      <td>8</td>\n",
       "      <td>2.75</td>\n",
       "      <td>17850.0</td>\n",
       "      <td>22.00</td>\n",
       "      <td>2010-12-01</td>\n",
       "      <td>08:26:00</td>\n",
       "      <td>Wednesday</td>\n",
       "      <td>0</td>\n",
       "      <td>before_noon</td>\n",
       "    </tr>\n",
       "    <tr>\n",
       "      <th>3</th>\n",
       "      <td>6</td>\n",
       "      <td>3.39</td>\n",
       "      <td>17850.0</td>\n",
       "      <td>20.34</td>\n",
       "      <td>2010-12-01</td>\n",
       "      <td>08:26:00</td>\n",
       "      <td>Wednesday</td>\n",
       "      <td>0</td>\n",
       "      <td>before_noon</td>\n",
       "    </tr>\n",
       "    <tr>\n",
       "      <th>4</th>\n",
       "      <td>6</td>\n",
       "      <td>3.39</td>\n",
       "      <td>17850.0</td>\n",
       "      <td>20.34</td>\n",
       "      <td>2010-12-01</td>\n",
       "      <td>08:26:00</td>\n",
       "      <td>Wednesday</td>\n",
       "      <td>0</td>\n",
       "      <td>before_noon</td>\n",
       "    </tr>\n",
       "  </tbody>\n",
       "</table>\n",
       "</div>"
      ],
      "text/plain": [
       "   Quantity  UnitPrice  CustomerID  revenue        date      time day_of_week  \\\n",
       "0         6       2.55     17850.0    15.30  2010-12-01  08:26:00   Wednesday   \n",
       "1         6       3.39     17850.0    20.34  2010-12-01  08:26:00   Wednesday   \n",
       "2         8       2.75     17850.0    22.00  2010-12-01  08:26:00   Wednesday   \n",
       "3         6       3.39     17850.0    20.34  2010-12-01  08:26:00   Wednesday   \n",
       "4         6       3.39     17850.0    20.34  2010-12-01  08:26:00   Wednesday   \n",
       "\n",
       "   weekend   day_period  \n",
       "0        0  before_noon  \n",
       "1        0  before_noon  \n",
       "2        0  before_noon  \n",
       "3        0  before_noon  \n",
       "4        0  before_noon  "
      ]
     },
     "execution_count": 30,
     "metadata": {},
     "output_type": "execute_result"
    }
   ],
   "source": [
    "df2.head()"
   ]
  },
  {
   "cell_type": "markdown",
   "id": "ddde891c",
   "metadata": {},
   "source": [
    "### Quantity"
   ]
  },
  {
   "cell_type": "code",
   "execution_count": 31,
   "id": "181fcd7e",
   "metadata": {
    "ExecuteTime": {
     "end_time": "2022-06-01T00:44:30.781793Z",
     "start_time": "2022-06-01T00:44:29.152159Z"
    }
   },
   "outputs": [
    {
     "data": {
      "image/png": "[encoded data removed]",
      "text/plain": [
       "<Figure size 864x288 with 1 Axes>"
      ]
     },
     "metadata": {
      "needs_background": "light"
     },
     "output_type": "display_data"
    }
   ],
   "source": [
    "plt.figure(figsize = (12,4))\n",
    "\n",
    "ax = sns.lineplot(data = df2[['date', 'Quantity']].groupby('date', as_index= False).sum(),  x = 'date',\n",
    "                  y ='Quantity',\n",
    "                 color = 'cadetblue')\n",
    "set_chart_settings('Quantity by date')"
   ]
  },
  {
   "cell_type": "code",
   "execution_count": 32,
   "id": "7bb3d8e4",
   "metadata": {
    "ExecuteTime": {
     "end_time": "2022-06-01T00:44:31.975310Z",
     "start_time": "2022-06-01T00:44:30.798178Z"
    }
   },
   "outputs": [
    {
     "data": {
      "image/png": "[encoded data removed]",
      "text/plain": [
       "<Figure size 864x288 with 1 Axes>"
      ]
     },
     "metadata": {
      "needs_background": "light"
     },
     "output_type": "display_data"
    }
   ],
   "source": [
    "plt.figure(figsize = (12,4))\n",
    "\n",
    "order = ['Monday', 'Tuesday', 'Wednesday', 'Thursday', 'Friday', 'Saturday', 'Sunday']\n",
    "ax = sns.barplot(data = df2[['day_of_week', 'Quantity']].groupby('day_of_week', as_index= False).sum(),  x = 'day_of_week',\n",
    "                 y ='Quantity',\n",
    "                color = 'cadetblue',\n",
    "                order = order)\n",
    "set_chart_settings('Quantity by day of the week')"
   ]
  },
  {
   "cell_type": "code",
   "execution_count": 33,
   "id": "0f72489e",
   "metadata": {
    "ExecuteTime": {
     "end_time": "2022-06-01T00:44:32.492577Z",
     "start_time": "2022-06-01T00:44:31.989856Z"
    }
   },
   "outputs": [
    {
     "data": {
      "image/png": "[encoded data removed]",
      "text/plain": [
       "<Figure size 864x288 with 1 Axes>"
      ]
     },
     "metadata": {
      "needs_background": "light"
     },
     "output_type": "display_data"
    }
   ],
   "source": [
    "plt.figure(figsize = (12,4))\n",
    "\n",
    "\n",
    "ax = sns.barplot(data = df2[['weekend', 'Quantity']].groupby('weekend', as_index= False).sum(),\n",
    "                 x = 'weekend',\n",
    "                 y ='Quantity',\n",
    "                color = 'cadetblue',\n",
    ")\n",
    "set_chart_settings('Quantity - weekday or weekend')"
   ]
  },
  {
   "cell_type": "code",
   "execution_count": 34,
   "id": "8a68a394",
   "metadata": {
    "ExecuteTime": {
     "end_time": "2022-06-01T00:44:33.023217Z",
     "start_time": "2022-06-01T00:44:32.504559Z"
    }
   },
   "outputs": [
    {
     "data": {
      "image/png": "[encoded data removed]",
      "text/plain": [
       "<Figure size 864x288 with 1 Axes>"
      ]
     },
     "metadata": {
      "needs_background": "light"
     },
     "output_type": "display_data"
    }
   ],
   "source": [
    "plt.figure(figsize = (12,4))\n",
    "\n",
    "\n",
    "ax = sns.barplot(data = df2[['day_period', 'Quantity']].groupby('day_period', as_index= False).sum(),\n",
    "                 x = 'day_period',\n",
    "                 y ='Quantity',\n",
    "                color = 'cadetblue',\n",
    ")\n",
    "set_chart_settings('Quantity by Period of the Day')"
   ]
  },
  {
   "cell_type": "code",
   "execution_count": null,
   "id": "858a1f5e",
   "metadata": {},
   "outputs": [],
   "source": []
  }
 ],
 "metadata": {
  "kernelspec": {
   "display_name": "ds-projects",
   "language": "python",
   "name": "ds-projects"
  },
  "language_info": {
   "codemirror_mode": {
    "name": "ipython",
    "version": 3
   },
   "file_extension": ".py",
   "mimetype": "text/x-python",
   "name": "python",
   "nbconvert_exporter": "python",
   "pygments_lexer": "ipython3",
   "version": "3.9.7"
  },
  "toc": {
   "base_numbering": 1,
   "nav_menu": {},
   "number_sections": true,
   "sideBar": true,
   "skip_h1_title": false,
   "title_cell": "Table of Contents",
   "title_sidebar": "Contents",
   "toc_cell": false,
   "toc_position": {},
   "toc_section_display": true,
   "toc_window_display": false
  }
 },
 "nbformat": 4,
 "nbformat_minor": 5
}
