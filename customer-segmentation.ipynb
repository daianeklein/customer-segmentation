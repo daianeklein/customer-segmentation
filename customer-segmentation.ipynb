{
 "cells": [
  {
   "cell_type": "markdown",
   "id": "321573c0",
   "metadata": {},
   "source": [
    "# CUSTOMER SEGMENTATION\n",
    "\n",
    "***\n",
    "\n",
    "## ONLINE RETAIL DATASET\n"
   ]
  },
  {
   "cell_type": "markdown",
   "id": "5728a633",
   "metadata": {},
   "source": [
    "<img class=\"thumb\" data-pin-no-hover=\"true\" src=\"https://img.freepik.com/free-vector/postman-giving-parcel-customer-post-office_74855-4811.jpg\" srcset=\"https://img.freepik.com/free-vector/postman-giving-parcel-customer-post-office_74855-4811.jpg?w=360&amp;t=st=1653945277~exp=1653945877~hmac=d3581d05c98c9b3969397a7751afba9c8a034b9fcd2bae877bc980001964963c 360w, https://img.freepik.com/free-vector/postman-giving-parcel-customer-post-office_74855-4811.jpg?w=740&amp;t=st=1653945277~exp=1653945877~hmac=d3581d05c98c9b3969397a7751afba9c8a034b9fcd2bae877bc980001964963c 740w, https://img.freepik.com/free-vector/postman-giving-parcel-customer-post-office_74855-4811.jpg?w=826&amp;t=st=1653945277~exp=1653945877~hmac=d3581d05c98c9b3969397a7751afba9c8a034b9fcd2bae877bc980001964963c 826w, https://img.freepik.com/free-vector/postman-giving-parcel-customer-post-office_74855-4811.jpg?w=900&amp;t=st=1653945277~exp=1653945877~hmac=d3581d05c98c9b3969397a7751afba9c8a034b9fcd2bae877bc980001964963c 900w, https://img.freepik.com/free-vector/postman-giving-parcel-customer-post-office_74855-4811.jpg?w=996&amp;t=st=1653945277~exp=1653945877~hmac=d3581d05c98c9b3969397a7751afba9c8a034b9fcd2bae877bc980001964963c 996w, https://img.freepik.com/free-vector/postman-giving-parcel-customer-post-office_74855-4811.jpg?w=1060&amp;t=st=1653945277~exp=1653945877~hmac=d3581d05c98c9b3969397a7751afba9c8a034b9fcd2bae877bc980001964963c 1060w, https://img.freepik.com/free-vector/postman-giving-parcel-customer-post-office_74855-4811.jpg?w=1380&amp;t=st=1653945277~exp=1653945877~hmac=d3581d05c98c9b3969397a7751afba9c8a034b9fcd2bae877bc980001964963c 1380w, https://img.freepik.com/free-vector/postman-giving-parcel-customer-post-office_74855-4811.jpg?w=1480&amp;t=st=1653945277~exp=1653945877~hmac=d3581d05c98c9b3969397a7751afba9c8a034b9fcd2bae877bc980001964963c 1480w, https://img.freepik.com/free-vector/postman-giving-parcel-customer-post-office_74855-4811.jpg?w=1800&amp;t=st=1653945277~exp=1653945877~hmac=d3581d05c98c9b3969397a7751afba9c8a034b9fcd2bae877bc980001964963c 1800w, https://img.freepik.com/free-vector/postman-giving-parcel-customer-post-office_74855-4811.jpg?w=2000&amp;t=st=1653945277~exp=1653945877~hmac=d3581d05c98c9b3969397a7751afba9c8a034b9fcd2bae877bc980001964963c 2000w\" width=\"626\" height=\"250\" >"
   ]
  },
  {
   "cell_type": "markdown",
   "id": "accf49cc",
   "metadata": {},
   "source": [
    "At vero eos et accusamus et iusto odio dignissimos ducimus qui blanditiis praesentium voluptatum deleniti atque corrupti quos dolores et quas molestias excepturi sint occaecati cupiditate non provident, similique sunt in culpa qui officia deserunt mollitia animi, id est laborum et dolorum fuga. Et harum quidem rerum facilis est et expedita \n",
    "\n",
    "distinctio. Nam libero tempore, cum soluta nobis est eligendi optio cumque nihil impedit quo minus id quod maxime placeat facere possimus, omnis voluptas assumenda est, omnis dolor repellendus. Temporibus autem quibusdam et aut \n",
    "\n",
    "officiis debitis aut rerum necessitatibus saepe eveniet ut et voluptates repudiandae sint et molestiae non recusandae. Itaque earum rerum hic tenetur a sapiente delectus, ut aut reiciendis voluptatibus maiores alias consequatur aut perferendis doloribus asperiores repellat."
   ]
  },
  {
   "cell_type": "markdown",
   "id": "a01c36ae",
   "metadata": {},
   "source": [
    "# LIBS "
   ]
  },
  {
   "cell_type": "code",
   "execution_count": 1,
   "id": "854bc6f6",
   "metadata": {
    "ExecuteTime": {
     "end_time": "2022-05-30T21:46:00.736992Z",
     "start_time": "2022-05-30T21:45:59.386444Z"
    }
   },
   "outputs": [],
   "source": [
    "import pandas                   as pd\n",
    "import seaborn                  as sns\n",
    "import matplotlib.pyplot        as plt\n",
    "\n",
    "\n",
    "import datetime"
   ]
  },
  {
   "cell_type": "markdown",
   "id": "f5a28db1",
   "metadata": {},
   "source": [
    "# DATASET"
   ]
  },
  {
   "cell_type": "code",
   "execution_count": 2,
   "id": "8bf4c39f",
   "metadata": {
    "ExecuteTime": {
     "end_time": "2022-05-30T21:46:01.481313Z",
     "start_time": "2022-05-30T21:46:00.739617Z"
    }
   },
   "outputs": [
    {
     "data": {
      "text/html": [
       "<div>\n",
       "<style scoped>\n",
       "    .dataframe tbody tr th:only-of-type {\n",
       "        vertical-align: middle;\n",
       "    }\n",
       "\n",
       "    .dataframe tbody tr th {\n",
       "        vertical-align: top;\n",
       "    }\n",
       "\n",
       "    .dataframe thead th {\n",
       "        text-align: right;\n",
       "    }\n",
       "</style>\n",
       "<table border=\"1\" class=\"dataframe\">\n",
       "  <thead>\n",
       "    <tr style=\"text-align: right;\">\n",
       "      <th></th>\n",
       "      <th>InvoiceNo</th>\n",
       "      <th>StockCode</th>\n",
       "      <th>Description</th>\n",
       "      <th>Quantity</th>\n",
       "      <th>InvoiceDate</th>\n",
       "      <th>UnitPrice</th>\n",
       "      <th>CustomerID</th>\n",
       "      <th>Country</th>\n",
       "    </tr>\n",
       "  </thead>\n",
       "  <tbody>\n",
       "    <tr>\n",
       "      <th>0</th>\n",
       "      <td>536365</td>\n",
       "      <td>85123A</td>\n",
       "      <td>WHITE HANGING HEART T-LIGHT HOLDER</td>\n",
       "      <td>6</td>\n",
       "      <td>12/1/2010 8:26</td>\n",
       "      <td>2.55</td>\n",
       "      <td>17850.0</td>\n",
       "      <td>United Kingdom</td>\n",
       "    </tr>\n",
       "    <tr>\n",
       "      <th>1</th>\n",
       "      <td>536365</td>\n",
       "      <td>71053</td>\n",
       "      <td>WHITE METAL LANTERN</td>\n",
       "      <td>6</td>\n",
       "      <td>12/1/2010 8:26</td>\n",
       "      <td>3.39</td>\n",
       "      <td>17850.0</td>\n",
       "      <td>United Kingdom</td>\n",
       "    </tr>\n",
       "    <tr>\n",
       "      <th>2</th>\n",
       "      <td>536365</td>\n",
       "      <td>84406B</td>\n",
       "      <td>CREAM CUPID HEARTS COAT HANGER</td>\n",
       "      <td>8</td>\n",
       "      <td>12/1/2010 8:26</td>\n",
       "      <td>2.75</td>\n",
       "      <td>17850.0</td>\n",
       "      <td>United Kingdom</td>\n",
       "    </tr>\n",
       "    <tr>\n",
       "      <th>3</th>\n",
       "      <td>536365</td>\n",
       "      <td>84029G</td>\n",
       "      <td>KNITTED UNION FLAG HOT WATER BOTTLE</td>\n",
       "      <td>6</td>\n",
       "      <td>12/1/2010 8:26</td>\n",
       "      <td>3.39</td>\n",
       "      <td>17850.0</td>\n",
       "      <td>United Kingdom</td>\n",
       "    </tr>\n",
       "    <tr>\n",
       "      <th>4</th>\n",
       "      <td>536365</td>\n",
       "      <td>84029E</td>\n",
       "      <td>RED WOOLLY HOTTIE WHITE HEART.</td>\n",
       "      <td>6</td>\n",
       "      <td>12/1/2010 8:26</td>\n",
       "      <td>3.39</td>\n",
       "      <td>17850.0</td>\n",
       "      <td>United Kingdom</td>\n",
       "    </tr>\n",
       "  </tbody>\n",
       "</table>\n",
       "</div>"
      ],
      "text/plain": [
       "  InvoiceNo StockCode                          Description  Quantity  \\\n",
       "0    536365    85123A   WHITE HANGING HEART T-LIGHT HOLDER         6   \n",
       "1    536365     71053                  WHITE METAL LANTERN         6   \n",
       "2    536365    84406B       CREAM CUPID HEARTS COAT HANGER         8   \n",
       "3    536365    84029G  KNITTED UNION FLAG HOT WATER BOTTLE         6   \n",
       "4    536365    84029E       RED WOOLLY HOTTIE WHITE HEART.         6   \n",
       "\n",
       "      InvoiceDate  UnitPrice  CustomerID         Country  \n",
       "0  12/1/2010 8:26       2.55     17850.0  United Kingdom  \n",
       "1  12/1/2010 8:26       3.39     17850.0  United Kingdom  \n",
       "2  12/1/2010 8:26       2.75     17850.0  United Kingdom  \n",
       "3  12/1/2010 8:26       3.39     17850.0  United Kingdom  \n",
       "4  12/1/2010 8:26       3.39     17850.0  United Kingdom  "
      ]
     },
     "execution_count": 2,
     "metadata": {},
     "output_type": "execute_result"
    }
   ],
   "source": [
    "df = pd.read_csv('data.csv', encoding = 'latin-1')\n",
    "df.head()"
   ]
  },
  {
   "cell_type": "code",
   "execution_count": 3,
   "id": "dddeb821",
   "metadata": {
    "ExecuteTime": {
     "end_time": "2022-05-30T21:46:01.491559Z",
     "start_time": "2022-05-30T21:46:01.485664Z"
    }
   },
   "outputs": [
    {
     "data": {
      "text/plain": [
       "(541909, 8)"
      ]
     },
     "execution_count": 3,
     "metadata": {},
     "output_type": "execute_result"
    }
   ],
   "source": [
    "df.shape"
   ]
  },
  {
   "cell_type": "markdown",
   "id": "433f4cd9",
   "metadata": {},
   "source": [
    "# DATA ANALYSIS "
   ]
  },
  {
   "cell_type": "markdown",
   "id": "31c688ff",
   "metadata": {},
   "source": [
    "## GENERAL ANALYSIS"
   ]
  },
  {
   "cell_type": "code",
   "execution_count": 4,
   "id": "3c2112b9",
   "metadata": {
    "ExecuteTime": {
     "end_time": "2022-05-30T21:46:01.511796Z",
     "start_time": "2022-05-30T21:46:01.498234Z"
    }
   },
   "outputs": [
    {
     "data": {
      "text/plain": [
       "InvoiceNo       object\n",
       "StockCode       object\n",
       "Description     object\n",
       "Quantity         int64\n",
       "InvoiceDate     object\n",
       "UnitPrice      float64\n",
       "CustomerID     float64\n",
       "Country         object\n",
       "dtype: object"
      ]
     },
     "execution_count": 4,
     "metadata": {},
     "output_type": "execute_result"
    }
   ],
   "source": [
    "df.dtypes"
   ]
  },
  {
   "cell_type": "code",
   "execution_count": 5,
   "id": "492438c3",
   "metadata": {
    "ExecuteTime": {
     "end_time": "2022-05-30T21:46:04.845890Z",
     "start_time": "2022-05-30T21:46:01.518010Z"
    }
   },
   "outputs": [],
   "source": [
    "df['InvoiceDate'] = df['InvoiceDate'].astype('datetime64')"
   ]
  },
  {
   "cell_type": "code",
   "execution_count": 6,
   "id": "8d35a0a2",
   "metadata": {
    "ExecuteTime": {
     "end_time": "2022-05-30T21:46:04.973405Z",
     "start_time": "2022-05-30T21:46:04.848332Z"
    },
    "scrolled": true
   },
   "outputs": [
    {
     "data": {
      "text/plain": [
       "InvoiceNo           0\n",
       "StockCode           0\n",
       "Description      1454\n",
       "Quantity            0\n",
       "InvoiceDate         0\n",
       "UnitPrice           0\n",
       "CustomerID     135080\n",
       "Country             0\n",
       "dtype: int64"
      ]
     },
     "execution_count": 6,
     "metadata": {},
     "output_type": "execute_result"
    }
   ],
   "source": [
    "df.isna().sum()"
   ]
  },
  {
   "cell_type": "code",
   "execution_count": 7,
   "id": "52028d01",
   "metadata": {
    "ExecuteTime": {
     "end_time": "2022-05-30T21:46:05.040249Z",
     "start_time": "2022-05-30T21:46:04.977347Z"
    },
    "scrolled": false
   },
   "outputs": [
    {
     "data": {
      "text/plain": [
       "Country\n",
       "United Kingdom          361878\n",
       "Germany                   9495\n",
       "France                    8491\n",
       "EIRE                      7485\n",
       "Spain                     2533\n",
       "Netherlands               2371\n",
       "Belgium                   2069\n",
       "Switzerland               1877\n",
       "Portugal                  1480\n",
       "Australia                 1259\n",
       "Norway                    1086\n",
       "Italy                      803\n",
       "Channel Islands            758\n",
       "Finland                    695\n",
       "Cyprus                     622\n",
       "Sweden                     462\n",
       "Austria                    401\n",
       "Denmark                    389\n",
       "Japan                      358\n",
       "Poland                     341\n",
       "USA                        291\n",
       "Israel                     250\n",
       "Unspecified                244\n",
       "Singapore                  229\n",
       "Iceland                    182\n",
       "Canada                     151\n",
       "Greece                     146\n",
       "Malta                      127\n",
       "United Arab Emirates        68\n",
       "European Community          61\n",
       "RSA                         58\n",
       "Lebanon                     45\n",
       "Lithuania                   35\n",
       "Brazil                      32\n",
       "Czech Republic              30\n",
       "Bahrain                     17\n",
       "Saudi Arabia                10\n",
       "Hong Kong                    0\n",
       "Name: CustomerID, dtype: int64"
      ]
     },
     "execution_count": 7,
     "metadata": {},
     "output_type": "execute_result"
    }
   ],
   "source": [
    "df.groupby('Country')['CustomerID'].count().sort_values(ascending = False)"
   ]
  },
  {
   "cell_type": "code",
   "execution_count": 8,
   "id": "95ee417e",
   "metadata": {
    "ExecuteTime": {
     "end_time": "2022-05-30T21:46:05.107284Z",
     "start_time": "2022-05-30T21:46:05.046608Z"
    },
    "scrolled": false
   },
   "outputs": [
    {
     "data": {
      "text/plain": [
       "United Kingdom          0.914320\n",
       "Germany                 0.017521\n",
       "France                  0.015790\n",
       "EIRE                    0.015124\n",
       "Spain                   0.004674\n",
       "Netherlands             0.004375\n",
       "Belgium                 0.003818\n",
       "Switzerland             0.003694\n",
       "Portugal                0.002803\n",
       "Australia               0.002323\n",
       "Norway                  0.002004\n",
       "Italy                   0.001482\n",
       "Channel Islands         0.001399\n",
       "Finland                 0.001283\n",
       "Cyprus                  0.001148\n",
       "Sweden                  0.000853\n",
       "Unspecified             0.000823\n",
       "Austria                 0.000740\n",
       "Denmark                 0.000718\n",
       "Japan                   0.000661\n",
       "Poland                  0.000629\n",
       "Israel                  0.000548\n",
       "USA                     0.000537\n",
       "Hong Kong               0.000531\n",
       "Singapore               0.000423\n",
       "Iceland                 0.000336\n",
       "Canada                  0.000279\n",
       "Greece                  0.000269\n",
       "Malta                   0.000234\n",
       "United Arab Emirates    0.000125\n",
       "European Community      0.000113\n",
       "RSA                     0.000107\n",
       "Lebanon                 0.000083\n",
       "Lithuania               0.000065\n",
       "Brazil                  0.000059\n",
       "Czech Republic          0.000055\n",
       "Bahrain                 0.000035\n",
       "Saudi Arabia            0.000018\n",
       "Name: Country, dtype: float64"
      ]
     },
     "execution_count": 8,
     "metadata": {},
     "output_type": "execute_result"
    }
   ],
   "source": [
    "df['Country'].value_counts(normalize = True)"
   ]
  },
  {
   "cell_type": "markdown",
   "id": "021a0aee",
   "metadata": {},
   "source": [
    "***\n",
    "\n",
    "More than 90% of the data is from UK sales, so, we're going to restrict the data to the United Kingdom only.\n",
    "\n",
    "\n",
    "As we could see in the previous snippet, null customer ID represents 135.080 records. Our analysis is based on clients, so we're going to drop all missing values in this column as well."
   ]
  },
  {
   "cell_type": "code",
   "execution_count": 9,
   "id": "5de241dd",
   "metadata": {
    "ExecuteTime": {
     "end_time": "2022-05-30T21:46:05.262983Z",
     "start_time": "2022-05-30T21:46:05.110330Z"
    }
   },
   "outputs": [],
   "source": [
    "df = df[df['Country'] == 'United Kingdom']\n",
    "\n",
    "# removing null values\n",
    "df = df[~df['CustomerID'].isnull()]"
   ]
  },
  {
   "cell_type": "code",
   "execution_count": 10,
   "id": "8c45a982",
   "metadata": {
    "ExecuteTime": {
     "end_time": "2022-05-30T21:46:05.284312Z",
     "start_time": "2022-05-30T21:46:05.266569Z"
    },
    "scrolled": false
   },
   "outputs": [
    {
     "name": "stdout",
     "output_type": "stream",
     "text": [
      "2010-12-01 08:26:00\n",
      "2011-12-09 12:49:00\n",
      "0.0\n",
      "38970.0\n"
     ]
    }
   ],
   "source": [
    "# checking negative values or incorrect dates\n",
    "print(df['InvoiceDate'].min())\n",
    "print(df['InvoiceDate'].max())\n",
    "\n",
    "print(df['UnitPrice'].min())\n",
    "print(df['UnitPrice'].max())"
   ]
  },
  {
   "cell_type": "markdown",
   "id": "5b4f2497",
   "metadata": {
    "ExecuteTime": {
     "end_time": "2022-05-30T20:41:11.554021Z",
     "start_time": "2022-05-30T20:41:11.530906Z"
    }
   },
   "source": [
    "## DATA ANALYSIS"
   ]
  },
  {
   "cell_type": "code",
   "execution_count": 11,
   "id": "9e9bfab3",
   "metadata": {
    "ExecuteTime": {
     "end_time": "2022-05-30T21:46:05.305134Z",
     "start_time": "2022-05-30T21:46:05.287448Z"
    }
   },
   "outputs": [],
   "source": [
    "df1 = df.copy(deep = True)"
   ]
  },
  {
   "cell_type": "markdown",
   "id": "6ddf6c02",
   "metadata": {},
   "source": [
    "***\n",
    "\n",
    "To make the analysis easier, we're going to create a revenue column:\n",
    "\n",
    "Quantity sold * Unit Price"
   ]
  },
  {
   "cell_type": "code",
   "execution_count": 12,
   "id": "c918319b",
   "metadata": {
    "ExecuteTime": {
     "end_time": "2022-05-30T21:46:05.366716Z",
     "start_time": "2022-05-30T21:46:05.307709Z"
    }
   },
   "outputs": [
    {
     "data": {
      "text/html": [
       "<div>\n",
       "<style scoped>\n",
       "    .dataframe tbody tr th:only-of-type {\n",
       "        vertical-align: middle;\n",
       "    }\n",
       "\n",
       "    .dataframe tbody tr th {\n",
       "        vertical-align: top;\n",
       "    }\n",
       "\n",
       "    .dataframe thead th {\n",
       "        text-align: right;\n",
       "    }\n",
       "</style>\n",
       "<table border=\"1\" class=\"dataframe\">\n",
       "  <thead>\n",
       "    <tr style=\"text-align: right;\">\n",
       "      <th></th>\n",
       "      <th>InvoiceNo</th>\n",
       "      <th>StockCode</th>\n",
       "      <th>Description</th>\n",
       "      <th>Quantity</th>\n",
       "      <th>InvoiceDate</th>\n",
       "      <th>UnitPrice</th>\n",
       "      <th>CustomerID</th>\n",
       "      <th>Country</th>\n",
       "      <th>revenue</th>\n",
       "    </tr>\n",
       "  </thead>\n",
       "  <tbody>\n",
       "    <tr>\n",
       "      <th>432686</th>\n",
       "      <td>573886</td>\n",
       "      <td>21985</td>\n",
       "      <td>PACK OF 12 HEARTS DESIGN TISSUES</td>\n",
       "      <td>24</td>\n",
       "      <td>2011-11-01 13:37:00</td>\n",
       "      <td>0.39</td>\n",
       "      <td>14401.0</td>\n",
       "      <td>United Kingdom</td>\n",
       "      <td>9.36</td>\n",
       "    </tr>\n",
       "    <tr>\n",
       "      <th>254368</th>\n",
       "      <td>C559309</td>\n",
       "      <td>22727</td>\n",
       "      <td>ALARM CLOCK BAKELIKE RED</td>\n",
       "      <td>-4</td>\n",
       "      <td>2011-07-07 13:18:00</td>\n",
       "      <td>3.75</td>\n",
       "      <td>17719.0</td>\n",
       "      <td>United Kingdom</td>\n",
       "      <td>-15.00</td>\n",
       "    </tr>\n",
       "    <tr>\n",
       "      <th>411358</th>\n",
       "      <td>572216</td>\n",
       "      <td>23367</td>\n",
       "      <td>SET 12 COLOUR PENCILS SPACEBOY</td>\n",
       "      <td>5</td>\n",
       "      <td>2011-10-21 12:56:00</td>\n",
       "      <td>0.65</td>\n",
       "      <td>16015.0</td>\n",
       "      <td>United Kingdom</td>\n",
       "      <td>3.25</td>\n",
       "    </tr>\n",
       "    <tr>\n",
       "      <th>207511</th>\n",
       "      <td>554992</td>\n",
       "      <td>21912</td>\n",
       "      <td>VINTAGE SNAKES &amp; LADDERS</td>\n",
       "      <td>2</td>\n",
       "      <td>2011-05-29 14:08:00</td>\n",
       "      <td>3.75</td>\n",
       "      <td>16686.0</td>\n",
       "      <td>United Kingdom</td>\n",
       "      <td>7.50</td>\n",
       "    </tr>\n",
       "    <tr>\n",
       "      <th>422871</th>\n",
       "      <td>573123</td>\n",
       "      <td>22619</td>\n",
       "      <td>SET OF 6 SOLDIER SKITTLES</td>\n",
       "      <td>4</td>\n",
       "      <td>2011-10-27 16:23:00</td>\n",
       "      <td>3.75</td>\n",
       "      <td>13654.0</td>\n",
       "      <td>United Kingdom</td>\n",
       "      <td>15.00</td>\n",
       "    </tr>\n",
       "  </tbody>\n",
       "</table>\n",
       "</div>"
      ],
      "text/plain": [
       "       InvoiceNo StockCode                        Description  Quantity  \\\n",
       "432686    573886     21985  PACK OF 12 HEARTS DESIGN TISSUES         24   \n",
       "254368   C559309     22727          ALARM CLOCK BAKELIKE RED         -4   \n",
       "411358    572216     23367    SET 12 COLOUR PENCILS SPACEBOY          5   \n",
       "207511    554992     21912           VINTAGE SNAKES & LADDERS         2   \n",
       "422871    573123     22619          SET OF 6 SOLDIER SKITTLES         4   \n",
       "\n",
       "               InvoiceDate  UnitPrice  CustomerID         Country  revenue  \n",
       "432686 2011-11-01 13:37:00       0.39     14401.0  United Kingdom     9.36  \n",
       "254368 2011-07-07 13:18:00       3.75     17719.0  United Kingdom   -15.00  \n",
       "411358 2011-10-21 12:56:00       0.65     16015.0  United Kingdom     3.25  \n",
       "207511 2011-05-29 14:08:00       3.75     16686.0  United Kingdom     7.50  \n",
       "422871 2011-10-27 16:23:00       3.75     13654.0  United Kingdom    15.00  "
      ]
     },
     "execution_count": 12,
     "metadata": {},
     "output_type": "execute_result"
    }
   ],
   "source": [
    "df1['revenue'] = df1['Quantity'] * df1['UnitPrice']\n",
    "df1.sample(5)"
   ]
  },
  {
   "cell_type": "markdown",
   "id": "56f94b7d",
   "metadata": {},
   "source": [
    "***\n",
    "\n",
    "From InvoiceDate column, we can create some features as day of the week, day name, whether is workday or not, periodof the day, holiday, etc."
   ]
  },
  {
   "cell_type": "markdown",
   "id": "8927dcdf",
   "metadata": {},
   "source": [
    "1 - Name of the day\n",
    "\n",
    "2 - Workweek x weekend\n",
    "\n",
    "4 - Day period"
   ]
  },
  {
   "cell_type": "code",
   "execution_count": 13,
   "id": "7950904c",
   "metadata": {
    "ExecuteTime": {
     "end_time": "2022-05-30T21:46:05.691229Z",
     "start_time": "2022-05-30T21:46:05.369469Z"
    }
   },
   "outputs": [],
   "source": [
    "# \"spliting\" date and hour\n",
    "df1['date'] = df1['InvoiceDate'].dt.date\n",
    "df1['time'] = df1['InvoiceDate'].dt.time"
   ]
  },
  {
   "cell_type": "code",
   "execution_count": 14,
   "id": "4d06b142",
   "metadata": {
    "ExecuteTime": {
     "end_time": "2022-05-30T21:46:10.368324Z",
     "start_time": "2022-05-30T21:46:05.693599Z"
    }
   },
   "outputs": [],
   "source": [
    "# day of the week\n",
    "df1['day_of_week'] = df1['InvoiceDate'].apply(lambda x: x.strftime('%A'))"
   ]
  },
  {
   "cell_type": "code",
   "execution_count": 15,
   "id": "6d0ceb53",
   "metadata": {
    "ExecuteTime": {
     "end_time": "2022-05-30T21:46:10.552005Z",
     "start_time": "2022-05-30T21:46:10.370633Z"
    }
   },
   "outputs": [],
   "source": [
    "# Saturday or sunday\n",
    "df1['weekend'] = df1['day_of_week'].apply(lambda x: 1 if x == 'Saturday' or x == 'Sunday'\n",
    "                        else 0)"
   ]
  },
  {
   "cell_type": "code",
   "execution_count": 16,
   "id": "d650cef0",
   "metadata": {
    "ExecuteTime": {
     "end_time": "2022-05-30T21:46:10.614708Z",
     "start_time": "2022-05-30T21:46:10.554331Z"
    }
   },
   "outputs": [
    {
     "name": "stdout",
     "output_type": "stream",
     "text": [
      "06:10:00 20:38:00\n"
     ]
    }
   ],
   "source": [
    "# day period\n",
    "print(df1['time'].min(), df1['time'].max())"
   ]
  },
  {
   "cell_type": "code",
   "execution_count": null,
   "id": "10e09f6c",
   "metadata": {},
   "outputs": [],
   "source": []
  }
 ],
 "metadata": {
  "kernelspec": {
   "display_name": "ds-projects",
   "language": "python",
   "name": "ds-projects"
  },
  "language_info": {
   "codemirror_mode": {
    "name": "ipython",
    "version": 3
   },
   "file_extension": ".py",
   "mimetype": "text/x-python",
   "name": "python",
   "nbconvert_exporter": "python",
   "pygments_lexer": "ipython3",
   "version": "3.9.7"
  },
  "toc": {
   "base_numbering": 1,
   "nav_menu": {},
   "number_sections": true,
   "sideBar": true,
   "skip_h1_title": false,
   "title_cell": "Table of Contents",
   "title_sidebar": "Contents",
   "toc_cell": false,
   "toc_position": {},
   "toc_section_display": true,
   "toc_window_display": false
  }
 },
 "nbformat": 4,
 "nbformat_minor": 5
}
